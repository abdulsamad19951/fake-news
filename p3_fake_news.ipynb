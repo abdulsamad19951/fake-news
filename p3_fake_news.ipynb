{
  "nbformat": 4,
  "nbformat_minor": 0,
  "metadata": {
    "colab": {
      "name": "p3_fake_news.ipynb",
      "provenance": [],
      "collapsed_sections": []
    },
    "kernelspec": {
      "display_name": "Python 3",
      "language": "python",
      "name": "python3"
    },
    "language_info": {
      "codemirror_mode": {
        "name": "ipython",
        "version": 3
      },
      "file_extension": ".py",
      "mimetype": "text/x-python",
      "name": "python",
      "nbconvert_exporter": "python",
      "pygments_lexer": "ipython3",
      "version": "3.8.3"
    },
    "widgets": {
      "application/vnd.jupyter.widget-state+json": {
        "bee56091443f407b972dea945c181fdb": {
          "model_module": "@jupyter-widgets/controls",
          "model_name": "HBoxModel",
          "state": {
            "_view_name": "HBoxView",
            "_dom_classes": [],
            "_model_name": "HBoxModel",
            "_view_module": "@jupyter-widgets/controls",
            "_model_module_version": "1.5.0",
            "_view_count": null,
            "_view_module_version": "1.5.0",
            "box_style": "",
            "layout": "IPY_MODEL_5af1886a722d4d4bbb2001880d174224",
            "_model_module": "@jupyter-widgets/controls",
            "children": [
              "IPY_MODEL_df88d97ad54844e18e3cea306abdb1c2",
              "IPY_MODEL_98a6f78156c34cdb9eb4c9c8e1af4051"
            ]
          }
        },
        "5af1886a722d4d4bbb2001880d174224": {
          "model_module": "@jupyter-widgets/base",
          "model_name": "LayoutModel",
          "state": {
            "_view_name": "LayoutView",
            "grid_template_rows": null,
            "right": null,
            "justify_content": null,
            "_view_module": "@jupyter-widgets/base",
            "overflow": null,
            "_model_module_version": "1.2.0",
            "_view_count": null,
            "flex_flow": null,
            "width": null,
            "min_width": null,
            "border": null,
            "align_items": null,
            "bottom": null,
            "_model_module": "@jupyter-widgets/base",
            "top": null,
            "grid_column": null,
            "overflow_y": null,
            "overflow_x": null,
            "grid_auto_flow": null,
            "grid_area": null,
            "grid_template_columns": null,
            "flex": null,
            "_model_name": "LayoutModel",
            "justify_items": null,
            "grid_row": null,
            "max_height": null,
            "align_content": null,
            "visibility": null,
            "align_self": null,
            "height": null,
            "min_height": null,
            "padding": null,
            "grid_auto_rows": null,
            "grid_gap": null,
            "max_width": null,
            "order": null,
            "_view_module_version": "1.2.0",
            "grid_template_areas": null,
            "object_position": null,
            "object_fit": null,
            "grid_auto_columns": null,
            "margin": null,
            "display": null,
            "left": null
          }
        },
        "df88d97ad54844e18e3cea306abdb1c2": {
          "model_module": "@jupyter-widgets/controls",
          "model_name": "FloatProgressModel",
          "state": {
            "_view_name": "ProgressView",
            "style": "IPY_MODEL_e0aa8035899a4cbda30bd4a81abfa364",
            "_dom_classes": [],
            "description": "Downloading: 100%",
            "_model_name": "FloatProgressModel",
            "bar_style": "success",
            "max": 481,
            "_view_module": "@jupyter-widgets/controls",
            "_model_module_version": "1.5.0",
            "value": 481,
            "_view_count": null,
            "_view_module_version": "1.5.0",
            "orientation": "horizontal",
            "min": 0,
            "description_tooltip": null,
            "_model_module": "@jupyter-widgets/controls",
            "layout": "IPY_MODEL_afe3b3b4383b43beb9473ecd30e76e67"
          }
        },
        "98a6f78156c34cdb9eb4c9c8e1af4051": {
          "model_module": "@jupyter-widgets/controls",
          "model_name": "HTMLModel",
          "state": {
            "_view_name": "HTMLView",
            "style": "IPY_MODEL_80799f34db8a4c65ac8a6efbb8ed751e",
            "_dom_classes": [],
            "description": "",
            "_model_name": "HTMLModel",
            "placeholder": "​",
            "_view_module": "@jupyter-widgets/controls",
            "_model_module_version": "1.5.0",
            "value": " 481/481 [00:00&lt;00:00, 1.92kB/s]",
            "_view_count": null,
            "_view_module_version": "1.5.0",
            "description_tooltip": null,
            "_model_module": "@jupyter-widgets/controls",
            "layout": "IPY_MODEL_e12a0134b7fb4203b6358b701f876414"
          }
        },
        "e0aa8035899a4cbda30bd4a81abfa364": {
          "model_module": "@jupyter-widgets/controls",
          "model_name": "ProgressStyleModel",
          "state": {
            "_view_name": "StyleView",
            "_model_name": "ProgressStyleModel",
            "description_width": "initial",
            "_view_module": "@jupyter-widgets/base",
            "_model_module_version": "1.5.0",
            "_view_count": null,
            "_view_module_version": "1.2.0",
            "bar_color": null,
            "_model_module": "@jupyter-widgets/controls"
          }
        },
        "afe3b3b4383b43beb9473ecd30e76e67": {
          "model_module": "@jupyter-widgets/base",
          "model_name": "LayoutModel",
          "state": {
            "_view_name": "LayoutView",
            "grid_template_rows": null,
            "right": null,
            "justify_content": null,
            "_view_module": "@jupyter-widgets/base",
            "overflow": null,
            "_model_module_version": "1.2.0",
            "_view_count": null,
            "flex_flow": null,
            "width": null,
            "min_width": null,
            "border": null,
            "align_items": null,
            "bottom": null,
            "_model_module": "@jupyter-widgets/base",
            "top": null,
            "grid_column": null,
            "overflow_y": null,
            "overflow_x": null,
            "grid_auto_flow": null,
            "grid_area": null,
            "grid_template_columns": null,
            "flex": null,
            "_model_name": "LayoutModel",
            "justify_items": null,
            "grid_row": null,
            "max_height": null,
            "align_content": null,
            "visibility": null,
            "align_self": null,
            "height": null,
            "min_height": null,
            "padding": null,
            "grid_auto_rows": null,
            "grid_gap": null,
            "max_width": null,
            "order": null,
            "_view_module_version": "1.2.0",
            "grid_template_areas": null,
            "object_position": null,
            "object_fit": null,
            "grid_auto_columns": null,
            "margin": null,
            "display": null,
            "left": null
          }
        },
        "80799f34db8a4c65ac8a6efbb8ed751e": {
          "model_module": "@jupyter-widgets/controls",
          "model_name": "DescriptionStyleModel",
          "state": {
            "_view_name": "StyleView",
            "_model_name": "DescriptionStyleModel",
            "description_width": "",
            "_view_module": "@jupyter-widgets/base",
            "_model_module_version": "1.5.0",
            "_view_count": null,
            "_view_module_version": "1.2.0",
            "_model_module": "@jupyter-widgets/controls"
          }
        },
        "e12a0134b7fb4203b6358b701f876414": {
          "model_module": "@jupyter-widgets/base",
          "model_name": "LayoutModel",
          "state": {
            "_view_name": "LayoutView",
            "grid_template_rows": null,
            "right": null,
            "justify_content": null,
            "_view_module": "@jupyter-widgets/base",
            "overflow": null,
            "_model_module_version": "1.2.0",
            "_view_count": null,
            "flex_flow": null,
            "width": null,
            "min_width": null,
            "border": null,
            "align_items": null,
            "bottom": null,
            "_model_module": "@jupyter-widgets/base",
            "top": null,
            "grid_column": null,
            "overflow_y": null,
            "overflow_x": null,
            "grid_auto_flow": null,
            "grid_area": null,
            "grid_template_columns": null,
            "flex": null,
            "_model_name": "LayoutModel",
            "justify_items": null,
            "grid_row": null,
            "max_height": null,
            "align_content": null,
            "visibility": null,
            "align_self": null,
            "height": null,
            "min_height": null,
            "padding": null,
            "grid_auto_rows": null,
            "grid_gap": null,
            "max_width": null,
            "order": null,
            "_view_module_version": "1.2.0",
            "grid_template_areas": null,
            "object_position": null,
            "object_fit": null,
            "grid_auto_columns": null,
            "margin": null,
            "display": null,
            "left": null
          }
        },
        "9c41c3f27e5340428f84c383a339fdba": {
          "model_module": "@jupyter-widgets/controls",
          "model_name": "HBoxModel",
          "state": {
            "_view_name": "HBoxView",
            "_dom_classes": [],
            "_model_name": "HBoxModel",
            "_view_module": "@jupyter-widgets/controls",
            "_model_module_version": "1.5.0",
            "_view_count": null,
            "_view_module_version": "1.5.0",
            "box_style": "",
            "layout": "IPY_MODEL_7fe1d7287af04d409bd16cf73c84ff68",
            "_model_module": "@jupyter-widgets/controls",
            "children": [
              "IPY_MODEL_8de1af7a33b94d03926e897a5e0c553f",
              "IPY_MODEL_55a890fe9fd34e06b1904af97f8a4a2d"
            ]
          }
        },
        "7fe1d7287af04d409bd16cf73c84ff68": {
          "model_module": "@jupyter-widgets/base",
          "model_name": "LayoutModel",
          "state": {
            "_view_name": "LayoutView",
            "grid_template_rows": null,
            "right": null,
            "justify_content": null,
            "_view_module": "@jupyter-widgets/base",
            "overflow": null,
            "_model_module_version": "1.2.0",
            "_view_count": null,
            "flex_flow": null,
            "width": null,
            "min_width": null,
            "border": null,
            "align_items": null,
            "bottom": null,
            "_model_module": "@jupyter-widgets/base",
            "top": null,
            "grid_column": null,
            "overflow_y": null,
            "overflow_x": null,
            "grid_auto_flow": null,
            "grid_area": null,
            "grid_template_columns": null,
            "flex": null,
            "_model_name": "LayoutModel",
            "justify_items": null,
            "grid_row": null,
            "max_height": null,
            "align_content": null,
            "visibility": null,
            "align_self": null,
            "height": null,
            "min_height": null,
            "padding": null,
            "grid_auto_rows": null,
            "grid_gap": null,
            "max_width": null,
            "order": null,
            "_view_module_version": "1.2.0",
            "grid_template_areas": null,
            "object_position": null,
            "object_fit": null,
            "grid_auto_columns": null,
            "margin": null,
            "display": null,
            "left": null
          }
        },
        "8de1af7a33b94d03926e897a5e0c553f": {
          "model_module": "@jupyter-widgets/controls",
          "model_name": "FloatProgressModel",
          "state": {
            "_view_name": "ProgressView",
            "style": "IPY_MODEL_1983762b7b874226aab97fad6cf99668",
            "_dom_classes": [],
            "description": "Downloading: 100%",
            "_model_name": "FloatProgressModel",
            "bar_style": "success",
            "max": 501200538,
            "_view_module": "@jupyter-widgets/controls",
            "_model_module_version": "1.5.0",
            "value": 501200538,
            "_view_count": null,
            "_view_module_version": "1.5.0",
            "orientation": "horizontal",
            "min": 0,
            "description_tooltip": null,
            "_model_module": "@jupyter-widgets/controls",
            "layout": "IPY_MODEL_c80370ea3ab446f481c3215f3dd4bab5"
          }
        },
        "55a890fe9fd34e06b1904af97f8a4a2d": {
          "model_module": "@jupyter-widgets/controls",
          "model_name": "HTMLModel",
          "state": {
            "_view_name": "HTMLView",
            "style": "IPY_MODEL_c5b3a5f80ae7492f962b1dd8a45e492a",
            "_dom_classes": [],
            "description": "",
            "_model_name": "HTMLModel",
            "placeholder": "​",
            "_view_module": "@jupyter-widgets/controls",
            "_model_module_version": "1.5.0",
            "value": " 501M/501M [00:10&lt;00:00, 49.6MB/s]",
            "_view_count": null,
            "_view_module_version": "1.5.0",
            "description_tooltip": null,
            "_model_module": "@jupyter-widgets/controls",
            "layout": "IPY_MODEL_3adfec0c3314446baa8d84f7bdb058ff"
          }
        },
        "1983762b7b874226aab97fad6cf99668": {
          "model_module": "@jupyter-widgets/controls",
          "model_name": "ProgressStyleModel",
          "state": {
            "_view_name": "StyleView",
            "_model_name": "ProgressStyleModel",
            "description_width": "initial",
            "_view_module": "@jupyter-widgets/base",
            "_model_module_version": "1.5.0",
            "_view_count": null,
            "_view_module_version": "1.2.0",
            "bar_color": null,
            "_model_module": "@jupyter-widgets/controls"
          }
        },
        "c80370ea3ab446f481c3215f3dd4bab5": {
          "model_module": "@jupyter-widgets/base",
          "model_name": "LayoutModel",
          "state": {
            "_view_name": "LayoutView",
            "grid_template_rows": null,
            "right": null,
            "justify_content": null,
            "_view_module": "@jupyter-widgets/base",
            "overflow": null,
            "_model_module_version": "1.2.0",
            "_view_count": null,
            "flex_flow": null,
            "width": null,
            "min_width": null,
            "border": null,
            "align_items": null,
            "bottom": null,
            "_model_module": "@jupyter-widgets/base",
            "top": null,
            "grid_column": null,
            "overflow_y": null,
            "overflow_x": null,
            "grid_auto_flow": null,
            "grid_area": null,
            "grid_template_columns": null,
            "flex": null,
            "_model_name": "LayoutModel",
            "justify_items": null,
            "grid_row": null,
            "max_height": null,
            "align_content": null,
            "visibility": null,
            "align_self": null,
            "height": null,
            "min_height": null,
            "padding": null,
            "grid_auto_rows": null,
            "grid_gap": null,
            "max_width": null,
            "order": null,
            "_view_module_version": "1.2.0",
            "grid_template_areas": null,
            "object_position": null,
            "object_fit": null,
            "grid_auto_columns": null,
            "margin": null,
            "display": null,
            "left": null
          }
        },
        "c5b3a5f80ae7492f962b1dd8a45e492a": {
          "model_module": "@jupyter-widgets/controls",
          "model_name": "DescriptionStyleModel",
          "state": {
            "_view_name": "StyleView",
            "_model_name": "DescriptionStyleModel",
            "description_width": "",
            "_view_module": "@jupyter-widgets/base",
            "_model_module_version": "1.5.0",
            "_view_count": null,
            "_view_module_version": "1.2.0",
            "_model_module": "@jupyter-widgets/controls"
          }
        },
        "3adfec0c3314446baa8d84f7bdb058ff": {
          "model_module": "@jupyter-widgets/base",
          "model_name": "LayoutModel",
          "state": {
            "_view_name": "LayoutView",
            "grid_template_rows": null,
            "right": null,
            "justify_content": null,
            "_view_module": "@jupyter-widgets/base",
            "overflow": null,
            "_model_module_version": "1.2.0",
            "_view_count": null,
            "flex_flow": null,
            "width": null,
            "min_width": null,
            "border": null,
            "align_items": null,
            "bottom": null,
            "_model_module": "@jupyter-widgets/base",
            "top": null,
            "grid_column": null,
            "overflow_y": null,
            "overflow_x": null,
            "grid_auto_flow": null,
            "grid_area": null,
            "grid_template_columns": null,
            "flex": null,
            "_model_name": "LayoutModel",
            "justify_items": null,
            "grid_row": null,
            "max_height": null,
            "align_content": null,
            "visibility": null,
            "align_self": null,
            "height": null,
            "min_height": null,
            "padding": null,
            "grid_auto_rows": null,
            "grid_gap": null,
            "max_width": null,
            "order": null,
            "_view_module_version": "1.2.0",
            "grid_template_areas": null,
            "object_position": null,
            "object_fit": null,
            "grid_auto_columns": null,
            "margin": null,
            "display": null,
            "left": null
          }
        },
        "6bcf300d40944b02ba89a6740d527979": {
          "model_module": "@jupyter-widgets/controls",
          "model_name": "HBoxModel",
          "state": {
            "_view_name": "HBoxView",
            "_dom_classes": [],
            "_model_name": "HBoxModel",
            "_view_module": "@jupyter-widgets/controls",
            "_model_module_version": "1.5.0",
            "_view_count": null,
            "_view_module_version": "1.5.0",
            "box_style": "",
            "layout": "IPY_MODEL_62d39ebce505440f935748a545aef584",
            "_model_module": "@jupyter-widgets/controls",
            "children": [
              "IPY_MODEL_11ce7a837f9549cdbd30d59ac0c46004",
              "IPY_MODEL_687661bc026a4deab9d070c732df03e9"
            ]
          }
        },
        "62d39ebce505440f935748a545aef584": {
          "model_module": "@jupyter-widgets/base",
          "model_name": "LayoutModel",
          "state": {
            "_view_name": "LayoutView",
            "grid_template_rows": null,
            "right": null,
            "justify_content": null,
            "_view_module": "@jupyter-widgets/base",
            "overflow": null,
            "_model_module_version": "1.2.0",
            "_view_count": null,
            "flex_flow": null,
            "width": null,
            "min_width": null,
            "border": null,
            "align_items": null,
            "bottom": null,
            "_model_module": "@jupyter-widgets/base",
            "top": null,
            "grid_column": null,
            "overflow_y": null,
            "overflow_x": null,
            "grid_auto_flow": null,
            "grid_area": null,
            "grid_template_columns": null,
            "flex": null,
            "_model_name": "LayoutModel",
            "justify_items": null,
            "grid_row": null,
            "max_height": null,
            "align_content": null,
            "visibility": null,
            "align_self": null,
            "height": null,
            "min_height": null,
            "padding": null,
            "grid_auto_rows": null,
            "grid_gap": null,
            "max_width": null,
            "order": null,
            "_view_module_version": "1.2.0",
            "grid_template_areas": null,
            "object_position": null,
            "object_fit": null,
            "grid_auto_columns": null,
            "margin": null,
            "display": null,
            "left": null
          }
        },
        "11ce7a837f9549cdbd30d59ac0c46004": {
          "model_module": "@jupyter-widgets/controls",
          "model_name": "FloatProgressModel",
          "state": {
            "_view_name": "ProgressView",
            "style": "IPY_MODEL_d7c3066263ee4f8e91b19537d973ea33",
            "_dom_classes": [],
            "description": "Downloading: 100%",
            "_model_name": "FloatProgressModel",
            "bar_style": "success",
            "max": 898823,
            "_view_module": "@jupyter-widgets/controls",
            "_model_module_version": "1.5.0",
            "value": 898823,
            "_view_count": null,
            "_view_module_version": "1.5.0",
            "orientation": "horizontal",
            "min": 0,
            "description_tooltip": null,
            "_model_module": "@jupyter-widgets/controls",
            "layout": "IPY_MODEL_8c7b880c06a8459d95d48dab02f5c609"
          }
        },
        "687661bc026a4deab9d070c732df03e9": {
          "model_module": "@jupyter-widgets/controls",
          "model_name": "HTMLModel",
          "state": {
            "_view_name": "HTMLView",
            "style": "IPY_MODEL_632706c4db644ab59e45ef58e8f4a6ba",
            "_dom_classes": [],
            "description": "",
            "_model_name": "HTMLModel",
            "placeholder": "​",
            "_view_module": "@jupyter-widgets/controls",
            "_model_module_version": "1.5.0",
            "value": " 899k/899k [00:01&lt;00:00, 760kB/s]",
            "_view_count": null,
            "_view_module_version": "1.5.0",
            "description_tooltip": null,
            "_model_module": "@jupyter-widgets/controls",
            "layout": "IPY_MODEL_e0750a189d814ab3a1a122d69d214f5a"
          }
        },
        "d7c3066263ee4f8e91b19537d973ea33": {
          "model_module": "@jupyter-widgets/controls",
          "model_name": "ProgressStyleModel",
          "state": {
            "_view_name": "StyleView",
            "_model_name": "ProgressStyleModel",
            "description_width": "initial",
            "_view_module": "@jupyter-widgets/base",
            "_model_module_version": "1.5.0",
            "_view_count": null,
            "_view_module_version": "1.2.0",
            "bar_color": null,
            "_model_module": "@jupyter-widgets/controls"
          }
        },
        "8c7b880c06a8459d95d48dab02f5c609": {
          "model_module": "@jupyter-widgets/base",
          "model_name": "LayoutModel",
          "state": {
            "_view_name": "LayoutView",
            "grid_template_rows": null,
            "right": null,
            "justify_content": null,
            "_view_module": "@jupyter-widgets/base",
            "overflow": null,
            "_model_module_version": "1.2.0",
            "_view_count": null,
            "flex_flow": null,
            "width": null,
            "min_width": null,
            "border": null,
            "align_items": null,
            "bottom": null,
            "_model_module": "@jupyter-widgets/base",
            "top": null,
            "grid_column": null,
            "overflow_y": null,
            "overflow_x": null,
            "grid_auto_flow": null,
            "grid_area": null,
            "grid_template_columns": null,
            "flex": null,
            "_model_name": "LayoutModel",
            "justify_items": null,
            "grid_row": null,
            "max_height": null,
            "align_content": null,
            "visibility": null,
            "align_self": null,
            "height": null,
            "min_height": null,
            "padding": null,
            "grid_auto_rows": null,
            "grid_gap": null,
            "max_width": null,
            "order": null,
            "_view_module_version": "1.2.0",
            "grid_template_areas": null,
            "object_position": null,
            "object_fit": null,
            "grid_auto_columns": null,
            "margin": null,
            "display": null,
            "left": null
          }
        },
        "632706c4db644ab59e45ef58e8f4a6ba": {
          "model_module": "@jupyter-widgets/controls",
          "model_name": "DescriptionStyleModel",
          "state": {
            "_view_name": "StyleView",
            "_model_name": "DescriptionStyleModel",
            "description_width": "",
            "_view_module": "@jupyter-widgets/base",
            "_model_module_version": "1.5.0",
            "_view_count": null,
            "_view_module_version": "1.2.0",
            "_model_module": "@jupyter-widgets/controls"
          }
        },
        "e0750a189d814ab3a1a122d69d214f5a": {
          "model_module": "@jupyter-widgets/base",
          "model_name": "LayoutModel",
          "state": {
            "_view_name": "LayoutView",
            "grid_template_rows": null,
            "right": null,
            "justify_content": null,
            "_view_module": "@jupyter-widgets/base",
            "overflow": null,
            "_model_module_version": "1.2.0",
            "_view_count": null,
            "flex_flow": null,
            "width": null,
            "min_width": null,
            "border": null,
            "align_items": null,
            "bottom": null,
            "_model_module": "@jupyter-widgets/base",
            "top": null,
            "grid_column": null,
            "overflow_y": null,
            "overflow_x": null,
            "grid_auto_flow": null,
            "grid_area": null,
            "grid_template_columns": null,
            "flex": null,
            "_model_name": "LayoutModel",
            "justify_items": null,
            "grid_row": null,
            "max_height": null,
            "align_content": null,
            "visibility": null,
            "align_self": null,
            "height": null,
            "min_height": null,
            "padding": null,
            "grid_auto_rows": null,
            "grid_gap": null,
            "max_width": null,
            "order": null,
            "_view_module_version": "1.2.0",
            "grid_template_areas": null,
            "object_position": null,
            "object_fit": null,
            "grid_auto_columns": null,
            "margin": null,
            "display": null,
            "left": null
          }
        },
        "e98b24472fd842fbace0325fc546b443": {
          "model_module": "@jupyter-widgets/controls",
          "model_name": "HBoxModel",
          "state": {
            "_view_name": "HBoxView",
            "_dom_classes": [],
            "_model_name": "HBoxModel",
            "_view_module": "@jupyter-widgets/controls",
            "_model_module_version": "1.5.0",
            "_view_count": null,
            "_view_module_version": "1.5.0",
            "box_style": "",
            "layout": "IPY_MODEL_e48b6eb4443f424d8e7685c09fbed452",
            "_model_module": "@jupyter-widgets/controls",
            "children": [
              "IPY_MODEL_8ed7303b00014540b4a9d711fea07758",
              "IPY_MODEL_47d03fa0e79a48dcaad2d6e49c960c40"
            ]
          }
        },
        "e48b6eb4443f424d8e7685c09fbed452": {
          "model_module": "@jupyter-widgets/base",
          "model_name": "LayoutModel",
          "state": {
            "_view_name": "LayoutView",
            "grid_template_rows": null,
            "right": null,
            "justify_content": null,
            "_view_module": "@jupyter-widgets/base",
            "overflow": null,
            "_model_module_version": "1.2.0",
            "_view_count": null,
            "flex_flow": null,
            "width": null,
            "min_width": null,
            "border": null,
            "align_items": null,
            "bottom": null,
            "_model_module": "@jupyter-widgets/base",
            "top": null,
            "grid_column": null,
            "overflow_y": null,
            "overflow_x": null,
            "grid_auto_flow": null,
            "grid_area": null,
            "grid_template_columns": null,
            "flex": null,
            "_model_name": "LayoutModel",
            "justify_items": null,
            "grid_row": null,
            "max_height": null,
            "align_content": null,
            "visibility": null,
            "align_self": null,
            "height": null,
            "min_height": null,
            "padding": null,
            "grid_auto_rows": null,
            "grid_gap": null,
            "max_width": null,
            "order": null,
            "_view_module_version": "1.2.0",
            "grid_template_areas": null,
            "object_position": null,
            "object_fit": null,
            "grid_auto_columns": null,
            "margin": null,
            "display": null,
            "left": null
          }
        },
        "8ed7303b00014540b4a9d711fea07758": {
          "model_module": "@jupyter-widgets/controls",
          "model_name": "FloatProgressModel",
          "state": {
            "_view_name": "ProgressView",
            "style": "IPY_MODEL_e4b7844358254d50a3bd7be177065974",
            "_dom_classes": [],
            "description": "Downloading: 100%",
            "_model_name": "FloatProgressModel",
            "bar_style": "success",
            "max": 456318,
            "_view_module": "@jupyter-widgets/controls",
            "_model_module_version": "1.5.0",
            "value": 456318,
            "_view_count": null,
            "_view_module_version": "1.5.0",
            "orientation": "horizontal",
            "min": 0,
            "description_tooltip": null,
            "_model_module": "@jupyter-widgets/controls",
            "layout": "IPY_MODEL_365956b8a8b24ed6aa8e48599bbad84a"
          }
        },
        "47d03fa0e79a48dcaad2d6e49c960c40": {
          "model_module": "@jupyter-widgets/controls",
          "model_name": "HTMLModel",
          "state": {
            "_view_name": "HTMLView",
            "style": "IPY_MODEL_4e07f79381f64b78bc140f1169dafe1c",
            "_dom_classes": [],
            "description": "",
            "_model_name": "HTMLModel",
            "placeholder": "​",
            "_view_module": "@jupyter-widgets/controls",
            "_model_module_version": "1.5.0",
            "value": " 456k/456k [00:00&lt;00:00, 1.22MB/s]",
            "_view_count": null,
            "_view_module_version": "1.5.0",
            "description_tooltip": null,
            "_model_module": "@jupyter-widgets/controls",
            "layout": "IPY_MODEL_b2614002598d40d192b0810d5b679a0f"
          }
        },
        "e4b7844358254d50a3bd7be177065974": {
          "model_module": "@jupyter-widgets/controls",
          "model_name": "ProgressStyleModel",
          "state": {
            "_view_name": "StyleView",
            "_model_name": "ProgressStyleModel",
            "description_width": "initial",
            "_view_module": "@jupyter-widgets/base",
            "_model_module_version": "1.5.0",
            "_view_count": null,
            "_view_module_version": "1.2.0",
            "bar_color": null,
            "_model_module": "@jupyter-widgets/controls"
          }
        },
        "365956b8a8b24ed6aa8e48599bbad84a": {
          "model_module": "@jupyter-widgets/base",
          "model_name": "LayoutModel",
          "state": {
            "_view_name": "LayoutView",
            "grid_template_rows": null,
            "right": null,
            "justify_content": null,
            "_view_module": "@jupyter-widgets/base",
            "overflow": null,
            "_model_module_version": "1.2.0",
            "_view_count": null,
            "flex_flow": null,
            "width": null,
            "min_width": null,
            "border": null,
            "align_items": null,
            "bottom": null,
            "_model_module": "@jupyter-widgets/base",
            "top": null,
            "grid_column": null,
            "overflow_y": null,
            "overflow_x": null,
            "grid_auto_flow": null,
            "grid_area": null,
            "grid_template_columns": null,
            "flex": null,
            "_model_name": "LayoutModel",
            "justify_items": null,
            "grid_row": null,
            "max_height": null,
            "align_content": null,
            "visibility": null,
            "align_self": null,
            "height": null,
            "min_height": null,
            "padding": null,
            "grid_auto_rows": null,
            "grid_gap": null,
            "max_width": null,
            "order": null,
            "_view_module_version": "1.2.0",
            "grid_template_areas": null,
            "object_position": null,
            "object_fit": null,
            "grid_auto_columns": null,
            "margin": null,
            "display": null,
            "left": null
          }
        },
        "4e07f79381f64b78bc140f1169dafe1c": {
          "model_module": "@jupyter-widgets/controls",
          "model_name": "DescriptionStyleModel",
          "state": {
            "_view_name": "StyleView",
            "_model_name": "DescriptionStyleModel",
            "description_width": "",
            "_view_module": "@jupyter-widgets/base",
            "_model_module_version": "1.5.0",
            "_view_count": null,
            "_view_module_version": "1.2.0",
            "_model_module": "@jupyter-widgets/controls"
          }
        },
        "b2614002598d40d192b0810d5b679a0f": {
          "model_module": "@jupyter-widgets/base",
          "model_name": "LayoutModel",
          "state": {
            "_view_name": "LayoutView",
            "grid_template_rows": null,
            "right": null,
            "justify_content": null,
            "_view_module": "@jupyter-widgets/base",
            "overflow": null,
            "_model_module_version": "1.2.0",
            "_view_count": null,
            "flex_flow": null,
            "width": null,
            "min_width": null,
            "border": null,
            "align_items": null,
            "bottom": null,
            "_model_module": "@jupyter-widgets/base",
            "top": null,
            "grid_column": null,
            "overflow_y": null,
            "overflow_x": null,
            "grid_auto_flow": null,
            "grid_area": null,
            "grid_template_columns": null,
            "flex": null,
            "_model_name": "LayoutModel",
            "justify_items": null,
            "grid_row": null,
            "max_height": null,
            "align_content": null,
            "visibility": null,
            "align_self": null,
            "height": null,
            "min_height": null,
            "padding": null,
            "grid_auto_rows": null,
            "grid_gap": null,
            "max_width": null,
            "order": null,
            "_view_module_version": "1.2.0",
            "grid_template_areas": null,
            "object_position": null,
            "object_fit": null,
            "grid_auto_columns": null,
            "margin": null,
            "display": null,
            "left": null
          }
        },
        "844ca97e6a194795886e4d025d802983": {
          "model_module": "@jupyter-widgets/controls",
          "model_name": "HBoxModel",
          "state": {
            "_view_name": "HBoxView",
            "_dom_classes": [],
            "_model_name": "HBoxModel",
            "_view_module": "@jupyter-widgets/controls",
            "_model_module_version": "1.5.0",
            "_view_count": null,
            "_view_module_version": "1.5.0",
            "box_style": "",
            "layout": "IPY_MODEL_05dfc162888e4262b90271bff0c76bd0",
            "_model_module": "@jupyter-widgets/controls",
            "children": [
              "IPY_MODEL_0a2af1be15fe4b11bb72f338b77e3d5c",
              "IPY_MODEL_728a99c90f214c85a413e4e8fd0007a7"
            ]
          }
        },
        "05dfc162888e4262b90271bff0c76bd0": {
          "model_module": "@jupyter-widgets/base",
          "model_name": "LayoutModel",
          "state": {
            "_view_name": "LayoutView",
            "grid_template_rows": null,
            "right": null,
            "justify_content": null,
            "_view_module": "@jupyter-widgets/base",
            "overflow": null,
            "_model_module_version": "1.2.0",
            "_view_count": null,
            "flex_flow": null,
            "width": null,
            "min_width": null,
            "border": null,
            "align_items": null,
            "bottom": null,
            "_model_module": "@jupyter-widgets/base",
            "top": null,
            "grid_column": null,
            "overflow_y": null,
            "overflow_x": null,
            "grid_auto_flow": null,
            "grid_area": null,
            "grid_template_columns": null,
            "flex": null,
            "_model_name": "LayoutModel",
            "justify_items": null,
            "grid_row": null,
            "max_height": null,
            "align_content": null,
            "visibility": null,
            "align_self": null,
            "height": null,
            "min_height": null,
            "padding": null,
            "grid_auto_rows": null,
            "grid_gap": null,
            "max_width": null,
            "order": null,
            "_view_module_version": "1.2.0",
            "grid_template_areas": null,
            "object_position": null,
            "object_fit": null,
            "grid_auto_columns": null,
            "margin": null,
            "display": null,
            "left": null
          }
        },
        "0a2af1be15fe4b11bb72f338b77e3d5c": {
          "model_module": "@jupyter-widgets/controls",
          "model_name": "FloatProgressModel",
          "state": {
            "_view_name": "ProgressView",
            "style": "IPY_MODEL_697150d55a0b4a96a689c3fd536196d5",
            "_dom_classes": [],
            "description": "Downloading: 100%",
            "_model_name": "FloatProgressModel",
            "bar_style": "success",
            "max": 512,
            "_view_module": "@jupyter-widgets/controls",
            "_model_module_version": "1.5.0",
            "value": 512,
            "_view_count": null,
            "_view_module_version": "1.5.0",
            "orientation": "horizontal",
            "min": 0,
            "description_tooltip": null,
            "_model_module": "@jupyter-widgets/controls",
            "layout": "IPY_MODEL_9ae8844583664332853b4061d7f712cc"
          }
        },
        "728a99c90f214c85a413e4e8fd0007a7": {
          "model_module": "@jupyter-widgets/controls",
          "model_name": "HTMLModel",
          "state": {
            "_view_name": "HTMLView",
            "style": "IPY_MODEL_1cce0accc7054f4f99d67b19a03b67c4",
            "_dom_classes": [],
            "description": "",
            "_model_name": "HTMLModel",
            "placeholder": "​",
            "_view_module": "@jupyter-widgets/controls",
            "_model_module_version": "1.5.0",
            "value": " 512/512 [00:02&lt;00:00, 223B/s]",
            "_view_count": null,
            "_view_module_version": "1.5.0",
            "description_tooltip": null,
            "_model_module": "@jupyter-widgets/controls",
            "layout": "IPY_MODEL_01e66ff5d0bd486ca96de56c9402ae00"
          }
        },
        "697150d55a0b4a96a689c3fd536196d5": {
          "model_module": "@jupyter-widgets/controls",
          "model_name": "ProgressStyleModel",
          "state": {
            "_view_name": "StyleView",
            "_model_name": "ProgressStyleModel",
            "description_width": "initial",
            "_view_module": "@jupyter-widgets/base",
            "_model_module_version": "1.5.0",
            "_view_count": null,
            "_view_module_version": "1.2.0",
            "bar_color": null,
            "_model_module": "@jupyter-widgets/controls"
          }
        },
        "9ae8844583664332853b4061d7f712cc": {
          "model_module": "@jupyter-widgets/base",
          "model_name": "LayoutModel",
          "state": {
            "_view_name": "LayoutView",
            "grid_template_rows": null,
            "right": null,
            "justify_content": null,
            "_view_module": "@jupyter-widgets/base",
            "overflow": null,
            "_model_module_version": "1.2.0",
            "_view_count": null,
            "flex_flow": null,
            "width": null,
            "min_width": null,
            "border": null,
            "align_items": null,
            "bottom": null,
            "_model_module": "@jupyter-widgets/base",
            "top": null,
            "grid_column": null,
            "overflow_y": null,
            "overflow_x": null,
            "grid_auto_flow": null,
            "grid_area": null,
            "grid_template_columns": null,
            "flex": null,
            "_model_name": "LayoutModel",
            "justify_items": null,
            "grid_row": null,
            "max_height": null,
            "align_content": null,
            "visibility": null,
            "align_self": null,
            "height": null,
            "min_height": null,
            "padding": null,
            "grid_auto_rows": null,
            "grid_gap": null,
            "max_width": null,
            "order": null,
            "_view_module_version": "1.2.0",
            "grid_template_areas": null,
            "object_position": null,
            "object_fit": null,
            "grid_auto_columns": null,
            "margin": null,
            "display": null,
            "left": null
          }
        },
        "1cce0accc7054f4f99d67b19a03b67c4": {
          "model_module": "@jupyter-widgets/controls",
          "model_name": "DescriptionStyleModel",
          "state": {
            "_view_name": "StyleView",
            "_model_name": "DescriptionStyleModel",
            "description_width": "",
            "_view_module": "@jupyter-widgets/base",
            "_model_module_version": "1.5.0",
            "_view_count": null,
            "_view_module_version": "1.2.0",
            "_model_module": "@jupyter-widgets/controls"
          }
        },
        "01e66ff5d0bd486ca96de56c9402ae00": {
          "model_module": "@jupyter-widgets/base",
          "model_name": "LayoutModel",
          "state": {
            "_view_name": "LayoutView",
            "grid_template_rows": null,
            "right": null,
            "justify_content": null,
            "_view_module": "@jupyter-widgets/base",
            "overflow": null,
            "_model_module_version": "1.2.0",
            "_view_count": null,
            "flex_flow": null,
            "width": null,
            "min_width": null,
            "border": null,
            "align_items": null,
            "bottom": null,
            "_model_module": "@jupyter-widgets/base",
            "top": null,
            "grid_column": null,
            "overflow_y": null,
            "overflow_x": null,
            "grid_auto_flow": null,
            "grid_area": null,
            "grid_template_columns": null,
            "flex": null,
            "_model_name": "LayoutModel",
            "justify_items": null,
            "grid_row": null,
            "max_height": null,
            "align_content": null,
            "visibility": null,
            "align_self": null,
            "height": null,
            "min_height": null,
            "padding": null,
            "grid_auto_rows": null,
            "grid_gap": null,
            "max_width": null,
            "order": null,
            "_view_module_version": "1.2.0",
            "grid_template_areas": null,
            "object_position": null,
            "object_fit": null,
            "grid_auto_columns": null,
            "margin": null,
            "display": null,
            "left": null
          }
        },
        "46e392b8df834ea8a61ef428eb24f85a": {
          "model_module": "@jupyter-widgets/controls",
          "model_name": "HBoxModel",
          "state": {
            "_view_name": "HBoxView",
            "_dom_classes": [],
            "_model_name": "HBoxModel",
            "_view_module": "@jupyter-widgets/controls",
            "_model_module_version": "1.5.0",
            "_view_count": null,
            "_view_module_version": "1.5.0",
            "box_style": "",
            "layout": "IPY_MODEL_52da62364cc4476cb0d4496681d482da",
            "_model_module": "@jupyter-widgets/controls",
            "children": [
              "IPY_MODEL_9b7e269abef345d6baa4d4926eb163eb",
              "IPY_MODEL_2add92f7c54c4a60b5170db71b599385"
            ]
          }
        },
        "52da62364cc4476cb0d4496681d482da": {
          "model_module": "@jupyter-widgets/base",
          "model_name": "LayoutModel",
          "state": {
            "_view_name": "LayoutView",
            "grid_template_rows": null,
            "right": null,
            "justify_content": null,
            "_view_module": "@jupyter-widgets/base",
            "overflow": null,
            "_model_module_version": "1.2.0",
            "_view_count": null,
            "flex_flow": null,
            "width": null,
            "min_width": null,
            "border": null,
            "align_items": null,
            "bottom": null,
            "_model_module": "@jupyter-widgets/base",
            "top": null,
            "grid_column": null,
            "overflow_y": null,
            "overflow_x": null,
            "grid_auto_flow": null,
            "grid_area": null,
            "grid_template_columns": null,
            "flex": null,
            "_model_name": "LayoutModel",
            "justify_items": null,
            "grid_row": null,
            "max_height": null,
            "align_content": null,
            "visibility": null,
            "align_self": null,
            "height": null,
            "min_height": null,
            "padding": null,
            "grid_auto_rows": null,
            "grid_gap": null,
            "max_width": null,
            "order": null,
            "_view_module_version": "1.2.0",
            "grid_template_areas": null,
            "object_position": null,
            "object_fit": null,
            "grid_auto_columns": null,
            "margin": null,
            "display": null,
            "left": null
          }
        },
        "9b7e269abef345d6baa4d4926eb163eb": {
          "model_module": "@jupyter-widgets/controls",
          "model_name": "FloatProgressModel",
          "state": {
            "_view_name": "ProgressView",
            "style": "IPY_MODEL_126f3768162a48629b01a05d599cb513",
            "_dom_classes": [],
            "description": "Downloading: 100%",
            "_model_name": "FloatProgressModel",
            "bar_style": "success",
            "max": 5069051,
            "_view_module": "@jupyter-widgets/controls",
            "_model_module_version": "1.5.0",
            "value": 5069051,
            "_view_count": null,
            "_view_module_version": "1.5.0",
            "orientation": "horizontal",
            "min": 0,
            "description_tooltip": null,
            "_model_module": "@jupyter-widgets/controls",
            "layout": "IPY_MODEL_bd25672a6a7345d38aa2c83a290e7fac"
          }
        },
        "2add92f7c54c4a60b5170db71b599385": {
          "model_module": "@jupyter-widgets/controls",
          "model_name": "HTMLModel",
          "state": {
            "_view_name": "HTMLView",
            "style": "IPY_MODEL_784d837823ca49c78e4565b08cb1fab2",
            "_dom_classes": [],
            "description": "",
            "_model_name": "HTMLModel",
            "placeholder": "​",
            "_view_module": "@jupyter-widgets/controls",
            "_model_module_version": "1.5.0",
            "value": " 5.07M/5.07M [00:01&lt;00:00, 4.38MB/s]",
            "_view_count": null,
            "_view_module_version": "1.5.0",
            "description_tooltip": null,
            "_model_module": "@jupyter-widgets/controls",
            "layout": "IPY_MODEL_687d4a674bb547fbbf6dcc91f1ebd76f"
          }
        },
        "126f3768162a48629b01a05d599cb513": {
          "model_module": "@jupyter-widgets/controls",
          "model_name": "ProgressStyleModel",
          "state": {
            "_view_name": "StyleView",
            "_model_name": "ProgressStyleModel",
            "description_width": "initial",
            "_view_module": "@jupyter-widgets/base",
            "_model_module_version": "1.5.0",
            "_view_count": null,
            "_view_module_version": "1.2.0",
            "bar_color": null,
            "_model_module": "@jupyter-widgets/controls"
          }
        },
        "bd25672a6a7345d38aa2c83a290e7fac": {
          "model_module": "@jupyter-widgets/base",
          "model_name": "LayoutModel",
          "state": {
            "_view_name": "LayoutView",
            "grid_template_rows": null,
            "right": null,
            "justify_content": null,
            "_view_module": "@jupyter-widgets/base",
            "overflow": null,
            "_model_module_version": "1.2.0",
            "_view_count": null,
            "flex_flow": null,
            "width": null,
            "min_width": null,
            "border": null,
            "align_items": null,
            "bottom": null,
            "_model_module": "@jupyter-widgets/base",
            "top": null,
            "grid_column": null,
            "overflow_y": null,
            "overflow_x": null,
            "grid_auto_flow": null,
            "grid_area": null,
            "grid_template_columns": null,
            "flex": null,
            "_model_name": "LayoutModel",
            "justify_items": null,
            "grid_row": null,
            "max_height": null,
            "align_content": null,
            "visibility": null,
            "align_self": null,
            "height": null,
            "min_height": null,
            "padding": null,
            "grid_auto_rows": null,
            "grid_gap": null,
            "max_width": null,
            "order": null,
            "_view_module_version": "1.2.0",
            "grid_template_areas": null,
            "object_position": null,
            "object_fit": null,
            "grid_auto_columns": null,
            "margin": null,
            "display": null,
            "left": null
          }
        },
        "784d837823ca49c78e4565b08cb1fab2": {
          "model_module": "@jupyter-widgets/controls",
          "model_name": "DescriptionStyleModel",
          "state": {
            "_view_name": "StyleView",
            "_model_name": "DescriptionStyleModel",
            "description_width": "",
            "_view_module": "@jupyter-widgets/base",
            "_model_module_version": "1.5.0",
            "_view_count": null,
            "_view_module_version": "1.2.0",
            "_model_module": "@jupyter-widgets/controls"
          }
        },
        "687d4a674bb547fbbf6dcc91f1ebd76f": {
          "model_module": "@jupyter-widgets/base",
          "model_name": "LayoutModel",
          "state": {
            "_view_name": "LayoutView",
            "grid_template_rows": null,
            "right": null,
            "justify_content": null,
            "_view_module": "@jupyter-widgets/base",
            "overflow": null,
            "_model_module_version": "1.2.0",
            "_view_count": null,
            "flex_flow": null,
            "width": null,
            "min_width": null,
            "border": null,
            "align_items": null,
            "bottom": null,
            "_model_module": "@jupyter-widgets/base",
            "top": null,
            "grid_column": null,
            "overflow_y": null,
            "overflow_x": null,
            "grid_auto_flow": null,
            "grid_area": null,
            "grid_template_columns": null,
            "flex": null,
            "_model_name": "LayoutModel",
            "justify_items": null,
            "grid_row": null,
            "max_height": null,
            "align_content": null,
            "visibility": null,
            "align_self": null,
            "height": null,
            "min_height": null,
            "padding": null,
            "grid_auto_rows": null,
            "grid_gap": null,
            "max_width": null,
            "order": null,
            "_view_module_version": "1.2.0",
            "grid_template_areas": null,
            "object_position": null,
            "object_fit": null,
            "grid_auto_columns": null,
            "margin": null,
            "display": null,
            "left": null
          }
        },
        "154a6bff290442e8b53fd30060fddd4f": {
          "model_module": "@jupyter-widgets/controls",
          "model_name": "HBoxModel",
          "state": {
            "_view_name": "HBoxView",
            "_dom_classes": [],
            "_model_name": "HBoxModel",
            "_view_module": "@jupyter-widgets/controls",
            "_model_module_version": "1.5.0",
            "_view_count": null,
            "_view_module_version": "1.5.0",
            "box_style": "",
            "layout": "IPY_MODEL_0d573c64b9514925b5481690ff2ce3c8",
            "_model_module": "@jupyter-widgets/controls",
            "children": [
              "IPY_MODEL_845b1446a03e4f9da08b2877e9523ae7",
              "IPY_MODEL_a8d7a52b14d548a39db1ee68e9d4b722"
            ]
          }
        },
        "0d573c64b9514925b5481690ff2ce3c8": {
          "model_module": "@jupyter-widgets/base",
          "model_name": "LayoutModel",
          "state": {
            "_view_name": "LayoutView",
            "grid_template_rows": null,
            "right": null,
            "justify_content": null,
            "_view_module": "@jupyter-widgets/base",
            "overflow": null,
            "_model_module_version": "1.2.0",
            "_view_count": null,
            "flex_flow": null,
            "width": null,
            "min_width": null,
            "border": null,
            "align_items": null,
            "bottom": null,
            "_model_module": "@jupyter-widgets/base",
            "top": null,
            "grid_column": null,
            "overflow_y": null,
            "overflow_x": null,
            "grid_auto_flow": null,
            "grid_area": null,
            "grid_template_columns": null,
            "flex": null,
            "_model_name": "LayoutModel",
            "justify_items": null,
            "grid_row": null,
            "max_height": null,
            "align_content": null,
            "visibility": null,
            "align_self": null,
            "height": null,
            "min_height": null,
            "padding": null,
            "grid_auto_rows": null,
            "grid_gap": null,
            "max_width": null,
            "order": null,
            "_view_module_version": "1.2.0",
            "grid_template_areas": null,
            "object_position": null,
            "object_fit": null,
            "grid_auto_columns": null,
            "margin": null,
            "display": null,
            "left": null
          }
        },
        "845b1446a03e4f9da08b2877e9523ae7": {
          "model_module": "@jupyter-widgets/controls",
          "model_name": "FloatProgressModel",
          "state": {
            "_view_name": "ProgressView",
            "style": "IPY_MODEL_8183fc1f79de4885ad5ca154ebb0ce0a",
            "_dom_classes": [],
            "description": "Downloading: 100%",
            "_model_name": "FloatProgressModel",
            "bar_style": "success",
            "max": 9096718,
            "_view_module": "@jupyter-widgets/controls",
            "_model_module_version": "1.5.0",
            "value": 9096718,
            "_view_count": null,
            "_view_module_version": "1.5.0",
            "orientation": "horizontal",
            "min": 0,
            "description_tooltip": null,
            "_model_module": "@jupyter-widgets/controls",
            "layout": "IPY_MODEL_d46fe90540354eca8ec5090684f70703"
          }
        },
        "a8d7a52b14d548a39db1ee68e9d4b722": {
          "model_module": "@jupyter-widgets/controls",
          "model_name": "HTMLModel",
          "state": {
            "_view_name": "HTMLView",
            "style": "IPY_MODEL_4631e7be739241b091d0bb768ec01321",
            "_dom_classes": [],
            "description": "",
            "_model_name": "HTMLModel",
            "placeholder": "​",
            "_view_module": "@jupyter-widgets/controls",
            "_model_module_version": "1.5.0",
            "value": " 9.10M/9.10M [00:00&lt;00:00, 11.2MB/s]",
            "_view_count": null,
            "_view_module_version": "1.5.0",
            "description_tooltip": null,
            "_model_module": "@jupyter-widgets/controls",
            "layout": "IPY_MODEL_7d1b2bae6297455c9de9c3ac746bf9dc"
          }
        },
        "8183fc1f79de4885ad5ca154ebb0ce0a": {
          "model_module": "@jupyter-widgets/controls",
          "model_name": "ProgressStyleModel",
          "state": {
            "_view_name": "StyleView",
            "_model_name": "ProgressStyleModel",
            "description_width": "initial",
            "_view_module": "@jupyter-widgets/base",
            "_model_module_version": "1.5.0",
            "_view_count": null,
            "_view_module_version": "1.2.0",
            "bar_color": null,
            "_model_module": "@jupyter-widgets/controls"
          }
        },
        "d46fe90540354eca8ec5090684f70703": {
          "model_module": "@jupyter-widgets/base",
          "model_name": "LayoutModel",
          "state": {
            "_view_name": "LayoutView",
            "grid_template_rows": null,
            "right": null,
            "justify_content": null,
            "_view_module": "@jupyter-widgets/base",
            "overflow": null,
            "_model_module_version": "1.2.0",
            "_view_count": null,
            "flex_flow": null,
            "width": null,
            "min_width": null,
            "border": null,
            "align_items": null,
            "bottom": null,
            "_model_module": "@jupyter-widgets/base",
            "top": null,
            "grid_column": null,
            "overflow_y": null,
            "overflow_x": null,
            "grid_auto_flow": null,
            "grid_area": null,
            "grid_template_columns": null,
            "flex": null,
            "_model_name": "LayoutModel",
            "justify_items": null,
            "grid_row": null,
            "max_height": null,
            "align_content": null,
            "visibility": null,
            "align_self": null,
            "height": null,
            "min_height": null,
            "padding": null,
            "grid_auto_rows": null,
            "grid_gap": null,
            "max_width": null,
            "order": null,
            "_view_module_version": "1.2.0",
            "grid_template_areas": null,
            "object_position": null,
            "object_fit": null,
            "grid_auto_columns": null,
            "margin": null,
            "display": null,
            "left": null
          }
        },
        "4631e7be739241b091d0bb768ec01321": {
          "model_module": "@jupyter-widgets/controls",
          "model_name": "DescriptionStyleModel",
          "state": {
            "_view_name": "StyleView",
            "_model_name": "DescriptionStyleModel",
            "description_width": "",
            "_view_module": "@jupyter-widgets/base",
            "_model_module_version": "1.5.0",
            "_view_count": null,
            "_view_module_version": "1.2.0",
            "_model_module": "@jupyter-widgets/controls"
          }
        },
        "7d1b2bae6297455c9de9c3ac746bf9dc": {
          "model_module": "@jupyter-widgets/base",
          "model_name": "LayoutModel",
          "state": {
            "_view_name": "LayoutView",
            "grid_template_rows": null,
            "right": null,
            "justify_content": null,
            "_view_module": "@jupyter-widgets/base",
            "overflow": null,
            "_model_module_version": "1.2.0",
            "_view_count": null,
            "flex_flow": null,
            "width": null,
            "min_width": null,
            "border": null,
            "align_items": null,
            "bottom": null,
            "_model_module": "@jupyter-widgets/base",
            "top": null,
            "grid_column": null,
            "overflow_y": null,
            "overflow_x": null,
            "grid_auto_flow": null,
            "grid_area": null,
            "grid_template_columns": null,
            "flex": null,
            "_model_name": "LayoutModel",
            "justify_items": null,
            "grid_row": null,
            "max_height": null,
            "align_content": null,
            "visibility": null,
            "align_self": null,
            "height": null,
            "min_height": null,
            "padding": null,
            "grid_auto_rows": null,
            "grid_gap": null,
            "max_width": null,
            "order": null,
            "_view_module_version": "1.2.0",
            "grid_template_areas": null,
            "object_position": null,
            "object_fit": null,
            "grid_auto_columns": null,
            "margin": null,
            "display": null,
            "left": null
          }
        },
        "4a5536076eb148dba48152a945b4b9b9": {
          "model_module": "@jupyter-widgets/controls",
          "model_name": "HBoxModel",
          "state": {
            "_view_name": "HBoxView",
            "_dom_classes": [],
            "_model_name": "HBoxModel",
            "_view_module": "@jupyter-widgets/controls",
            "_model_module_version": "1.5.0",
            "_view_count": null,
            "_view_module_version": "1.5.0",
            "box_style": "",
            "layout": "IPY_MODEL_ceb2226326254bf6842ad4d3f0ee1cd5",
            "_model_module": "@jupyter-widgets/controls",
            "children": [
              "IPY_MODEL_ec076fa530d54d97947dff31c9ff2c97",
              "IPY_MODEL_87de819ddc3a487b8b23e3216ed12fa9"
            ]
          }
        },
        "ceb2226326254bf6842ad4d3f0ee1cd5": {
          "model_module": "@jupyter-widgets/base",
          "model_name": "LayoutModel",
          "state": {
            "_view_name": "LayoutView",
            "grid_template_rows": null,
            "right": null,
            "justify_content": null,
            "_view_module": "@jupyter-widgets/base",
            "overflow": null,
            "_model_module_version": "1.2.0",
            "_view_count": null,
            "flex_flow": null,
            "width": null,
            "min_width": null,
            "border": null,
            "align_items": null,
            "bottom": null,
            "_model_module": "@jupyter-widgets/base",
            "top": null,
            "grid_column": null,
            "overflow_y": null,
            "overflow_x": null,
            "grid_auto_flow": null,
            "grid_area": null,
            "grid_template_columns": null,
            "flex": null,
            "_model_name": "LayoutModel",
            "justify_items": null,
            "grid_row": null,
            "max_height": null,
            "align_content": null,
            "visibility": null,
            "align_self": null,
            "height": null,
            "min_height": null,
            "padding": null,
            "grid_auto_rows": null,
            "grid_gap": null,
            "max_width": null,
            "order": null,
            "_view_module_version": "1.2.0",
            "grid_template_areas": null,
            "object_position": null,
            "object_fit": null,
            "grid_auto_columns": null,
            "margin": null,
            "display": null,
            "left": null
          }
        },
        "ec076fa530d54d97947dff31c9ff2c97": {
          "model_module": "@jupyter-widgets/controls",
          "model_name": "FloatProgressModel",
          "state": {
            "_view_name": "ProgressView",
            "style": "IPY_MODEL_c028c44029bf4bf2834393031c42315f",
            "_dom_classes": [],
            "description": "100%",
            "_model_name": "FloatProgressModel",
            "bar_style": "success",
            "max": 116,
            "_view_module": "@jupyter-widgets/controls",
            "_model_module_version": "1.5.0",
            "value": 116,
            "_view_count": null,
            "_view_module_version": "1.5.0",
            "orientation": "horizontal",
            "min": 0,
            "description_tooltip": null,
            "_model_module": "@jupyter-widgets/controls",
            "layout": "IPY_MODEL_81f45ff93df045b88ee322696a31677c"
          }
        },
        "87de819ddc3a487b8b23e3216ed12fa9": {
          "model_module": "@jupyter-widgets/controls",
          "model_name": "HTMLModel",
          "state": {
            "_view_name": "HTMLView",
            "style": "IPY_MODEL_99a01359217a442c9349b57d44923e87",
            "_dom_classes": [],
            "description": "",
            "_model_name": "HTMLModel",
            "placeholder": "​",
            "_view_module": "@jupyter-widgets/controls",
            "_model_module_version": "1.5.0",
            "value": " 116/116 [04:20&lt;00:00,  2.25s/ba]",
            "_view_count": null,
            "_view_module_version": "1.5.0",
            "description_tooltip": null,
            "_model_module": "@jupyter-widgets/controls",
            "layout": "IPY_MODEL_75a21b9dc51c4d2cb81cf760378aed1b"
          }
        },
        "c028c44029bf4bf2834393031c42315f": {
          "model_module": "@jupyter-widgets/controls",
          "model_name": "ProgressStyleModel",
          "state": {
            "_view_name": "StyleView",
            "_model_name": "ProgressStyleModel",
            "description_width": "initial",
            "_view_module": "@jupyter-widgets/base",
            "_model_module_version": "1.5.0",
            "_view_count": null,
            "_view_module_version": "1.2.0",
            "bar_color": null,
            "_model_module": "@jupyter-widgets/controls"
          }
        },
        "81f45ff93df045b88ee322696a31677c": {
          "model_module": "@jupyter-widgets/base",
          "model_name": "LayoutModel",
          "state": {
            "_view_name": "LayoutView",
            "grid_template_rows": null,
            "right": null,
            "justify_content": null,
            "_view_module": "@jupyter-widgets/base",
            "overflow": null,
            "_model_module_version": "1.2.0",
            "_view_count": null,
            "flex_flow": null,
            "width": null,
            "min_width": null,
            "border": null,
            "align_items": null,
            "bottom": null,
            "_model_module": "@jupyter-widgets/base",
            "top": null,
            "grid_column": null,
            "overflow_y": null,
            "overflow_x": null,
            "grid_auto_flow": null,
            "grid_area": null,
            "grid_template_columns": null,
            "flex": null,
            "_model_name": "LayoutModel",
            "justify_items": null,
            "grid_row": null,
            "max_height": null,
            "align_content": null,
            "visibility": null,
            "align_self": null,
            "height": null,
            "min_height": null,
            "padding": null,
            "grid_auto_rows": null,
            "grid_gap": null,
            "max_width": null,
            "order": null,
            "_view_module_version": "1.2.0",
            "grid_template_areas": null,
            "object_position": null,
            "object_fit": null,
            "grid_auto_columns": null,
            "margin": null,
            "display": null,
            "left": null
          }
        },
        "99a01359217a442c9349b57d44923e87": {
          "model_module": "@jupyter-widgets/controls",
          "model_name": "DescriptionStyleModel",
          "state": {
            "_view_name": "StyleView",
            "_model_name": "DescriptionStyleModel",
            "description_width": "",
            "_view_module": "@jupyter-widgets/base",
            "_model_module_version": "1.5.0",
            "_view_count": null,
            "_view_module_version": "1.2.0",
            "_model_module": "@jupyter-widgets/controls"
          }
        },
        "75a21b9dc51c4d2cb81cf760378aed1b": {
          "model_module": "@jupyter-widgets/base",
          "model_name": "LayoutModel",
          "state": {
            "_view_name": "LayoutView",
            "grid_template_rows": null,
            "right": null,
            "justify_content": null,
            "_view_module": "@jupyter-widgets/base",
            "overflow": null,
            "_model_module_version": "1.2.0",
            "_view_count": null,
            "flex_flow": null,
            "width": null,
            "min_width": null,
            "border": null,
            "align_items": null,
            "bottom": null,
            "_model_module": "@jupyter-widgets/base",
            "top": null,
            "grid_column": null,
            "overflow_y": null,
            "overflow_x": null,
            "grid_auto_flow": null,
            "grid_area": null,
            "grid_template_columns": null,
            "flex": null,
            "_model_name": "LayoutModel",
            "justify_items": null,
            "grid_row": null,
            "max_height": null,
            "align_content": null,
            "visibility": null,
            "align_self": null,
            "height": null,
            "min_height": null,
            "padding": null,
            "grid_auto_rows": null,
            "grid_gap": null,
            "max_width": null,
            "order": null,
            "_view_module_version": "1.2.0",
            "grid_template_areas": null,
            "object_position": null,
            "object_fit": null,
            "grid_auto_columns": null,
            "margin": null,
            "display": null,
            "left": null
          }
        },
        "b133868ad9e94021a13060dace363641": {
          "model_module": "@jupyter-widgets/controls",
          "model_name": "HBoxModel",
          "state": {
            "_view_name": "HBoxView",
            "_dom_classes": [],
            "_model_name": "HBoxModel",
            "_view_module": "@jupyter-widgets/controls",
            "_model_module_version": "1.5.0",
            "_view_count": null,
            "_view_module_version": "1.5.0",
            "box_style": "",
            "layout": "IPY_MODEL_bad439fee7b145e2b4731cf1c69392c1",
            "_model_module": "@jupyter-widgets/controls",
            "children": [
              "IPY_MODEL_ca1160e12fb4460bac7514a9fbf057d3",
              "IPY_MODEL_755823f1a35c4e2fa6a77ceb2411dd81"
            ]
          }
        },
        "bad439fee7b145e2b4731cf1c69392c1": {
          "model_module": "@jupyter-widgets/base",
          "model_name": "LayoutModel",
          "state": {
            "_view_name": "LayoutView",
            "grid_template_rows": null,
            "right": null,
            "justify_content": null,
            "_view_module": "@jupyter-widgets/base",
            "overflow": null,
            "_model_module_version": "1.2.0",
            "_view_count": null,
            "flex_flow": null,
            "width": null,
            "min_width": null,
            "border": null,
            "align_items": null,
            "bottom": null,
            "_model_module": "@jupyter-widgets/base",
            "top": null,
            "grid_column": null,
            "overflow_y": null,
            "overflow_x": null,
            "grid_auto_flow": null,
            "grid_area": null,
            "grid_template_columns": null,
            "flex": null,
            "_model_name": "LayoutModel",
            "justify_items": null,
            "grid_row": null,
            "max_height": null,
            "align_content": null,
            "visibility": null,
            "align_self": null,
            "height": null,
            "min_height": null,
            "padding": null,
            "grid_auto_rows": null,
            "grid_gap": null,
            "max_width": null,
            "order": null,
            "_view_module_version": "1.2.0",
            "grid_template_areas": null,
            "object_position": null,
            "object_fit": null,
            "grid_auto_columns": null,
            "margin": null,
            "display": null,
            "left": null
          }
        },
        "ca1160e12fb4460bac7514a9fbf057d3": {
          "model_module": "@jupyter-widgets/controls",
          "model_name": "FloatProgressModel",
          "state": {
            "_view_name": "ProgressView",
            "style": "IPY_MODEL_49db3eefb876447cae6540aff471fb8b",
            "_dom_classes": [],
            "description": "100%",
            "_model_name": "FloatProgressModel",
            "bar_style": "success",
            "max": 7,
            "_view_module": "@jupyter-widgets/controls",
            "_model_module_version": "1.5.0",
            "value": 7,
            "_view_count": null,
            "_view_module_version": "1.5.0",
            "orientation": "horizontal",
            "min": 0,
            "description_tooltip": null,
            "_model_module": "@jupyter-widgets/controls",
            "layout": "IPY_MODEL_333e913ce1af4d0fa33b20f7fff5b569"
          }
        },
        "755823f1a35c4e2fa6a77ceb2411dd81": {
          "model_module": "@jupyter-widgets/controls",
          "model_name": "HTMLModel",
          "state": {
            "_view_name": "HTMLView",
            "style": "IPY_MODEL_dcb1ac2dc40e426fbbc102b8398a9975",
            "_dom_classes": [],
            "description": "",
            "_model_name": "HTMLModel",
            "placeholder": "​",
            "_view_module": "@jupyter-widgets/controls",
            "_model_module_version": "1.5.0",
            "value": " 7/7 [01:07&lt;00:00,  9.59s/ba]",
            "_view_count": null,
            "_view_module_version": "1.5.0",
            "description_tooltip": null,
            "_model_module": "@jupyter-widgets/controls",
            "layout": "IPY_MODEL_e1262638207141ceb3217c863891d74c"
          }
        },
        "49db3eefb876447cae6540aff471fb8b": {
          "model_module": "@jupyter-widgets/controls",
          "model_name": "ProgressStyleModel",
          "state": {
            "_view_name": "StyleView",
            "_model_name": "ProgressStyleModel",
            "description_width": "initial",
            "_view_module": "@jupyter-widgets/base",
            "_model_module_version": "1.5.0",
            "_view_count": null,
            "_view_module_version": "1.2.0",
            "bar_color": null,
            "_model_module": "@jupyter-widgets/controls"
          }
        },
        "333e913ce1af4d0fa33b20f7fff5b569": {
          "model_module": "@jupyter-widgets/base",
          "model_name": "LayoutModel",
          "state": {
            "_view_name": "LayoutView",
            "grid_template_rows": null,
            "right": null,
            "justify_content": null,
            "_view_module": "@jupyter-widgets/base",
            "overflow": null,
            "_model_module_version": "1.2.0",
            "_view_count": null,
            "flex_flow": null,
            "width": null,
            "min_width": null,
            "border": null,
            "align_items": null,
            "bottom": null,
            "_model_module": "@jupyter-widgets/base",
            "top": null,
            "grid_column": null,
            "overflow_y": null,
            "overflow_x": null,
            "grid_auto_flow": null,
            "grid_area": null,
            "grid_template_columns": null,
            "flex": null,
            "_model_name": "LayoutModel",
            "justify_items": null,
            "grid_row": null,
            "max_height": null,
            "align_content": null,
            "visibility": null,
            "align_self": null,
            "height": null,
            "min_height": null,
            "padding": null,
            "grid_auto_rows": null,
            "grid_gap": null,
            "max_width": null,
            "order": null,
            "_view_module_version": "1.2.0",
            "grid_template_areas": null,
            "object_position": null,
            "object_fit": null,
            "grid_auto_columns": null,
            "margin": null,
            "display": null,
            "left": null
          }
        },
        "dcb1ac2dc40e426fbbc102b8398a9975": {
          "model_module": "@jupyter-widgets/controls",
          "model_name": "DescriptionStyleModel",
          "state": {
            "_view_name": "StyleView",
            "_model_name": "DescriptionStyleModel",
            "description_width": "",
            "_view_module": "@jupyter-widgets/base",
            "_model_module_version": "1.5.0",
            "_view_count": null,
            "_view_module_version": "1.2.0",
            "_model_module": "@jupyter-widgets/controls"
          }
        },
        "e1262638207141ceb3217c863891d74c": {
          "model_module": "@jupyter-widgets/base",
          "model_name": "LayoutModel",
          "state": {
            "_view_name": "LayoutView",
            "grid_template_rows": null,
            "right": null,
            "justify_content": null,
            "_view_module": "@jupyter-widgets/base",
            "overflow": null,
            "_model_module_version": "1.2.0",
            "_view_count": null,
            "flex_flow": null,
            "width": null,
            "min_width": null,
            "border": null,
            "align_items": null,
            "bottom": null,
            "_model_module": "@jupyter-widgets/base",
            "top": null,
            "grid_column": null,
            "overflow_y": null,
            "overflow_x": null,
            "grid_auto_flow": null,
            "grid_area": null,
            "grid_template_columns": null,
            "flex": null,
            "_model_name": "LayoutModel",
            "justify_items": null,
            "grid_row": null,
            "max_height": null,
            "align_content": null,
            "visibility": null,
            "align_self": null,
            "height": null,
            "min_height": null,
            "padding": null,
            "grid_auto_rows": null,
            "grid_gap": null,
            "max_width": null,
            "order": null,
            "_view_module_version": "1.2.0",
            "grid_template_areas": null,
            "object_position": null,
            "object_fit": null,
            "grid_auto_columns": null,
            "margin": null,
            "display": null,
            "left": null
          }
        },
        "6ec1ec74450b4f368c978abccdea49c3": {
          "model_module": "@jupyter-widgets/controls",
          "model_name": "HBoxModel",
          "state": {
            "_view_name": "HBoxView",
            "_dom_classes": [],
            "_model_name": "HBoxModel",
            "_view_module": "@jupyter-widgets/controls",
            "_model_module_version": "1.5.0",
            "_view_count": null,
            "_view_module_version": "1.5.0",
            "box_style": "",
            "layout": "IPY_MODEL_4f67e3d939c04422a7f74d3fbf7a9273",
            "_model_module": "@jupyter-widgets/controls",
            "children": [
              "IPY_MODEL_8df450f4e9aa4fe2824ea763a3d14b46",
              "IPY_MODEL_d6c95cf0668a44c390ece34cbd7da58c"
            ]
          }
        },
        "4f67e3d939c04422a7f74d3fbf7a9273": {
          "model_module": "@jupyter-widgets/base",
          "model_name": "LayoutModel",
          "state": {
            "_view_name": "LayoutView",
            "grid_template_rows": null,
            "right": null,
            "justify_content": null,
            "_view_module": "@jupyter-widgets/base",
            "overflow": null,
            "_model_module_version": "1.2.0",
            "_view_count": null,
            "flex_flow": null,
            "width": null,
            "min_width": null,
            "border": null,
            "align_items": null,
            "bottom": null,
            "_model_module": "@jupyter-widgets/base",
            "top": null,
            "grid_column": null,
            "overflow_y": null,
            "overflow_x": null,
            "grid_auto_flow": null,
            "grid_area": null,
            "grid_template_columns": null,
            "flex": null,
            "_model_name": "LayoutModel",
            "justify_items": null,
            "grid_row": null,
            "max_height": null,
            "align_content": null,
            "visibility": null,
            "align_self": null,
            "height": null,
            "min_height": null,
            "padding": null,
            "grid_auto_rows": null,
            "grid_gap": null,
            "max_width": null,
            "order": null,
            "_view_module_version": "1.2.0",
            "grid_template_areas": null,
            "object_position": null,
            "object_fit": null,
            "grid_auto_columns": null,
            "margin": null,
            "display": null,
            "left": null
          }
        },
        "8df450f4e9aa4fe2824ea763a3d14b46": {
          "model_module": "@jupyter-widgets/controls",
          "model_name": "FloatProgressModel",
          "state": {
            "_view_name": "ProgressView",
            "style": "IPY_MODEL_151da75c086f415a8f22432dbb911196",
            "_dom_classes": [],
            "description": "100%",
            "_model_name": "FloatProgressModel",
            "bar_style": "success",
            "max": 7,
            "_view_module": "@jupyter-widgets/controls",
            "_model_module_version": "1.5.0",
            "value": 7,
            "_view_count": null,
            "_view_module_version": "1.5.0",
            "orientation": "horizontal",
            "min": 0,
            "description_tooltip": null,
            "_model_module": "@jupyter-widgets/controls",
            "layout": "IPY_MODEL_ea139b1fdd294ded8fd764ea4fd9750c"
          }
        },
        "d6c95cf0668a44c390ece34cbd7da58c": {
          "model_module": "@jupyter-widgets/controls",
          "model_name": "HTMLModel",
          "state": {
            "_view_name": "HTMLView",
            "style": "IPY_MODEL_849e2268a04b4aa481eb410156dc4440",
            "_dom_classes": [],
            "description": "",
            "_model_name": "HTMLModel",
            "placeholder": "​",
            "_view_module": "@jupyter-widgets/controls",
            "_model_module_version": "1.5.0",
            "value": " 7/7 [00:56&lt;00:00,  8.04s/ba]",
            "_view_count": null,
            "_view_module_version": "1.5.0",
            "description_tooltip": null,
            "_model_module": "@jupyter-widgets/controls",
            "layout": "IPY_MODEL_66d33b14d915469dbc9a39c129d687af"
          }
        },
        "151da75c086f415a8f22432dbb911196": {
          "model_module": "@jupyter-widgets/controls",
          "model_name": "ProgressStyleModel",
          "state": {
            "_view_name": "StyleView",
            "_model_name": "ProgressStyleModel",
            "description_width": "initial",
            "_view_module": "@jupyter-widgets/base",
            "_model_module_version": "1.5.0",
            "_view_count": null,
            "_view_module_version": "1.2.0",
            "bar_color": null,
            "_model_module": "@jupyter-widgets/controls"
          }
        },
        "ea139b1fdd294ded8fd764ea4fd9750c": {
          "model_module": "@jupyter-widgets/base",
          "model_name": "LayoutModel",
          "state": {
            "_view_name": "LayoutView",
            "grid_template_rows": null,
            "right": null,
            "justify_content": null,
            "_view_module": "@jupyter-widgets/base",
            "overflow": null,
            "_model_module_version": "1.2.0",
            "_view_count": null,
            "flex_flow": null,
            "width": null,
            "min_width": null,
            "border": null,
            "align_items": null,
            "bottom": null,
            "_model_module": "@jupyter-widgets/base",
            "top": null,
            "grid_column": null,
            "overflow_y": null,
            "overflow_x": null,
            "grid_auto_flow": null,
            "grid_area": null,
            "grid_template_columns": null,
            "flex": null,
            "_model_name": "LayoutModel",
            "justify_items": null,
            "grid_row": null,
            "max_height": null,
            "align_content": null,
            "visibility": null,
            "align_self": null,
            "height": null,
            "min_height": null,
            "padding": null,
            "grid_auto_rows": null,
            "grid_gap": null,
            "max_width": null,
            "order": null,
            "_view_module_version": "1.2.0",
            "grid_template_areas": null,
            "object_position": null,
            "object_fit": null,
            "grid_auto_columns": null,
            "margin": null,
            "display": null,
            "left": null
          }
        },
        "849e2268a04b4aa481eb410156dc4440": {
          "model_module": "@jupyter-widgets/controls",
          "model_name": "DescriptionStyleModel",
          "state": {
            "_view_name": "StyleView",
            "_model_name": "DescriptionStyleModel",
            "description_width": "",
            "_view_module": "@jupyter-widgets/base",
            "_model_module_version": "1.5.0",
            "_view_count": null,
            "_view_module_version": "1.2.0",
            "_model_module": "@jupyter-widgets/controls"
          }
        },
        "66d33b14d915469dbc9a39c129d687af": {
          "model_module": "@jupyter-widgets/base",
          "model_name": "LayoutModel",
          "state": {
            "_view_name": "LayoutView",
            "grid_template_rows": null,
            "right": null,
            "justify_content": null,
            "_view_module": "@jupyter-widgets/base",
            "overflow": null,
            "_model_module_version": "1.2.0",
            "_view_count": null,
            "flex_flow": null,
            "width": null,
            "min_width": null,
            "border": null,
            "align_items": null,
            "bottom": null,
            "_model_module": "@jupyter-widgets/base",
            "top": null,
            "grid_column": null,
            "overflow_y": null,
            "overflow_x": null,
            "grid_auto_flow": null,
            "grid_area": null,
            "grid_template_columns": null,
            "flex": null,
            "_model_name": "LayoutModel",
            "justify_items": null,
            "grid_row": null,
            "max_height": null,
            "align_content": null,
            "visibility": null,
            "align_self": null,
            "height": null,
            "min_height": null,
            "padding": null,
            "grid_auto_rows": null,
            "grid_gap": null,
            "max_width": null,
            "order": null,
            "_view_module_version": "1.2.0",
            "grid_template_areas": null,
            "object_position": null,
            "object_fit": null,
            "grid_auto_columns": null,
            "margin": null,
            "display": null,
            "left": null
          }
        },
        "eb1db2d4c2ed4d6eaf9af3270bb55c66": {
          "model_module": "@jupyter-widgets/controls",
          "model_name": "HBoxModel",
          "state": {
            "_view_name": "HBoxView",
            "_dom_classes": [],
            "_model_name": "HBoxModel",
            "_view_module": "@jupyter-widgets/controls",
            "_model_module_version": "1.5.0",
            "_view_count": null,
            "_view_module_version": "1.5.0",
            "box_style": "",
            "layout": "IPY_MODEL_80b617037713407b99d5fbfadb1ea25b",
            "_model_module": "@jupyter-widgets/controls",
            "children": [
              "IPY_MODEL_671452a9eb79423298bc47223f02022c",
              "IPY_MODEL_b4c8f44ae7f14ead9109075846b209df"
            ]
          }
        },
        "80b617037713407b99d5fbfadb1ea25b": {
          "model_module": "@jupyter-widgets/base",
          "model_name": "LayoutModel",
          "state": {
            "_view_name": "LayoutView",
            "grid_template_rows": null,
            "right": null,
            "justify_content": null,
            "_view_module": "@jupyter-widgets/base",
            "overflow": null,
            "_model_module_version": "1.2.0",
            "_view_count": null,
            "flex_flow": null,
            "width": null,
            "min_width": null,
            "border": null,
            "align_items": null,
            "bottom": null,
            "_model_module": "@jupyter-widgets/base",
            "top": null,
            "grid_column": null,
            "overflow_y": null,
            "overflow_x": null,
            "grid_auto_flow": null,
            "grid_area": null,
            "grid_template_columns": null,
            "flex": null,
            "_model_name": "LayoutModel",
            "justify_items": null,
            "grid_row": null,
            "max_height": null,
            "align_content": null,
            "visibility": null,
            "align_self": null,
            "height": null,
            "min_height": null,
            "padding": null,
            "grid_auto_rows": null,
            "grid_gap": null,
            "max_width": null,
            "order": null,
            "_view_module_version": "1.2.0",
            "grid_template_areas": null,
            "object_position": null,
            "object_fit": null,
            "grid_auto_columns": null,
            "margin": null,
            "display": null,
            "left": null
          }
        },
        "671452a9eb79423298bc47223f02022c": {
          "model_module": "@jupyter-widgets/controls",
          "model_name": "FloatProgressModel",
          "state": {
            "_view_name": "ProgressView",
            "style": "IPY_MODEL_b104c7c8a05640708aedf97a8bf79e80",
            "_dom_classes": [],
            "description": "100%",
            "_model_name": "FloatProgressModel",
            "bar_style": "success",
            "max": 115168,
            "_view_module": "@jupyter-widgets/controls",
            "_model_module_version": "1.5.0",
            "value": 115168,
            "_view_count": null,
            "_view_module_version": "1.5.0",
            "orientation": "horizontal",
            "min": 0,
            "description_tooltip": null,
            "_model_module": "@jupyter-widgets/controls",
            "layout": "IPY_MODEL_e485706eb6df4bc681315beb8235323b"
          }
        },
        "b4c8f44ae7f14ead9109075846b209df": {
          "model_module": "@jupyter-widgets/controls",
          "model_name": "HTMLModel",
          "state": {
            "_view_name": "HTMLView",
            "style": "IPY_MODEL_0807d6eaf2364a3fa28cc6389be9db7a",
            "_dom_classes": [],
            "description": "",
            "_model_name": "HTMLModel",
            "placeholder": "​",
            "_view_module": "@jupyter-widgets/controls",
            "_model_module_version": "1.5.0",
            "value": " 115168/115168 [00:51&lt;00:00, 2217.03ex/s]",
            "_view_count": null,
            "_view_module_version": "1.5.0",
            "description_tooltip": null,
            "_model_module": "@jupyter-widgets/controls",
            "layout": "IPY_MODEL_3abb4f5faeeb44e689868c897ee24ada"
          }
        },
        "b104c7c8a05640708aedf97a8bf79e80": {
          "model_module": "@jupyter-widgets/controls",
          "model_name": "ProgressStyleModel",
          "state": {
            "_view_name": "StyleView",
            "_model_name": "ProgressStyleModel",
            "description_width": "initial",
            "_view_module": "@jupyter-widgets/base",
            "_model_module_version": "1.5.0",
            "_view_count": null,
            "_view_module_version": "1.2.0",
            "bar_color": null,
            "_model_module": "@jupyter-widgets/controls"
          }
        },
        "e485706eb6df4bc681315beb8235323b": {
          "model_module": "@jupyter-widgets/base",
          "model_name": "LayoutModel",
          "state": {
            "_view_name": "LayoutView",
            "grid_template_rows": null,
            "right": null,
            "justify_content": null,
            "_view_module": "@jupyter-widgets/base",
            "overflow": null,
            "_model_module_version": "1.2.0",
            "_view_count": null,
            "flex_flow": null,
            "width": null,
            "min_width": null,
            "border": null,
            "align_items": null,
            "bottom": null,
            "_model_module": "@jupyter-widgets/base",
            "top": null,
            "grid_column": null,
            "overflow_y": null,
            "overflow_x": null,
            "grid_auto_flow": null,
            "grid_area": null,
            "grid_template_columns": null,
            "flex": null,
            "_model_name": "LayoutModel",
            "justify_items": null,
            "grid_row": null,
            "max_height": null,
            "align_content": null,
            "visibility": null,
            "align_self": null,
            "height": null,
            "min_height": null,
            "padding": null,
            "grid_auto_rows": null,
            "grid_gap": null,
            "max_width": null,
            "order": null,
            "_view_module_version": "1.2.0",
            "grid_template_areas": null,
            "object_position": null,
            "object_fit": null,
            "grid_auto_columns": null,
            "margin": null,
            "display": null,
            "left": null
          }
        },
        "0807d6eaf2364a3fa28cc6389be9db7a": {
          "model_module": "@jupyter-widgets/controls",
          "model_name": "DescriptionStyleModel",
          "state": {
            "_view_name": "StyleView",
            "_model_name": "DescriptionStyleModel",
            "description_width": "",
            "_view_module": "@jupyter-widgets/base",
            "_model_module_version": "1.5.0",
            "_view_count": null,
            "_view_module_version": "1.2.0",
            "_model_module": "@jupyter-widgets/controls"
          }
        },
        "3abb4f5faeeb44e689868c897ee24ada": {
          "model_module": "@jupyter-widgets/base",
          "model_name": "LayoutModel",
          "state": {
            "_view_name": "LayoutView",
            "grid_template_rows": null,
            "right": null,
            "justify_content": null,
            "_view_module": "@jupyter-widgets/base",
            "overflow": null,
            "_model_module_version": "1.2.0",
            "_view_count": null,
            "flex_flow": null,
            "width": null,
            "min_width": null,
            "border": null,
            "align_items": null,
            "bottom": null,
            "_model_module": "@jupyter-widgets/base",
            "top": null,
            "grid_column": null,
            "overflow_y": null,
            "overflow_x": null,
            "grid_auto_flow": null,
            "grid_area": null,
            "grid_template_columns": null,
            "flex": null,
            "_model_name": "LayoutModel",
            "justify_items": null,
            "grid_row": null,
            "max_height": null,
            "align_content": null,
            "visibility": null,
            "align_self": null,
            "height": null,
            "min_height": null,
            "padding": null,
            "grid_auto_rows": null,
            "grid_gap": null,
            "max_width": null,
            "order": null,
            "_view_module_version": "1.2.0",
            "grid_template_areas": null,
            "object_position": null,
            "object_fit": null,
            "grid_auto_columns": null,
            "margin": null,
            "display": null,
            "left": null
          }
        },
        "28af41d72e2f4824bec567ea78b68c97": {
          "model_module": "@jupyter-widgets/controls",
          "model_name": "HBoxModel",
          "state": {
            "_view_name": "HBoxView",
            "_dom_classes": [],
            "_model_name": "HBoxModel",
            "_view_module": "@jupyter-widgets/controls",
            "_model_module_version": "1.5.0",
            "_view_count": null,
            "_view_module_version": "1.5.0",
            "box_style": "",
            "layout": "IPY_MODEL_53e0a582405540e982fbfa0fd77b9244",
            "_model_module": "@jupyter-widgets/controls",
            "children": [
              "IPY_MODEL_c4264d6d389d4c71bf9a22df836a8020",
              "IPY_MODEL_130eaefd36ae4f2388bc708dd9c5b4ee"
            ]
          }
        },
        "53e0a582405540e982fbfa0fd77b9244": {
          "model_module": "@jupyter-widgets/base",
          "model_name": "LayoutModel",
          "state": {
            "_view_name": "LayoutView",
            "grid_template_rows": null,
            "right": null,
            "justify_content": null,
            "_view_module": "@jupyter-widgets/base",
            "overflow": null,
            "_model_module_version": "1.2.0",
            "_view_count": null,
            "flex_flow": null,
            "width": null,
            "min_width": null,
            "border": null,
            "align_items": null,
            "bottom": null,
            "_model_module": "@jupyter-widgets/base",
            "top": null,
            "grid_column": null,
            "overflow_y": null,
            "overflow_x": null,
            "grid_auto_flow": null,
            "grid_area": null,
            "grid_template_columns": null,
            "flex": null,
            "_model_name": "LayoutModel",
            "justify_items": null,
            "grid_row": null,
            "max_height": null,
            "align_content": null,
            "visibility": null,
            "align_self": null,
            "height": null,
            "min_height": null,
            "padding": null,
            "grid_auto_rows": null,
            "grid_gap": null,
            "max_width": null,
            "order": null,
            "_view_module_version": "1.2.0",
            "grid_template_areas": null,
            "object_position": null,
            "object_fit": null,
            "grid_auto_columns": null,
            "margin": null,
            "display": null,
            "left": null
          }
        },
        "c4264d6d389d4c71bf9a22df836a8020": {
          "model_module": "@jupyter-widgets/controls",
          "model_name": "FloatProgressModel",
          "state": {
            "_view_name": "ProgressView",
            "style": "IPY_MODEL_a7c06694bea5472c96e7223d8b1a091a",
            "_dom_classes": [],
            "description": "100%",
            "_model_name": "FloatProgressModel",
            "bar_style": "success",
            "max": 6399,
            "_view_module": "@jupyter-widgets/controls",
            "_model_module_version": "1.5.0",
            "value": 6399,
            "_view_count": null,
            "_view_module_version": "1.5.0",
            "orientation": "horizontal",
            "min": 0,
            "description_tooltip": null,
            "_model_module": "@jupyter-widgets/controls",
            "layout": "IPY_MODEL_871327b725634a7bb5d2891d1bfca2d1"
          }
        },
        "130eaefd36ae4f2388bc708dd9c5b4ee": {
          "model_module": "@jupyter-widgets/controls",
          "model_name": "HTMLModel",
          "state": {
            "_view_name": "HTMLView",
            "style": "IPY_MODEL_6a036e73d3474d15bdb546186d64ca0a",
            "_dom_classes": [],
            "description": "",
            "_model_name": "HTMLModel",
            "placeholder": "​",
            "_view_module": "@jupyter-widgets/controls",
            "_model_module_version": "1.5.0",
            "value": " 6399/6399 [00:02&lt;00:00, 2258.30ex/s]",
            "_view_count": null,
            "_view_module_version": "1.5.0",
            "description_tooltip": null,
            "_model_module": "@jupyter-widgets/controls",
            "layout": "IPY_MODEL_4f59a2f294314bb981641019b099481e"
          }
        },
        "a7c06694bea5472c96e7223d8b1a091a": {
          "model_module": "@jupyter-widgets/controls",
          "model_name": "ProgressStyleModel",
          "state": {
            "_view_name": "StyleView",
            "_model_name": "ProgressStyleModel",
            "description_width": "initial",
            "_view_module": "@jupyter-widgets/base",
            "_model_module_version": "1.5.0",
            "_view_count": null,
            "_view_module_version": "1.2.0",
            "bar_color": null,
            "_model_module": "@jupyter-widgets/controls"
          }
        },
        "871327b725634a7bb5d2891d1bfca2d1": {
          "model_module": "@jupyter-widgets/base",
          "model_name": "LayoutModel",
          "state": {
            "_view_name": "LayoutView",
            "grid_template_rows": null,
            "right": null,
            "justify_content": null,
            "_view_module": "@jupyter-widgets/base",
            "overflow": null,
            "_model_module_version": "1.2.0",
            "_view_count": null,
            "flex_flow": null,
            "width": null,
            "min_width": null,
            "border": null,
            "align_items": null,
            "bottom": null,
            "_model_module": "@jupyter-widgets/base",
            "top": null,
            "grid_column": null,
            "overflow_y": null,
            "overflow_x": null,
            "grid_auto_flow": null,
            "grid_area": null,
            "grid_template_columns": null,
            "flex": null,
            "_model_name": "LayoutModel",
            "justify_items": null,
            "grid_row": null,
            "max_height": null,
            "align_content": null,
            "visibility": null,
            "align_self": null,
            "height": null,
            "min_height": null,
            "padding": null,
            "grid_auto_rows": null,
            "grid_gap": null,
            "max_width": null,
            "order": null,
            "_view_module_version": "1.2.0",
            "grid_template_areas": null,
            "object_position": null,
            "object_fit": null,
            "grid_auto_columns": null,
            "margin": null,
            "display": null,
            "left": null
          }
        },
        "6a036e73d3474d15bdb546186d64ca0a": {
          "model_module": "@jupyter-widgets/controls",
          "model_name": "DescriptionStyleModel",
          "state": {
            "_view_name": "StyleView",
            "_model_name": "DescriptionStyleModel",
            "description_width": "",
            "_view_module": "@jupyter-widgets/base",
            "_model_module_version": "1.5.0",
            "_view_count": null,
            "_view_module_version": "1.2.0",
            "_model_module": "@jupyter-widgets/controls"
          }
        },
        "4f59a2f294314bb981641019b099481e": {
          "model_module": "@jupyter-widgets/base",
          "model_name": "LayoutModel",
          "state": {
            "_view_name": "LayoutView",
            "grid_template_rows": null,
            "right": null,
            "justify_content": null,
            "_view_module": "@jupyter-widgets/base",
            "overflow": null,
            "_model_module_version": "1.2.0",
            "_view_count": null,
            "flex_flow": null,
            "width": null,
            "min_width": null,
            "border": null,
            "align_items": null,
            "bottom": null,
            "_model_module": "@jupyter-widgets/base",
            "top": null,
            "grid_column": null,
            "overflow_y": null,
            "overflow_x": null,
            "grid_auto_flow": null,
            "grid_area": null,
            "grid_template_columns": null,
            "flex": null,
            "_model_name": "LayoutModel",
            "justify_items": null,
            "grid_row": null,
            "max_height": null,
            "align_content": null,
            "visibility": null,
            "align_self": null,
            "height": null,
            "min_height": null,
            "padding": null,
            "grid_auto_rows": null,
            "grid_gap": null,
            "max_width": null,
            "order": null,
            "_view_module_version": "1.2.0",
            "grid_template_areas": null,
            "object_position": null,
            "object_fit": null,
            "grid_auto_columns": null,
            "margin": null,
            "display": null,
            "left": null
          }
        },
        "155454c64ed847dda3a9672f6e67b4c9": {
          "model_module": "@jupyter-widgets/controls",
          "model_name": "HBoxModel",
          "state": {
            "_view_name": "HBoxView",
            "_dom_classes": [],
            "_model_name": "HBoxModel",
            "_view_module": "@jupyter-widgets/controls",
            "_model_module_version": "1.5.0",
            "_view_count": null,
            "_view_module_version": "1.5.0",
            "box_style": "",
            "layout": "IPY_MODEL_d01e39dd802a437e901606249e5f13c5",
            "_model_module": "@jupyter-widgets/controls",
            "children": [
              "IPY_MODEL_c0476af5b90f48b88c268062acb7408a",
              "IPY_MODEL_01a021ce8980445381e824ff7e5e675e"
            ]
          }
        },
        "d01e39dd802a437e901606249e5f13c5": {
          "model_module": "@jupyter-widgets/base",
          "model_name": "LayoutModel",
          "state": {
            "_view_name": "LayoutView",
            "grid_template_rows": null,
            "right": null,
            "justify_content": null,
            "_view_module": "@jupyter-widgets/base",
            "overflow": null,
            "_model_module_version": "1.2.0",
            "_view_count": null,
            "flex_flow": null,
            "width": null,
            "min_width": null,
            "border": null,
            "align_items": null,
            "bottom": null,
            "_model_module": "@jupyter-widgets/base",
            "top": null,
            "grid_column": null,
            "overflow_y": null,
            "overflow_x": null,
            "grid_auto_flow": null,
            "grid_area": null,
            "grid_template_columns": null,
            "flex": null,
            "_model_name": "LayoutModel",
            "justify_items": null,
            "grid_row": null,
            "max_height": null,
            "align_content": null,
            "visibility": null,
            "align_self": null,
            "height": null,
            "min_height": null,
            "padding": null,
            "grid_auto_rows": null,
            "grid_gap": null,
            "max_width": null,
            "order": null,
            "_view_module_version": "1.2.0",
            "grid_template_areas": null,
            "object_position": null,
            "object_fit": null,
            "grid_auto_columns": null,
            "margin": null,
            "display": null,
            "left": null
          }
        },
        "c0476af5b90f48b88c268062acb7408a": {
          "model_module": "@jupyter-widgets/controls",
          "model_name": "FloatProgressModel",
          "state": {
            "_view_name": "ProgressView",
            "style": "IPY_MODEL_f1b6c01d95454d1ab643e2759b2a34af",
            "_dom_classes": [],
            "description": "100%",
            "_model_name": "FloatProgressModel",
            "bar_style": "success",
            "max": 6398,
            "_view_module": "@jupyter-widgets/controls",
            "_model_module_version": "1.5.0",
            "value": 6398,
            "_view_count": null,
            "_view_module_version": "1.5.0",
            "orientation": "horizontal",
            "min": 0,
            "description_tooltip": null,
            "_model_module": "@jupyter-widgets/controls",
            "layout": "IPY_MODEL_abb1803cf55747d582a2e342dd279dac"
          }
        },
        "01a021ce8980445381e824ff7e5e675e": {
          "model_module": "@jupyter-widgets/controls",
          "model_name": "HTMLModel",
          "state": {
            "_view_name": "HTMLView",
            "style": "IPY_MODEL_37e1d23843c54c9d9361d2ef46ff75d8",
            "_dom_classes": [],
            "description": "",
            "_model_name": "HTMLModel",
            "placeholder": "​",
            "_view_module": "@jupyter-widgets/controls",
            "_model_module_version": "1.5.0",
            "value": " 6398/6398 [00:02&lt;00:00, 2275.44ex/s]",
            "_view_count": null,
            "_view_module_version": "1.5.0",
            "description_tooltip": null,
            "_model_module": "@jupyter-widgets/controls",
            "layout": "IPY_MODEL_a245b08998684d9b821991b4b15a6668"
          }
        },
        "f1b6c01d95454d1ab643e2759b2a34af": {
          "model_module": "@jupyter-widgets/controls",
          "model_name": "ProgressStyleModel",
          "state": {
            "_view_name": "StyleView",
            "_model_name": "ProgressStyleModel",
            "description_width": "initial",
            "_view_module": "@jupyter-widgets/base",
            "_model_module_version": "1.5.0",
            "_view_count": null,
            "_view_module_version": "1.2.0",
            "bar_color": null,
            "_model_module": "@jupyter-widgets/controls"
          }
        },
        "abb1803cf55747d582a2e342dd279dac": {
          "model_module": "@jupyter-widgets/base",
          "model_name": "LayoutModel",
          "state": {
            "_view_name": "LayoutView",
            "grid_template_rows": null,
            "right": null,
            "justify_content": null,
            "_view_module": "@jupyter-widgets/base",
            "overflow": null,
            "_model_module_version": "1.2.0",
            "_view_count": null,
            "flex_flow": null,
            "width": null,
            "min_width": null,
            "border": null,
            "align_items": null,
            "bottom": null,
            "_model_module": "@jupyter-widgets/base",
            "top": null,
            "grid_column": null,
            "overflow_y": null,
            "overflow_x": null,
            "grid_auto_flow": null,
            "grid_area": null,
            "grid_template_columns": null,
            "flex": null,
            "_model_name": "LayoutModel",
            "justify_items": null,
            "grid_row": null,
            "max_height": null,
            "align_content": null,
            "visibility": null,
            "align_self": null,
            "height": null,
            "min_height": null,
            "padding": null,
            "grid_auto_rows": null,
            "grid_gap": null,
            "max_width": null,
            "order": null,
            "_view_module_version": "1.2.0",
            "grid_template_areas": null,
            "object_position": null,
            "object_fit": null,
            "grid_auto_columns": null,
            "margin": null,
            "display": null,
            "left": null
          }
        },
        "37e1d23843c54c9d9361d2ef46ff75d8": {
          "model_module": "@jupyter-widgets/controls",
          "model_name": "DescriptionStyleModel",
          "state": {
            "_view_name": "StyleView",
            "_model_name": "DescriptionStyleModel",
            "description_width": "",
            "_view_module": "@jupyter-widgets/base",
            "_model_module_version": "1.5.0",
            "_view_count": null,
            "_view_module_version": "1.2.0",
            "_model_module": "@jupyter-widgets/controls"
          }
        },
        "a245b08998684d9b821991b4b15a6668": {
          "model_module": "@jupyter-widgets/base",
          "model_name": "LayoutModel",
          "state": {
            "_view_name": "LayoutView",
            "grid_template_rows": null,
            "right": null,
            "justify_content": null,
            "_view_module": "@jupyter-widgets/base",
            "overflow": null,
            "_model_module_version": "1.2.0",
            "_view_count": null,
            "flex_flow": null,
            "width": null,
            "min_width": null,
            "border": null,
            "align_items": null,
            "bottom": null,
            "_model_module": "@jupyter-widgets/base",
            "top": null,
            "grid_column": null,
            "overflow_y": null,
            "overflow_x": null,
            "grid_auto_flow": null,
            "grid_area": null,
            "grid_template_columns": null,
            "flex": null,
            "_model_name": "LayoutModel",
            "justify_items": null,
            "grid_row": null,
            "max_height": null,
            "align_content": null,
            "visibility": null,
            "align_self": null,
            "height": null,
            "min_height": null,
            "padding": null,
            "grid_auto_rows": null,
            "grid_gap": null,
            "max_width": null,
            "order": null,
            "_view_module_version": "1.2.0",
            "grid_template_areas": null,
            "object_position": null,
            "object_fit": null,
            "grid_auto_columns": null,
            "margin": null,
            "display": null,
            "left": null
          }
        }
      }
    },
    "accelerator": "GPU"
  },
  "cells": [
    {
      "cell_type": "markdown",
      "metadata": {
        "id": "AaFW6xxQv0Si"
      },
      "source": [
        "# Problem Statement: Classify whether news is reliable or not."
      ]
    },
    {
      "cell_type": "code",
      "metadata": {
        "id": "649Ub31Yv0Sj"
      },
      "source": [
        "#import required libraries\n",
        "import pandas as pd\n",
        "import numpy as np\n",
        "import matplotlib.pyplot as plt  \n",
        "\n",
        "import itertools\n",
        "from sklearn.model_selection import train_test_split\n",
        "from sklearn.feature_extraction.text import TfidfVectorizer\n",
        "from sklearn.linear_model import PassiveAggressiveClassifier\n",
        "from sklearn.metrics import accuracy_score, confusion_matrix"
      ],
      "execution_count": null,
      "outputs": []
    },
    {
      "cell_type": "code",
      "metadata": {
        "colab": {
          "base_uri": "https://localhost:8080/"
        },
        "id": "ReSbhiaHxcz-",
        "outputId": "68b03959-526f-4726-d497-50f27f8cc79a"
      },
      "source": [
        "from google.colab import drive\n",
        "drive.mount('/content/drive')"
      ],
      "execution_count": null,
      "outputs": [
        {
          "output_type": "stream",
          "text": [
            "Mounted at /content/drive\n"
          ],
          "name": "stdout"
        }
      ]
    },
    {
      "cell_type": "code",
      "metadata": {
        "id": "mg7pEfMTx1aK",
        "colab": {
          "base_uri": "https://localhost:8080/"
        },
        "outputId": "083ef213-fcb5-486c-cfd6-cea9a142858e"
      },
      "source": [
        "!ls \"/content/drive/My Drive\""
      ],
      "execution_count": null,
      "outputs": [
        {
          "output_type": "stream",
          "text": [
            "'BEAM-11388 - ZetaSQL Functions for Beam.gsheet'   ex.zip\n",
            "'Colab Notebooks'\t\t\t\t  'PRs for BEAM-10961.gsheet'\n",
            "'Employee Profile Template.pptx'\n"
          ],
          "name": "stdout"
        }
      ]
    },
    {
      "cell_type": "code",
      "metadata": {
        "colab": {
          "base_uri": "https://localhost:8080/"
        },
        "id": "Pllcw2uIW-kQ",
        "outputId": "e5433372-1936-4da1-d3d6-e6c53474e217"
      },
      "source": [
        "data = pd.read_csv('/content/drive/My Drive/resized_v2.csv')"
      ],
      "execution_count": null,
      "outputs": [
        {
          "output_type": "stream",
          "text": [
            "/usr/local/lib/python3.7/dist-packages/IPython/core/interactiveshell.py:2718: DtypeWarning: Columns (1) have mixed types.Specify dtype option on import or set low_memory=False.\n",
            "  interactivity=interactivity, compiler=compiler, result=result)\n"
          ],
          "name": "stderr"
        }
      ]
    },
    {
      "cell_type": "code",
      "metadata": {
        "id": "h3-HixU3v0Sk"
      },
      "source": [
        "#read data from file\n",
        "def load_data(filename):\n",
        "    if(filename.endswith('csv')):\n",
        "        data = pd.read_csv(filename)\n",
        "    if(filename.endswith('xls') or filename.endswith('xlsx')):\n",
        "        data = pd.read_excel(filename)\n",
        "    return data\n",
        "#data= load_data('./archive/resized_v2.csv')"
      ],
      "execution_count": null,
      "outputs": []
    },
    {
      "cell_type": "markdown",
      "metadata": {
        "id": "hzPVocb9v0Sk"
      },
      "source": [
        "Get eagle's view on the data"
      ]
    },
    {
      "cell_type": "code",
      "metadata": {
        "id": "AYu0x8htv0Sl",
        "outputId": "a1ed0189-221d-42df-e065-6a0cc1a740ed"
      },
      "source": [
        "#Get Familiar with the data\n",
        "def UnderstandData(data):\n",
        "    print(data.head())\n",
        "          \n",
        "UnderstandData(data)    "
      ],
      "execution_count": null,
      "outputs": [
        {
          "output_type": "stream",
          "text": [
            "   Unnamed: 0  id                 domain        type  \\\n",
            "0           0  21   bipartisanreport.com   clickbait   \n",
            "1           1  22       theshovel.com.au      satire   \n",
            "2           2  54  blackagendareport.com  unreliable   \n",
            "3           3  61     barenakedislam.com        hate   \n",
            "4           4  64  blackagendareport.com  unreliable   \n",
            "\n",
            "                                                 url  \\\n",
            "0  http://bipartisanreport.com/cdn-cgi/l/email-pr...   \n",
            "1  http://www.theshovel.com.au/tag/malcolm-turnbu...   \n",
            "2  https://blackagendareport.com/what-western-imp...   \n",
            "3  http://barenakedislam.com/2018/01/08/wow-irani...   \n",
            "4  https://blackagendareport.com/articlelist/afri...   \n",
            "\n",
            "                                             content  \\\n",
            "0  The website from which you got to this page is...   \n",
            "1  For as long as he can remember, Malcolm Turnbu...   \n",
            "2  What Western Imperialism Is Up to Now in Zimba...   \n",
            "3  We appreciate your help! Click here to donate\\...   \n",
            "4  “The massacre of the mine workers in August of...   \n",
            "\n",
            "                   scraped_at                 inserted_at  \\\n",
            "0  2018-01-25 16:17:44.789555  2018-02-02 01:19:41.756632   \n",
            "1  2018-01-25 16:17:44.789555  2018-02-02 01:19:41.756632   \n",
            "2  2018-01-25 16:17:44.789555  2018-02-02 01:19:41.756632   \n",
            "3  2018-01-25 16:17:44.789555  2018-02-02 01:19:41.756632   \n",
            "4  2018-01-25 16:17:44.789555  2018-02-02 01:19:41.756632   \n",
            "\n",
            "                   updated_at  \\\n",
            "0  2018-02-02 01:19:41.756664   \n",
            "1  2018-02-02 01:19:41.756664   \n",
            "2  2018-02-02 01:19:41.756664   \n",
            "3  2018-02-02 01:19:41.756664   \n",
            "4  2018-02-02 01:19:41.756664   \n",
            "\n",
            "                                               title  \\\n",
            "0                                   Email Protection   \n",
            "1               malcolm turnbull satire – The Shovel   \n",
            "2  What Western Imperialism Is Up to Now in Zimbabwe   \n",
            "3  WOW! Iranian-Canadian protesters love Donald T...   \n",
            "4                                Black Agenda Report   \n",
            "\n",
            "                                             authors  keywords meta_keywords  \\\n",
            "0                                                NaN       NaN          ['']   \n",
            "1                                         The Shovel       NaN          ['']   \n",
            "2  Bruce A. Dixon, Bar Managing Editor, Glen Ford...       NaN          ['']   \n",
            "3  Cleavis Nowell, Don Spilman, Rick Oneil, Linda...       NaN          ['']   \n",
            "4  Ann Garrison, Bar Contributor, Boniface Musavu...       NaN          ['']   \n",
            "\n",
            "                                    meta_description  tags  summary source  \n",
            "0                                                NaN   NaN      NaN    NaN  \n",
            "1                                                NaN  3, 2      NaN    NaN  \n",
            "2  “The capitalist agenda is to neo-colonize Zimb...   NaN      NaN    NaN  \n",
            "3                                                NaN   NaN      NaN    NaN  \n",
            "4                                                NaN   NaN      NaN    NaN  \n"
          ],
          "name": "stdout"
        }
      ]
    },
    {
      "cell_type": "code",
      "metadata": {
        "id": "wHsPRsODv0Sl",
        "outputId": "6d7ed1df-f652-4c61-856b-5879492ad2a5"
      },
      "source": [
        "#Get numerical understanding to data\n",
        "def describeData(data):\n",
        "    print(data.describe())\n",
        "describeData(data)    "
      ],
      "execution_count": null,
      "outputs": [
        {
          "output_type": "stream",
          "text": [
            "          Unnamed: 0  keywords  summary\n",
            "count  426550.000000       0.0      0.0\n",
            "mean   213274.500000       NaN      NaN\n",
            "std    123134.522998       NaN      NaN\n",
            "min         0.000000       NaN      NaN\n",
            "25%    106637.250000       NaN      NaN\n",
            "50%    213274.500000       NaN      NaN\n",
            "75%    319911.750000       NaN      NaN\n",
            "max    426549.000000       NaN      NaN\n"
          ],
          "name": "stdout"
        }
      ]
    },
    {
      "cell_type": "code",
      "metadata": {
        "id": "KTcVmkKLv0Sl",
        "outputId": "f2b0f470-1340-4fa5-cede-017acbbd2db7"
      },
      "source": [
        "#Get Insights of data\n",
        "def basicAnalysis(data):\n",
        "    print(\"Number of Rows and Columns:\\n\", data.shape , \"\\n\")\n",
        "    print(\"Column Names are:\\n\", data.columns,\"\\n\" )\n",
        "    print(\"Types of columns are:\\n\", data.dtypes, \"\\n\")\n",
        "basicAnalysis(data)"
      ],
      "execution_count": null,
      "outputs": [
        {
          "output_type": "stream",
          "text": [
            "Number of Rows and Columns:\n",
            " (426550, 17) \n",
            "\n",
            "Column Names are:\n",
            " Index(['Unnamed: 0', 'id', 'domain', 'type', 'url', 'content', 'scraped_at',\n",
            "       'inserted_at', 'updated_at', 'title', 'authors', 'keywords',\n",
            "       'meta_keywords', 'meta_description', 'tags', 'summary', 'source'],\n",
            "      dtype='object') \n",
            "\n",
            "Types of columns are:\n",
            " Unnamed: 0            int64\n",
            "id                   object\n",
            "domain               object\n",
            "type                 object\n",
            "url                  object\n",
            "content              object\n",
            "scraped_at           object\n",
            "inserted_at          object\n",
            "updated_at           object\n",
            "title                object\n",
            "authors              object\n",
            "keywords            float64\n",
            "meta_keywords        object\n",
            "meta_description     object\n",
            "tags                 object\n",
            "summary             float64\n",
            "source               object\n",
            "dtype: object \n",
            "\n"
          ],
          "name": "stdout"
        }
      ]
    },
    {
      "cell_type": "code",
      "metadata": {
        "colab": {
          "base_uri": "https://localhost:8080/"
        },
        "id": "hcCnWKpOv0Sm",
        "outputId": "11a009a6-caaf-490d-c5c6-637dd3030290"
      },
      "source": [
        "#Data Cleaning- Count Missing Values\n",
        "def countMissingValues(data):\n",
        "    #we remove missings first. Let's see how many missings we have\n",
        "    print(data.isnull().sum())\n",
        "countMissingValues(data) "
      ],
      "execution_count": null,
      "outputs": [
        {
          "output_type": "stream",
          "text": [
            "Unnamed: 0               0\n",
            "id                       0\n",
            "domain                   3\n",
            "type                 10351\n",
            "url                      3\n",
            "content                  3\n",
            "scraped_at               3\n",
            "inserted_at              3\n",
            "updated_at               3\n",
            "title                 1177\n",
            "authors              59495\n",
            "keywords            127965\n",
            "meta_keywords            3\n",
            "meta_description     76270\n",
            "tags                 80937\n",
            "summary             127965\n",
            "source              127965\n",
            "dtype: int64\n"
          ],
          "name": "stdout"
        }
      ]
    },
    {
      "cell_type": "code",
      "metadata": {
        "colab": {
          "base_uri": "https://localhost:8080/",
          "height": 683
        },
        "id": "u1mFrl627SYq",
        "outputId": "03b74673-42b8-4b62-ac9e-e341177fa939"
      },
      "source": [
        "data.tail()"
      ],
      "execution_count": null,
      "outputs": [
        {
          "output_type": "execute_result",
          "data": {
            "text/html": [
              "<div>\n",
              "<style scoped>\n",
              "    .dataframe tbody tr th:only-of-type {\n",
              "        vertical-align: middle;\n",
              "    }\n",
              "\n",
              "    .dataframe tbody tr th {\n",
              "        vertical-align: top;\n",
              "    }\n",
              "\n",
              "    .dataframe thead th {\n",
              "        text-align: right;\n",
              "    }\n",
              "</style>\n",
              "<table border=\"1\" class=\"dataframe\">\n",
              "  <thead>\n",
              "    <tr style=\"text-align: right;\">\n",
              "      <th></th>\n",
              "      <th>Unnamed: 0</th>\n",
              "      <th>id</th>\n",
              "      <th>domain</th>\n",
              "      <th>type</th>\n",
              "      <th>url</th>\n",
              "      <th>content</th>\n",
              "      <th>scraped_at</th>\n",
              "      <th>inserted_at</th>\n",
              "      <th>updated_at</th>\n",
              "      <th>title</th>\n",
              "      <th>authors</th>\n",
              "      <th>keywords</th>\n",
              "      <th>meta_keywords</th>\n",
              "      <th>meta_description</th>\n",
              "      <th>tags</th>\n",
              "      <th>summary</th>\n",
              "      <th>source</th>\n",
              "    </tr>\n",
              "  </thead>\n",
              "  <tbody>\n",
              "    <tr>\n",
              "      <th>127960</th>\n",
              "      <td>127960</td>\n",
              "      <td>2955071</td>\n",
              "      <td>dailykos.com</td>\n",
              "      <td>political</td>\n",
              "      <td>https://www.dailykos.com/news/OpenVotingConsor...</td>\n",
              "      <td>We really are with stupid, and FSM save us all...</td>\n",
              "      <td>2017-11-18T20:01:27.400599</td>\n",
              "      <td>2018-02-07 23:39:33.852671</td>\n",
              "      <td>2018-02-07 23:39:33.852696</td>\n",
              "      <td>Daily Kos: OpenVotingConsortium</td>\n",
              "      <td>Happy Cog Studios - Http, Www.Happycog.Com, Da...</td>\n",
              "      <td>NaN</td>\n",
              "      <td>['']</td>\n",
              "      <td>NaN</td>\n",
              "      <td>Next</td>\n",
              "      <td>NaN</td>\n",
              "      <td>NaN</td>\n",
              "    </tr>\n",
              "    <tr>\n",
              "      <th>127961</th>\n",
              "      <td>127961</td>\n",
              "      <td>2955178</td>\n",
              "      <td>antiwar.com</td>\n",
              "      <td>bias</td>\n",
              "      <td>http://www.antiwar.com/szamuely/sz041900.html</td>\n",
              "      <td>The Times story faithfully parrots the Adminis...</td>\n",
              "      <td>2017-11-18T20:01:27.400599</td>\n",
              "      <td>2018-02-07 23:39:33.852671</td>\n",
              "      <td>2018-02-07 23:39:33.852696</td>\n",
              "      <td>Decline of the West</td>\n",
              "      <td>NaN</td>\n",
              "      <td>NaN</td>\n",
              "      <td>['embassy bombing', 'chinese embassy', 'kosovo...</td>\n",
              "      <td>NaN</td>\n",
              "      <td>NaN</td>\n",
              "      <td>NaN</td>\n",
              "      <td>NaN</td>\n",
              "    </tr>\n",
              "    <tr>\n",
              "      <th>127962</th>\n",
              "      <td>127962</td>\n",
              "      <td>2955209</td>\n",
              "      <td>lewrockwell.com</td>\n",
              "      <td>bias</td>\n",
              "      <td>https://www.lewrockwell.com/2005/07/fred-reed/...</td>\n",
              "      <td>‘Tother day in the afternoon I went down the h...</td>\n",
              "      <td>2017-11-18T20:01:27.400599</td>\n",
              "      <td>2018-02-07 23:39:33.852671</td>\n",
              "      <td>2018-02-07 23:39:33.852696</td>\n",
              "      <td>Furrin Policy</td>\n",
              "      <td>Fred Reed</td>\n",
              "      <td>NaN</td>\n",
              "      <td>['']</td>\n",
              "      <td>NaN</td>\n",
              "      <td>NaN</td>\n",
              "      <td>NaN</td>\n",
              "      <td>NaN</td>\n",
              "    </tr>\n",
              "    <tr>\n",
              "      <th>127963</th>\n",
              "      <td>127963</td>\n",
              "      <td>2955230</td>\n",
              "      <td>teapartytribune.com</td>\n",
              "      <td>unknown</td>\n",
              "      <td>http://www.teapartytribune.com/tag/ny-times-be...</td>\n",
              "      <td>He arrived at his court martial hearing before...</td>\n",
              "      <td>2017-11-18T20:01:27.400599</td>\n",
              "      <td>2018-02-07 23:39:33.852671</td>\n",
              "      <td>2018-02-07 23:39:33.852696</td>\n",
              "      <td>ny times best seller</td>\n",
              "      <td>NaN</td>\n",
              "      <td>NaN</td>\n",
              "      <td>['']</td>\n",
              "      <td>NaN</td>\n",
              "      <td>NaN</td>\n",
              "      <td>NaN</td>\n",
              "      <td>NaN</td>\n",
              "    </tr>\n",
              "    <tr>\n",
              "      <th>127964</th>\n",
              "      <td>127964</td>\n",
              "      <td>2955231</td>\n",
              "      <td>teapartytribune.com</td>\n",
              "      <td>unknown</td>\n",
              "      <td>http://www.teapartytribune.com/tag/kevin-jacks...</td>\n",
              "      <td>He arrived at his court martial hearing before...</td>\n",
              "      <td>2017-11-18T20:01:27.400599</td>\n",
              "      <td>2018-02-07 23:39:33.852671</td>\n",
              "      <td>2018-02-07 23:39:33.852696</td>\n",
              "      <td>Kevin Jackson’s new book</td>\n",
              "      <td>NaN</td>\n",
              "      <td>NaN</td>\n",
              "      <td>['']</td>\n",
              "      <td>NaN</td>\n",
              "      <td>NaN</td>\n",
              "      <td>NaN</td>\n",
              "      <td>NaN</td>\n",
              "    </tr>\n",
              "  </tbody>\n",
              "</table>\n",
              "</div>"
            ],
            "text/plain": [
              "        Unnamed: 0       id               domain  ...  tags summary source\n",
              "127960      127960  2955071         dailykos.com  ...  Next     NaN    NaN\n",
              "127961      127961  2955178          antiwar.com  ...   NaN     NaN    NaN\n",
              "127962      127962  2955209      lewrockwell.com  ...   NaN     NaN    NaN\n",
              "127963      127963  2955230  teapartytribune.com  ...   NaN     NaN    NaN\n",
              "127964      127964  2955231  teapartytribune.com  ...   NaN     NaN    NaN\n",
              "\n",
              "[5 rows x 17 columns]"
            ]
          },
          "metadata": {
            "tags": []
          },
          "execution_count": 31
        }
      ]
    },
    {
      "cell_type": "markdown",
      "metadata": {
        "id": "8g7K9mnxv0Sm"
      },
      "source": [
        "We can not use keywords, summary, source,tags, meta_description, meta_keywords, authors attributes as there are many missing values out of 426550 instances. "
      ]
    },
    {
      "cell_type": "markdown",
      "metadata": {
        "id": "ceA-NMUfv0Sm"
      },
      "source": [
        "Data Pre-Processing"
      ]
    },
    {
      "cell_type": "code",
      "metadata": {
        "colab": {
          "base_uri": "https://localhost:8080/"
        },
        "id": "IYHwR9SKv0Sm",
        "outputId": "e4a69e72-e42e-4a81-8501-d93010b08d9b"
      },
      "source": [
        "data['summary'] = data['summary'].astype('str') \n",
        "data['keywords'] = data['keywords'].astype('str') \n",
        "data['id'] = pd.to_numeric(data['id'], errors=\"coerce\")\n",
        "\n",
        "#check data type after type conversion\n",
        "data.dtypes"
      ],
      "execution_count": null,
      "outputs": [
        {
          "output_type": "execute_result",
          "data": {
            "text/plain": [
              "Unnamed: 0            int64\n",
              "id                  float64\n",
              "domain               object\n",
              "type                 object\n",
              "url                  object\n",
              "content              object\n",
              "scraped_at           object\n",
              "inserted_at          object\n",
              "updated_at           object\n",
              "title                object\n",
              "authors              object\n",
              "keywords             object\n",
              "meta_keywords        object\n",
              "meta_description     object\n",
              "tags                 object\n",
              "summary              object\n",
              "source              float64\n",
              "dtype: object"
            ]
          },
          "metadata": {
            "tags": []
          },
          "execution_count": 5
        }
      ]
    },
    {
      "cell_type": "code",
      "metadata": {
        "id": "1PKxGhDt7__W"
      },
      "source": [
        "data[[\"scraped_at\", \"inserted_at\", \"updated_at\"]] = data[[\"scraped_at\", \"inserted_at\", \"updated_at\"]].apply(pd.to_datetime)"
      ],
      "execution_count": null,
      "outputs": []
    },
    {
      "cell_type": "code",
      "metadata": {
        "id": "Y6ZU7-Zdv0Sn"
      },
      "source": [
        "#Data Cleaning- Remove missing values by mode\n",
        "def removeMissingValuesByMode(data, cols):\n",
        "    modeval=data[cols].mode()[0]\n",
        "    #print(modeval.dtype)\n",
        "    data[cols].fillna(modeval,inplace=True)\n",
        "    return data"
      ],
      "execution_count": null,
      "outputs": []
    },
    {
      "cell_type": "code",
      "metadata": {
        "colab": {
          "base_uri": "https://localhost:8080/"
        },
        "id": "8x90U8P-v0Sn",
        "outputId": "5b0b1c80-2689-473b-add7-9c2af96cfe34"
      },
      "source": [
        "removeMissingValuesByMode(data,'domain')\n",
        "removeMissingValuesByMode(data,'type')\n",
        "removeMissingValuesByMode(data,'title')\n",
        "removeMissingValuesByMode(data,'content')\n",
        "removeMissingValuesByMode(data,'url')\n",
        "removeMissingValuesByMode(data,'authors')\n",
        "removeMissingValuesByMode(data,'scraped_at')\n",
        "removeMissingValuesByMode(data,'inserted_at')\n",
        "removeMissingValuesByMode(data,'updated_at')\n",
        "removeMissingValuesByMode(data,'id')\n",
        "countMissingValues(data) "
      ],
      "execution_count": null,
      "outputs": [
        {
          "output_type": "stream",
          "text": [
            "Unnamed: 0               0\n",
            "id                       0\n",
            "domain                   0\n",
            "type                     0\n",
            "url                      0\n",
            "content                  0\n",
            "scraped_at               0\n",
            "inserted_at              0\n",
            "updated_at               0\n",
            "title                    0\n",
            "authors                  0\n",
            "keywords                 0\n",
            "meta_keywords            3\n",
            "meta_description     76270\n",
            "tags                 80937\n",
            "summary                  0\n",
            "source              127965\n",
            "dtype: int64\n"
          ],
          "name": "stdout"
        }
      ]
    },
    {
      "cell_type": "code",
      "metadata": {
        "colab": {
          "base_uri": "https://localhost:8080/"
        },
        "id": "RZmp6cBB_k_o",
        "outputId": "82f07950-2f7f-4b6d-c063-2745f0b8af22"
      },
      "source": [
        "print(\"Column Names are:\\n\", data.columns,\"\\n\" )"
      ],
      "execution_count": null,
      "outputs": [
        {
          "output_type": "stream",
          "text": [
            "Column Names are:\n",
            " Index(['Unnamed: 0', 'id', 'domain', 'type', 'url', 'content', 'scraped_at',\n",
            "       'inserted_at', 'updated_at', 'title', 'authors', 'keywords',\n",
            "       'meta_keywords', 'meta_description', 'tags', 'summary', 'source'],\n",
            "      dtype='object') \n",
            "\n"
          ],
          "name": "stdout"
        }
      ]
    },
    {
      "cell_type": "markdown",
      "metadata": {
        "id": "7fMIWpEev0Sn"
      },
      "source": [
        "Data columns to be dropped are yet to be decided in team. \n",
        "I think we should remove Unnamed, id, [scraped_at,inserted_at,updated_at(these may be not)], authors,meta_keywords,meta_description, tags, summary,source."
      ]
    },
    {
      "cell_type": "code",
      "metadata": {
        "colab": {
          "base_uri": "https://localhost:8080/",
          "height": 419
        },
        "id": "Aydqv1A3v0Sn",
        "outputId": "5923a1c9-e860-4c7e-d3c4-14b5fe67211d"
      },
      "source": [
        "data['type'].value_counts().plot(kind='bar')"
      ],
      "execution_count": null,
      "outputs": [
        {
          "output_type": "execute_result",
          "data": {
            "text/plain": [
              "<matplotlib.axes._subplots.AxesSubplot at 0x7f828c2f66d0>"
            ]
          },
          "metadata": {
            "tags": []
          },
          "execution_count": 12
        },
        {
          "output_type": "display_data",
          "data": {
            "image/png": "[encoded data removed]",
            "text/plain": [
              "<Figure size 432x288 with 1 Axes>"
            ]
          },
          "metadata": {
            "tags": []
          }
        }
      ]
    },
    {
      "cell_type": "markdown",
      "metadata": {
        "id": "1v2lwi30v0So"
      },
      "source": [
        "Ooops! we have invalid value in the type column, so we need to remove it."
      ]
    },
    {
      "cell_type": "code",
      "metadata": {
        "id": "zZTMqaJAv0So"
      },
      "source": [
        "#replace invalid values by mode\n",
        "data['type'] = data['type'].replace(['2018-02-10 13:43:39.521661'],'reliable')"
      ],
      "execution_count": null,
      "outputs": []
    },
    {
      "cell_type": "code",
      "metadata": {
        "id": "FPIY5z4Xv0So",
        "outputId": "87307431-6e38-49e2-b441-6f4f9578da77"
      },
      "source": [
        "data['type'].value_counts().plot(kind='bar')"
      ],
      "execution_count": null,
      "outputs": [
        {
          "output_type": "execute_result",
          "data": {
            "text/plain": [
              "<matplotlib.axes._subplots.AxesSubplot at 0x7fbb6fe376a0>"
            ]
          },
          "metadata": {
            "tags": []
          },
          "execution_count": 25
        },
        {
          "output_type": "display_data",
          "data": {
            "image/png": "[encoded data removed]",
            "text/plain": [
              "<Figure size 432x288 with 1 Axes>"
            ]
          },
          "metadata": {
            "tags": []
          }
        }
      ]
    },
    {
      "cell_type": "code",
      "metadata": {
        "id": "kU58Cgunv0So",
        "colab": {
          "base_uri": "https://localhost:8080/",
          "height": 550
        },
        "outputId": "b0397686-c9ce-4876-b224-a154dab0db00"
      },
      "source": [
        "data.head(4)"
      ],
      "execution_count": null,
      "outputs": [
        {
          "output_type": "execute_result",
          "data": {
            "text/html": [
              "<div>\n",
              "<style scoped>\n",
              "    .dataframe tbody tr th:only-of-type {\n",
              "        vertical-align: middle;\n",
              "    }\n",
              "\n",
              "    .dataframe tbody tr th {\n",
              "        vertical-align: top;\n",
              "    }\n",
              "\n",
              "    .dataframe thead th {\n",
              "        text-align: right;\n",
              "    }\n",
              "</style>\n",
              "<table border=\"1\" class=\"dataframe\">\n",
              "  <thead>\n",
              "    <tr style=\"text-align: right;\">\n",
              "      <th></th>\n",
              "      <th>Unnamed: 0</th>\n",
              "      <th>id</th>\n",
              "      <th>domain</th>\n",
              "      <th>type</th>\n",
              "      <th>url</th>\n",
              "      <th>content</th>\n",
              "      <th>scraped_at</th>\n",
              "      <th>inserted_at</th>\n",
              "      <th>updated_at</th>\n",
              "      <th>title</th>\n",
              "      <th>authors</th>\n",
              "      <th>keywords</th>\n",
              "      <th>meta_keywords</th>\n",
              "      <th>meta_description</th>\n",
              "      <th>tags</th>\n",
              "      <th>summary</th>\n",
              "      <th>source</th>\n",
              "    </tr>\n",
              "  </thead>\n",
              "  <tbody>\n",
              "    <tr>\n",
              "      <th>0</th>\n",
              "      <td>0</td>\n",
              "      <td>21</td>\n",
              "      <td>bipartisanreport.com</td>\n",
              "      <td>clickbait</td>\n",
              "      <td>http://bipartisanreport.com/cdn-cgi/l/email-pr...</td>\n",
              "      <td>The website from which you got to this page is...</td>\n",
              "      <td>2018-01-25 16:17:44.789555</td>\n",
              "      <td>2018-02-02 01:19:41.756632</td>\n",
              "      <td>2018-02-02 01:19:41.756664</td>\n",
              "      <td>Email Protection</td>\n",
              "      <td>NaN</td>\n",
              "      <td>NaN</td>\n",
              "      <td>['']</td>\n",
              "      <td>NaN</td>\n",
              "      <td>NaN</td>\n",
              "      <td>NaN</td>\n",
              "      <td>NaN</td>\n",
              "    </tr>\n",
              "    <tr>\n",
              "      <th>1</th>\n",
              "      <td>1</td>\n",
              "      <td>22</td>\n",
              "      <td>theshovel.com.au</td>\n",
              "      <td>satire</td>\n",
              "      <td>http://www.theshovel.com.au/tag/malcolm-turnbu...</td>\n",
              "      <td>For as long as he can remember, Malcolm Turnbu...</td>\n",
              "      <td>2018-01-25 16:17:44.789555</td>\n",
              "      <td>2018-02-02 01:19:41.756632</td>\n",
              "      <td>2018-02-02 01:19:41.756664</td>\n",
              "      <td>malcolm turnbull satire – The Shovel</td>\n",
              "      <td>The Shovel</td>\n",
              "      <td>NaN</td>\n",
              "      <td>['']</td>\n",
              "      <td>NaN</td>\n",
              "      <td>3, 2</td>\n",
              "      <td>NaN</td>\n",
              "      <td>NaN</td>\n",
              "    </tr>\n",
              "    <tr>\n",
              "      <th>2</th>\n",
              "      <td>2</td>\n",
              "      <td>54</td>\n",
              "      <td>blackagendareport.com</td>\n",
              "      <td>unreliable</td>\n",
              "      <td>https://blackagendareport.com/what-western-imp...</td>\n",
              "      <td>What Western Imperialism Is Up to Now in Zimba...</td>\n",
              "      <td>2018-01-25 16:17:44.789555</td>\n",
              "      <td>2018-02-02 01:19:41.756632</td>\n",
              "      <td>2018-02-02 01:19:41.756664</td>\n",
              "      <td>What Western Imperialism Is Up to Now in Zimbabwe</td>\n",
              "      <td>Bruce A. Dixon, Bar Managing Editor, Glen Ford...</td>\n",
              "      <td>NaN</td>\n",
              "      <td>['']</td>\n",
              "      <td>“The capitalist agenda is to neo-colonize Zimb...</td>\n",
              "      <td>NaN</td>\n",
              "      <td>NaN</td>\n",
              "      <td>NaN</td>\n",
              "    </tr>\n",
              "    <tr>\n",
              "      <th>3</th>\n",
              "      <td>3</td>\n",
              "      <td>61</td>\n",
              "      <td>barenakedislam.com</td>\n",
              "      <td>hate</td>\n",
              "      <td>http://barenakedislam.com/2018/01/08/wow-irani...</td>\n",
              "      <td>We appreciate your help! Click here to donate\\...</td>\n",
              "      <td>2018-01-25 16:17:44.789555</td>\n",
              "      <td>2018-02-02 01:19:41.756632</td>\n",
              "      <td>2018-02-02 01:19:41.756664</td>\n",
              "      <td>WOW! Iranian-Canadian protesters love Donald T...</td>\n",
              "      <td>Cleavis Nowell, Don Spilman, Rick Oneil, Linda...</td>\n",
              "      <td>NaN</td>\n",
              "      <td>['']</td>\n",
              "      <td>NaN</td>\n",
              "      <td>NaN</td>\n",
              "      <td>NaN</td>\n",
              "      <td>NaN</td>\n",
              "    </tr>\n",
              "  </tbody>\n",
              "</table>\n",
              "</div>"
            ],
            "text/plain": [
              "   Unnamed: 0  id                 domain  ...  tags summary source\n",
              "0           0  21   bipartisanreport.com  ...   NaN     NaN    NaN\n",
              "1           1  22       theshovel.com.au  ...  3, 2     NaN    NaN\n",
              "2           2  54  blackagendareport.com  ...   NaN     NaN    NaN\n",
              "3           3  61     barenakedislam.com  ...   NaN     NaN    NaN\n",
              "\n",
              "[4 rows x 17 columns]"
            ]
          },
          "metadata": {
            "tags": []
          },
          "execution_count": 29
        }
      ]
    },
    {
      "cell_type": "code",
      "metadata": {
        "colab": {
          "base_uri": "https://localhost:8080/"
        },
        "id": "I0tIFF4AAUUW",
        "outputId": "e8cd55e3-26e4-4bf5-f78d-76fb692d6bb1"
      },
      "source": [
        "#because these attributes contain too many missing values that are hard to handle, better to drop them\n",
        "data.pop('keywords')\n",
        "data.pop('meta_keywords')\n",
        "data.pop('Unnamed: 0')\n",
        "data.pop('meta_description')\n",
        "data.pop('tags')\n",
        "data.pop('summary')\n",
        "data.pop('source')"
      ],
      "execution_count": null,
      "outputs": [
        {
          "output_type": "execute_result",
          "data": {
            "text/plain": [
              "0        NaN\n",
              "1        NaN\n",
              "2        NaN\n",
              "3        NaN\n",
              "4        NaN\n",
              "          ..\n",
              "127960   NaN\n",
              "127961   NaN\n",
              "127962   NaN\n",
              "127963   NaN\n",
              "127964   NaN\n",
              "Name: source, Length: 127965, dtype: float64"
            ]
          },
          "metadata": {
            "tags": []
          },
          "execution_count": 11
        }
      ]
    },
    {
      "cell_type": "code",
      "metadata": {
        "colab": {
          "base_uri": "https://localhost:8080/"
        },
        "id": "b1NjpdBjpQgL",
        "outputId": "b1668436-6569-400a-ca58-05d6ad6bbb77"
      },
      "source": [
        "#because ids dont contribute to the training\n",
        "data.pop('id')"
      ],
      "execution_count": null,
      "outputs": [
        {
          "output_type": "execute_result",
          "data": {
            "text/plain": [
              "0              21.0\n",
              "1              22.0\n",
              "2              54.0\n",
              "3              61.0\n",
              "4              64.0\n",
              "            ...    \n",
              "127960    2955071.0\n",
              "127961    2955178.0\n",
              "127962    2955209.0\n",
              "127963    2955230.0\n",
              "127964    2955231.0\n",
              "Name: id, Length: 127965, dtype: float64"
            ]
          },
          "metadata": {
            "tags": []
          },
          "execution_count": 12
        }
      ]
    },
    {
      "cell_type": "code",
      "metadata": {
        "colab": {
          "base_uri": "https://localhost:8080/"
        },
        "id": "y9ftZ8I4CtNG",
        "outputId": "8ae70821-3343-47fc-f74f-932020d14305"
      },
      "source": [
        "data.pop('scraped_at')\n",
        "data.pop('inserted_at')\n",
        "data.pop('updated_at')"
      ],
      "execution_count": null,
      "outputs": [
        {
          "output_type": "execute_result",
          "data": {
            "text/plain": [
              "0        2018-02-02 01:19:41.756664\n",
              "1        2018-02-02 01:19:41.756664\n",
              "2        2018-02-02 01:19:41.756664\n",
              "3        2018-02-02 01:19:41.756664\n",
              "4        2018-02-02 01:19:41.756664\n",
              "                    ...            \n",
              "127960   2018-02-07 23:39:33.852696\n",
              "127961   2018-02-07 23:39:33.852696\n",
              "127962   2018-02-07 23:39:33.852696\n",
              "127963   2018-02-07 23:39:33.852696\n",
              "127964   2018-02-07 23:39:33.852696\n",
              "Name: updated_at, Length: 127965, dtype: datetime64[ns]"
            ]
          },
          "metadata": {
            "tags": []
          },
          "execution_count": 13
        }
      ]
    },
    {
      "cell_type": "code",
      "metadata": {
        "colab": {
          "base_uri": "https://localhost:8080/"
        },
        "id": "dOX9k38kpdBY",
        "outputId": "aa1fcc7c-707d-4d99-f248-e0a5eaeea3aa"
      },
      "source": [
        "data.pop('title')\n",
        "data.pop('authors')\n",
        "data.pop('domain')\n",
        "data.pop('url')"
      ],
      "execution_count": null,
      "outputs": [
        {
          "output_type": "execute_result",
          "data": {
            "text/plain": [
              "0         http://bipartisanreport.com/cdn-cgi/l/email-pr...\n",
              "1         http://www.theshovel.com.au/tag/malcolm-turnbu...\n",
              "2         https://blackagendareport.com/what-western-imp...\n",
              "3         http://barenakedislam.com/2018/01/08/wow-irani...\n",
              "4         https://blackagendareport.com/articlelist/afri...\n",
              "                                ...                        \n",
              "127960    https://www.dailykos.com/news/OpenVotingConsor...\n",
              "127961        http://www.antiwar.com/szamuely/sz041900.html\n",
              "127962    https://www.lewrockwell.com/2005/07/fred-reed/...\n",
              "127963    http://www.teapartytribune.com/tag/ny-times-be...\n",
              "127964    http://www.teapartytribune.com/tag/kevin-jacks...\n",
              "Name: url, Length: 127965, dtype: object"
            ]
          },
          "metadata": {
            "tags": []
          },
          "execution_count": 14
        }
      ]
    },
    {
      "cell_type": "code",
      "metadata": {
        "colab": {
          "base_uri": "https://localhost:8080/"
        },
        "id": "f3n63nlb-5Li",
        "outputId": "da1980a5-0e06-4de2-866d-460dafaf3572"
      },
      "source": [
        "print(\"Column Names are:\\n\", data.columns,\"\\n\" )"
      ],
      "execution_count": null,
      "outputs": [
        {
          "output_type": "stream",
          "text": [
            "Column Names are:\n",
            " Index(['type', 'content'], dtype='object') \n",
            "\n"
          ],
          "name": "stdout"
        }
      ]
    },
    {
      "cell_type": "code",
      "metadata": {
        "colab": {
          "base_uri": "https://localhost:8080/",
          "height": 357
        },
        "id": "V02dWdMmY0GA",
        "outputId": "a35305bb-4960-417c-96a5-70c262168762"
      },
      "source": [
        "data.head()"
      ],
      "execution_count": null,
      "outputs": [
        {
          "output_type": "execute_result",
          "data": {
            "text/html": [
              "<div>\n",
              "<style scoped>\n",
              "    .dataframe tbody tr th:only-of-type {\n",
              "        vertical-align: middle;\n",
              "    }\n",
              "\n",
              "    .dataframe tbody tr th {\n",
              "        vertical-align: top;\n",
              "    }\n",
              "\n",
              "    .dataframe thead th {\n",
              "        text-align: right;\n",
              "    }\n",
              "</style>\n",
              "<table border=\"1\" class=\"dataframe\">\n",
              "  <thead>\n",
              "    <tr style=\"text-align: right;\">\n",
              "      <th></th>\n",
              "      <th>id</th>\n",
              "      <th>domain</th>\n",
              "      <th>labels</th>\n",
              "      <th>url</th>\n",
              "      <th>content</th>\n",
              "      <th>title</th>\n",
              "      <th>authors</th>\n",
              "    </tr>\n",
              "  </thead>\n",
              "  <tbody>\n",
              "    <tr>\n",
              "      <th>0</th>\n",
              "      <td>21.0</td>\n",
              "      <td>bipartisanreport.com</td>\n",
              "      <td>1</td>\n",
              "      <td>http://bipartisanreport.com/cdn-cgi/l/email-pr...</td>\n",
              "      <td>The website from which you got to this page is...</td>\n",
              "      <td>Email Protection</td>\n",
              "      <td>Backgroundurl Avatar_Large, Nickname, Joined, ...</td>\n",
              "    </tr>\n",
              "    <tr>\n",
              "      <th>1</th>\n",
              "      <td>22.0</td>\n",
              "      <td>theshovel.com.au</td>\n",
              "      <td>1</td>\n",
              "      <td>http://www.theshovel.com.au/tag/malcolm-turnbu...</td>\n",
              "      <td>For as long as he can remember, Malcolm Turnbu...</td>\n",
              "      <td>malcolm turnbull satire – The Shovel</td>\n",
              "      <td>The Shovel</td>\n",
              "    </tr>\n",
              "    <tr>\n",
              "      <th>2</th>\n",
              "      <td>54.0</td>\n",
              "      <td>blackagendareport.com</td>\n",
              "      <td>1</td>\n",
              "      <td>https://blackagendareport.com/what-western-imp...</td>\n",
              "      <td>What Western Imperialism Is Up to Now in Zimba...</td>\n",
              "      <td>What Western Imperialism Is Up to Now in Zimbabwe</td>\n",
              "      <td>Bruce A. Dixon, Bar Managing Editor, Glen Ford...</td>\n",
              "    </tr>\n",
              "    <tr>\n",
              "      <th>3</th>\n",
              "      <td>61.0</td>\n",
              "      <td>barenakedislam.com</td>\n",
              "      <td>1</td>\n",
              "      <td>http://barenakedislam.com/2018/01/08/wow-irani...</td>\n",
              "      <td>We appreciate your help! Click here to donate\\...</td>\n",
              "      <td>WOW! Iranian-Canadian protesters love Donald T...</td>\n",
              "      <td>Cleavis Nowell, Don Spilman, Rick Oneil, Linda...</td>\n",
              "    </tr>\n",
              "    <tr>\n",
              "      <th>4</th>\n",
              "      <td>64.0</td>\n",
              "      <td>blackagendareport.com</td>\n",
              "      <td>1</td>\n",
              "      <td>https://blackagendareport.com/articlelist/afri...</td>\n",
              "      <td>“The massacre of the mine workers in August of...</td>\n",
              "      <td>Black Agenda Report</td>\n",
              "      <td>Ann Garrison, Bar Contributor, Boniface Musavu...</td>\n",
              "    </tr>\n",
              "  </tbody>\n",
              "</table>\n",
              "</div>"
            ],
            "text/plain": [
              "     id  ...                                            authors\n",
              "0  21.0  ...  Backgroundurl Avatar_Large, Nickname, Joined, ...\n",
              "1  22.0  ...                                         The Shovel\n",
              "2  54.0  ...  Bruce A. Dixon, Bar Managing Editor, Glen Ford...\n",
              "3  61.0  ...  Cleavis Nowell, Don Spilman, Rick Oneil, Linda...\n",
              "4  64.0  ...  Ann Garrison, Bar Contributor, Boniface Musavu...\n",
              "\n",
              "[5 rows x 7 columns]"
            ]
          },
          "metadata": {
            "tags": []
          },
          "execution_count": 71
        }
      ]
    },
    {
      "cell_type": "markdown",
      "metadata": {
        "id": "Yk5ch-sgv0So"
      },
      "source": [
        "# Basic Modelling"
      ]
    },
    {
      "cell_type": "code",
      "metadata": {
        "id": "UkiIwa5kv0So"
      },
      "source": [
        "data['type'] = data['type'].apply(lambda x: \"fake\" if x==\"fake\" else \"not-fake\" )"
      ],
      "execution_count": null,
      "outputs": []
    },
    {
      "cell_type": "code",
      "metadata": {
        "colab": {
          "base_uri": "https://localhost:8080/"
        },
        "id": "Ek7pN64hv0Sp",
        "outputId": "2c8ef29e-6dda-438e-eb94-0266cd3271cc"
      },
      "source": [
        "labels = data[\"type\"]\n",
        "labels.head()"
      ],
      "execution_count": null,
      "outputs": [
        {
          "output_type": "execute_result",
          "data": {
            "text/plain": [
              "0    not-fake\n",
              "1    not-fake\n",
              "2    not-fake\n",
              "3    not-fake\n",
              "4    not-fake\n",
              "Name: type, dtype: object"
            ]
          },
          "metadata": {
            "tags": []
          },
          "execution_count": 15
        }
      ]
    },
    {
      "cell_type": "code",
      "metadata": {
        "colab": {
          "base_uri": "https://localhost:8080/"
        },
        "id": "RaieDt-2v0Sp",
        "outputId": "7b715d3f-7f23-4c51-f488-00051d524243"
      },
      "source": [
        "len(labels)"
      ],
      "execution_count": null,
      "outputs": [
        {
          "output_type": "execute_result",
          "data": {
            "text/plain": [
              "426550"
            ]
          },
          "metadata": {
            "tags": []
          },
          "execution_count": 16
        }
      ]
    },
    {
      "cell_type": "code",
      "metadata": {
        "id": "utB8qwJ1v0Sp",
        "outputId": "c0ac930f-00e9-42e5-99ee-f37f4d8463ff"
      },
      "source": [
        "len(labels[labels==\"fake\"])"
      ],
      "execution_count": null,
      "outputs": [
        {
          "output_type": "execute_result",
          "data": {
            "text/plain": [
              "44460"
            ]
          },
          "metadata": {
            "tags": []
          },
          "execution_count": 53
        }
      ]
    },
    {
      "cell_type": "markdown",
      "metadata": {
        "id": "0fh1o7Pfv0Sp"
      },
      "source": [
        "## Fake rows are almost 1/10 of total rows. Hence problem gets difficult due to imbalance dataset. Will add smote for better sampling."
      ]
    },
    {
      "cell_type": "code",
      "metadata": {
        "id": "0vM9riOXv0Sp"
      },
      "source": [
        "x_train,x_test,y_train,y_test=train_test_split(data['content'], labels, test_size=0.2, random_state=7)"
      ],
      "execution_count": null,
      "outputs": []
    },
    {
      "cell_type": "code",
      "metadata": {
        "id": "2_cs8uidv0Sq"
      },
      "source": [
        "tfidf_vectorizer=TfidfVectorizer(stop_words='english', max_df=0.7)\n",
        "#Fit and transform train set, transform test set\n",
        "tfidf_train=tfidf_vectorizer.fit_transform(x_train) \n",
        "tfidf_test=tfidf_vectorizer.transform(x_test)"
      ],
      "execution_count": null,
      "outputs": []
    },
    {
      "cell_type": "code",
      "metadata": {
        "id": "aRq-3meHv0Sq",
        "outputId": "acb66bdf-1684-406c-f860-308c2961fa97"
      },
      "source": [
        "#Initialize a PassiveAggressiveClassifier\n",
        "pac=PassiveAggressiveClassifier(max_iter=50)\n",
        "pac.fit(tfidf_train,y_train)\n",
        "#Predict on the test set and calculate accuracy\n",
        "y_pred=pac.predict(tfidf_test)\n",
        "score=accuracy_score(y_test,y_pred)\n",
        "print(f'Accuracy: {round(score*100,2)}%')"
      ],
      "execution_count": null,
      "outputs": [
        {
          "output_type": "stream",
          "text": [
            "Accuracy: 94.02%\n"
          ],
          "name": "stdout"
        }
      ]
    },
    {
      "cell_type": "code",
      "metadata": {
        "id": "pf0ooSO3v0Sq",
        "outputId": "0c1a82b1-e126-4957-f2fd-f5380f8728f3"
      },
      "source": [
        "#Build confusion matrix\n",
        "confusion_matrix(y_test,y_pred, labels=['fake','not-fake'])"
      ],
      "execution_count": null,
      "outputs": [
        {
          "output_type": "execute_result",
          "data": {
            "text/plain": [
              "array([[ 6124,  2779],\n",
              "       [ 2326, 74081]])"
            ]
          },
          "metadata": {
            "tags": []
          },
          "execution_count": 54
        }
      ]
    },
    {
      "cell_type": "markdown",
      "metadata": {
        "id": "7Z2bHjsshUNX"
      },
      "source": [
        "# SMOTE to handle class imbalance"
      ]
    },
    {
      "cell_type": "code",
      "metadata": {
        "colab": {
          "base_uri": "https://localhost:8080/"
        },
        "id": "PDMtIMgFhh17",
        "outputId": "e265f5af-e0bc-49d3-ff6a-ba23108b6b40"
      },
      "source": [
        "pip install imbalanced-learn"
      ],
      "execution_count": null,
      "outputs": [
        {
          "output_type": "stream",
          "text": [
            "Requirement already satisfied: imbalanced-learn in /usr/local/lib/python3.7/dist-packages (0.4.3)\n",
            "Requirement already satisfied: scipy>=0.13.3 in /usr/local/lib/python3.7/dist-packages (from imbalanced-learn) (1.4.1)\n",
            "Requirement already satisfied: numpy>=1.8.2 in /usr/local/lib/python3.7/dist-packages (from imbalanced-learn) (1.19.5)\n",
            "Requirement already satisfied: scikit-learn>=0.20 in /usr/local/lib/python3.7/dist-packages (from imbalanced-learn) (0.22.2.post1)\n",
            "Requirement already satisfied: joblib>=0.11 in /usr/local/lib/python3.7/dist-packages (from scikit-learn>=0.20->imbalanced-learn) (1.0.1)\n"
          ],
          "name": "stdout"
        }
      ]
    },
    {
      "cell_type": "code",
      "metadata": {
        "colab": {
          "base_uri": "https://localhost:8080/"
        },
        "id": "a07EonAGgcHz",
        "outputId": "999f20a3-6a6e-47da-e957-389f48545977"
      },
      "source": [
        "from imblearn.pipeline import Pipeline, make_pipeline\n",
        "from sklearn.feature_extraction.text import CountVectorizer\n",
        "from sklearn.feature_extraction.text import TfidfTransformer\n",
        "from sklearn.naive_bayes import MultinomialNB"
      ],
      "execution_count": null,
      "outputs": [
        {
          "output_type": "stream",
          "text": [
            "/usr/local/lib/python3.7/dist-packages/sklearn/externals/six.py:31: FutureWarning: The module is deprecated in version 0.21 and will be removed in version 0.23 since we've dropped support for Python 2.7. Please rely on the official version of six (https://pypi.org/project/six/).\n",
            "  \"(https://pypi.org/project/six/).\", FutureWarning)\n",
            "/usr/local/lib/python3.7/dist-packages/sklearn/utils/deprecation.py:144: FutureWarning: The sklearn.neighbors.base module is  deprecated in version 0.22 and will be removed in version 0.24. The corresponding classes / functions should instead be imported from sklearn.neighbors. Anything that cannot be imported from sklearn.neighbors is now part of the private API.\n",
            "  warnings.warn(message, FutureWarning)\n"
          ],
          "name": "stderr"
        }
      ]
    },
    {
      "cell_type": "code",
      "metadata": {
        "id": "jKgUoMWMggLm"
      },
      "source": [
        "from imblearn.over_sampling import SMOTE"
      ],
      "execution_count": null,
      "outputs": []
    },
    {
      "cell_type": "code",
      "metadata": {
        "id": "ZV-5RA4Fgjyu"
      },
      "source": [
        "from sklearn.model_selection import train_test_split\n",
        "\n",
        "X_train, X_test, y_train, y_test = train_test_split(data['content'], labels, test_size=0.2, random_state=7)"
      ],
      "execution_count": null,
      "outputs": []
    },
    {
      "cell_type": "code",
      "metadata": {
        "id": "fnqjHClPgus4"
      },
      "source": [
        "newsClassifier =Pipeline([\n",
        "  ('vect', CountVectorizer()),\n",
        "   ('tfidf', TfidfTransformer()),\n",
        "   ('smote', SMOTE(random_state=12)),\n",
        "   ('mnb', MultinomialNB(alpha =0.1))\n",
        "])"
      ],
      "execution_count": null,
      "outputs": []
    },
    {
      "cell_type": "code",
      "metadata": {
        "colab": {
          "base_uri": "https://localhost:8080/"
        },
        "id": "cEONMyjvg5QQ",
        "outputId": "fd48d3cc-9591-40a5-cc86-1084cbbbf741"
      },
      "source": [
        "newsClassifier.fit(X_train,y_train)\n",
        "y_pred=newsClassifier.predict(X_test)\n",
        "score=accuracy_score(y_test,y_pred)\n",
        "print(f'Accuracy: {round(score*100,2)}%')"
      ],
      "execution_count": null,
      "outputs": [
        {
          "output_type": "stream",
          "text": [
            "/usr/local/lib/python3.7/dist-packages/sklearn/utils/deprecation.py:87: FutureWarning: Function safe_indexing is deprecated; safe_indexing is deprecated in version 0.22 and will be removed in version 0.24.\n",
            "  warnings.warn(msg, category=FutureWarning)\n"
          ],
          "name": "stderr"
        },
        {
          "output_type": "stream",
          "text": [
            "Accuracy: 86.15%\n"
          ],
          "name": "stdout"
        }
      ]
    },
    {
      "cell_type": "code",
      "metadata": {
        "colab": {
          "base_uri": "https://localhost:8080/"
        },
        "id": "ltML9vqVni1A",
        "outputId": "3fc6d638-9a6d-467f-d26d-347203447c24"
      },
      "source": [
        "from sklearn.metrics import accuracy_score, f1_score, precision_score, recall_score, classification_report, confusion_matrix, mean_squared_error, mean_absolute_error\n",
        "print(\"F1 score: \", f1_score(y_test, y_pred, average=\"macro\"))\n",
        "print(\"Precision:\" ,precision_score(y_test, y_pred, average=\"macro\"))\n",
        "print(\"Recall:\" ,recall_score(y_test, y_pred, average=\"macro\"))    \n",
        "print(\"Classification Report: \\n\" ,classification_report(y_test, y_pred))   "
      ],
      "execution_count": null,
      "outputs": [
        {
          "output_type": "stream",
          "text": [
            "F1 score:  0.7100227499304899\n",
            "Precision: 0.6711724972794308\n",
            "Recall: 0.8355940535953588\n",
            "Classification Report: \n",
            "               precision    recall  f1-score   support\n",
            "\n",
            "        fake       0.36      0.80      0.50      2207\n",
            "    not-fake       0.98      0.87      0.92     23386\n",
            "\n",
            "    accuracy                           0.86     25593\n",
            "   macro avg       0.67      0.84      0.71     25593\n",
            "weighted avg       0.93      0.86      0.88     25593\n",
            "\n"
          ],
          "name": "stdout"
        }
      ]
    },
    {
      "cell_type": "markdown",
      "metadata": {
        "id": "D3P0p6l-n5Nn"
      },
      "source": [
        "# Basic Error Analysis"
      ]
    },
    {
      "cell_type": "code",
      "metadata": {
        "colab": {
          "base_uri": "https://localhost:8080/"
        },
        "id": "WvKj59A_n-qX",
        "outputId": "d68d2c0d-70c7-436f-e943-b4503e6ec8a5"
      },
      "source": [
        "from sklearn.preprocessing import LabelEncoder\n",
        "le = LabelEncoder()\n",
        "y_test_encoded= le.fit_transform(y_test)\n",
        "y_pred_encoded=le.fit_transform(y_pred)\n",
        "print(\"Mean squared error: \", mean_squared_error(y_test_encoded, y_pred_encoded))\n",
        "print(\"Mean Absolute error: \", mean_absolute_error(y_test_encoded, y_pred_encoded))"
      ],
      "execution_count": null,
      "outputs": [
        {
          "output_type": "stream",
          "text": [
            "Mean squared error:  0.13847536435744148\n"
          ],
          "name": "stdout"
        }
      ]
    },
    {
      "cell_type": "markdown",
      "metadata": {
        "id": "GFARZ6Hdps0Y"
      },
      "source": [
        "# Data Augumentation to handle class imbalance"
      ]
    },
    {
      "cell_type": "code",
      "metadata": {
        "id": "edwKespdp3-M"
      },
      "source": [
        "!pip install textattack"
      ],
      "execution_count": null,
      "outputs": []
    },
    {
      "cell_type": "code",
      "metadata": {
        "id": "TzK9b3vQpzFk"
      },
      "source": [
        "from textattack.augmentation import EmbeddingAugmenter\n",
        "aug = EmbeddingAugmenter()\n",
        "\n",
        "data['content'] = data['content'].apply(lambda x: str(aug.augment(x)))\n",
        "# data['url'] = data['url'].apply(lambda x: str(aug.augment(x)))\n",
        "# data['domain'] = data['domain'].apply(lambda x: str(aug.augment(x)))\n",
        "# data['authors'] = data['authors'].apply(lambda x: str(aug.augment(x)))\n",
        "# data['title'] = data['title'].apply(lambda x: str(aug.augment(x)))"
      ],
      "execution_count": null,
      "outputs": []
    },
    {
      "cell_type": "markdown",
      "metadata": {
        "id": "jxH6lia9d5XR"
      },
      "source": [
        "# Multilingual Transformer"
      ]
    },
    {
      "cell_type": "code",
      "metadata": {
        "colab": {
          "base_uri": "https://localhost:8080/"
        },
        "id": "e3wdfGwIkXv2",
        "outputId": "cba5b57e-248c-4e35-a09f-ea728d3782b0"
      },
      "source": [
        "pip install datasets==1.3.0"
      ],
      "execution_count": null,
      "outputs": [
        {
          "output_type": "stream",
          "text": [
            "Collecting datasets==1.3.0\n",
            "\u001b[?25l  Downloading https://files.pythonhosted.org/packages/a2/12/5fd53adc5ba8a8d562b19f2c1c859547659e96b87a767cd52556538d205e/datasets-1.3.0-py3-none-any.whl (181kB)\n",
            "\r\u001b[K     |█▉                              | 10kB 24.3MB/s eta 0:00:01\r\u001b[K     |███▋                            | 20kB 29.1MB/s eta 0:00:01\r\u001b[K     |█████▍                          | 30kB 20.7MB/s eta 0:00:01\r\u001b[K     |███████▎                        | 40kB 24.3MB/s eta 0:00:01\r\u001b[K     |█████████                       | 51kB 23.3MB/s eta 0:00:01\r\u001b[K     |██████████▉                     | 61kB 25.8MB/s eta 0:00:01\r\u001b[K     |████████████▋                   | 71kB 17.6MB/s eta 0:00:01\r\u001b[K     |██████████████▌                 | 81kB 18.5MB/s eta 0:00:01\r\u001b[K     |████████████████▎               | 92kB 17.3MB/s eta 0:00:01\r\u001b[K     |██████████████████              | 102kB 17.4MB/s eta 0:00:01\r\u001b[K     |████████████████████            | 112kB 17.4MB/s eta 0:00:01\r\u001b[K     |█████████████████████▊          | 122kB 17.4MB/s eta 0:00:01\r\u001b[K     |███████████████████████▌        | 133kB 17.4MB/s eta 0:00:01\r\u001b[K     |█████████████████████████▎      | 143kB 17.4MB/s eta 0:00:01\r\u001b[K     |███████████████████████████▏    | 153kB 17.4MB/s eta 0:00:01\r\u001b[K     |█████████████████████████████   | 163kB 17.4MB/s eta 0:00:01\r\u001b[K     |██████████████████████████████▊ | 174kB 17.4MB/s eta 0:00:01\r\u001b[K     |████████████████████████████████| 184kB 17.4MB/s \n",
            "\u001b[?25hRequirement already satisfied: importlib-metadata; python_version < \"3.8\" in /usr/local/lib/python3.7/dist-packages (from datasets==1.3.0) (3.8.1)\n",
            "Collecting xxhash\n",
            "\u001b[?25l  Downloading https://files.pythonhosted.org/packages/e7/27/1c0b37c53a7852f1c190ba5039404d27b3ae96a55f48203a74259f8213c9/xxhash-2.0.0-cp37-cp37m-manylinux2010_x86_64.whl (243kB)\n",
            "\u001b[K     |████████████████████████████████| 245kB 40.4MB/s \n",
            "\u001b[?25hCollecting fsspec\n",
            "\u001b[?25l  Downloading https://files.pythonhosted.org/packages/62/11/f7689b996f85e45f718745c899f6747ee5edb4878cadac0a41ab146828fa/fsspec-0.9.0-py3-none-any.whl (107kB)\n",
            "\u001b[K     |████████████████████████████████| 112kB 59.6MB/s \n",
            "\u001b[?25hRequirement already satisfied: requests>=2.19.0 in /usr/local/lib/python3.7/dist-packages (from datasets==1.3.0) (2.23.0)\n",
            "Requirement already satisfied: pandas in /usr/local/lib/python3.7/dist-packages (from datasets==1.3.0) (1.1.5)\n",
            "Requirement already satisfied: numpy>=1.17 in /usr/local/lib/python3.7/dist-packages (from datasets==1.3.0) (1.19.5)\n",
            "Requirement already satisfied: pyarrow>=0.17.1 in /usr/local/lib/python3.7/dist-packages (from datasets==1.3.0) (3.0.0)\n",
            "Requirement already satisfied: multiprocess in /usr/local/lib/python3.7/dist-packages (from datasets==1.3.0) (0.70.11.1)\n",
            "Collecting huggingface-hub==0.0.2\n",
            "  Downloading https://files.pythonhosted.org/packages/b5/93/7cb0755c62c36cdadc70c79a95681df685b52cbaf76c724facb6ecac3272/huggingface_hub-0.0.2-py3-none-any.whl\n",
            "Requirement already satisfied: dill in /usr/local/lib/python3.7/dist-packages (from datasets==1.3.0) (0.3.3)\n",
            "Requirement already satisfied: tqdm<4.50.0,>=4.27 in /usr/local/lib/python3.7/dist-packages (from datasets==1.3.0) (4.41.1)\n",
            "Requirement already satisfied: zipp>=0.5 in /usr/local/lib/python3.7/dist-packages (from importlib-metadata; python_version < \"3.8\"->datasets==1.3.0) (3.4.1)\n",
            "Requirement already satisfied: typing-extensions>=3.6.4; python_version < \"3.8\" in /usr/local/lib/python3.7/dist-packages (from importlib-metadata; python_version < \"3.8\"->datasets==1.3.0) (3.7.4.3)\n",
            "Requirement already satisfied: idna<3,>=2.5 in /usr/local/lib/python3.7/dist-packages (from requests>=2.19.0->datasets==1.3.0) (2.10)\n",
            "Requirement already satisfied: certifi>=2017.4.17 in /usr/local/lib/python3.7/dist-packages (from requests>=2.19.0->datasets==1.3.0) (2020.12.5)\n",
            "Requirement already satisfied: urllib3!=1.25.0,!=1.25.1,<1.26,>=1.21.1 in /usr/local/lib/python3.7/dist-packages (from requests>=2.19.0->datasets==1.3.0) (1.24.3)\n",
            "Requirement already satisfied: chardet<4,>=3.0.2 in /usr/local/lib/python3.7/dist-packages (from requests>=2.19.0->datasets==1.3.0) (3.0.4)\n",
            "Requirement already satisfied: python-dateutil>=2.7.3 in /usr/local/lib/python3.7/dist-packages (from pandas->datasets==1.3.0) (2.8.1)\n",
            "Requirement already satisfied: pytz>=2017.2 in /usr/local/lib/python3.7/dist-packages (from pandas->datasets==1.3.0) (2018.9)\n",
            "Requirement already satisfied: filelock in /usr/local/lib/python3.7/dist-packages (from huggingface-hub==0.0.2->datasets==1.3.0) (3.0.12)\n",
            "Requirement already satisfied: six>=1.5 in /usr/local/lib/python3.7/dist-packages (from python-dateutil>=2.7.3->pandas->datasets==1.3.0) (1.15.0)\n",
            "Installing collected packages: xxhash, fsspec, huggingface-hub, datasets\n",
            "Successfully installed datasets-1.3.0 fsspec-0.9.0 huggingface-hub-0.0.2 xxhash-2.0.0\n"
          ],
          "name": "stdout"
        }
      ]
    },
    {
      "cell_type": "code",
      "metadata": {
        "colab": {
          "base_uri": "https://localhost:8080/"
        },
        "id": "kmg8i4r0v0Sq",
        "outputId": "54d87bf9-4f76-46f9-bfce-b58e3a198f04"
      },
      "source": [
        "pip install transformers==4.3.2"
      ],
      "execution_count": null,
      "outputs": [
        {
          "output_type": "stream",
          "text": [
            "Collecting transformers==4.3.2\n",
            "\u001b[?25l  Downloading https://files.pythonhosted.org/packages/98/87/ef312eef26f5cecd8b17ae9654cdd8d1fae1eb6dbd87257d6d73c128a4d0/transformers-4.3.2-py3-none-any.whl (1.8MB)\n",
            "\u001b[K     |████████████████████████████████| 1.8MB 16.6MB/s \n",
            "\u001b[?25hRequirement already satisfied: filelock in /usr/local/lib/python3.7/dist-packages (from transformers==4.3.2) (3.0.12)\n",
            "Requirement already satisfied: numpy>=1.17 in /usr/local/lib/python3.7/dist-packages (from transformers==4.3.2) (1.19.5)\n",
            "Requirement already satisfied: requests in /usr/local/lib/python3.7/dist-packages (from transformers==4.3.2) (2.23.0)\n",
            "Collecting sacremoses\n",
            "\u001b[?25l  Downloading https://files.pythonhosted.org/packages/08/cd/342e584ee544d044fb573ae697404ce22ede086c9e87ce5960772084cad0/sacremoses-0.0.44.tar.gz (862kB)\n",
            "\u001b[K     |████████████████████████████████| 870kB 51.2MB/s \n",
            "\u001b[?25hRequirement already satisfied: tqdm>=4.27 in /usr/local/lib/python3.7/dist-packages (from transformers==4.3.2) (4.41.1)\n",
            "Requirement already satisfied: packaging in /usr/local/lib/python3.7/dist-packages (from transformers==4.3.2) (20.9)\n",
            "Requirement already satisfied: regex!=2019.12.17 in /usr/local/lib/python3.7/dist-packages (from transformers==4.3.2) (2019.12.20)\n",
            "Collecting tokenizers<0.11,>=0.10.1\n",
            "\u001b[?25l  Downloading https://files.pythonhosted.org/packages/ae/04/5b870f26a858552025a62f1649c20d29d2672c02ff3c3fb4c688ca46467a/tokenizers-0.10.2-cp37-cp37m-manylinux2010_x86_64.whl (3.3MB)\n",
            "\u001b[K     |████████████████████████████████| 3.3MB 56.5MB/s \n",
            "\u001b[?25hRequirement already satisfied: importlib-metadata; python_version < \"3.8\" in /usr/local/lib/python3.7/dist-packages (from transformers==4.3.2) (3.8.1)\n",
            "Requirement already satisfied: chardet<4,>=3.0.2 in /usr/local/lib/python3.7/dist-packages (from requests->transformers==4.3.2) (3.0.4)\n",
            "Requirement already satisfied: certifi>=2017.4.17 in /usr/local/lib/python3.7/dist-packages (from requests->transformers==4.3.2) (2020.12.5)\n",
            "Requirement already satisfied: idna<3,>=2.5 in /usr/local/lib/python3.7/dist-packages (from requests->transformers==4.3.2) (2.10)\n",
            "Requirement already satisfied: urllib3!=1.25.0,!=1.25.1,<1.26,>=1.21.1 in /usr/local/lib/python3.7/dist-packages (from requests->transformers==4.3.2) (1.24.3)\n",
            "Requirement already satisfied: six in /usr/local/lib/python3.7/dist-packages (from sacremoses->transformers==4.3.2) (1.15.0)\n",
            "Requirement already satisfied: click in /usr/local/lib/python3.7/dist-packages (from sacremoses->transformers==4.3.2) (7.1.2)\n",
            "Requirement already satisfied: joblib in /usr/local/lib/python3.7/dist-packages (from sacremoses->transformers==4.3.2) (1.0.1)\n",
            "Requirement already satisfied: pyparsing>=2.0.2 in /usr/local/lib/python3.7/dist-packages (from packaging->transformers==4.3.2) (2.4.7)\n",
            "Requirement already satisfied: zipp>=0.5 in /usr/local/lib/python3.7/dist-packages (from importlib-metadata; python_version < \"3.8\"->transformers==4.3.2) (3.4.1)\n",
            "Requirement already satisfied: typing-extensions>=3.6.4; python_version < \"3.8\" in /usr/local/lib/python3.7/dist-packages (from importlib-metadata; python_version < \"3.8\"->transformers==4.3.2) (3.7.4.3)\n",
            "Building wheels for collected packages: sacremoses\n",
            "  Building wheel for sacremoses (setup.py) ... \u001b[?25l\u001b[?25hdone\n",
            "  Created wheel for sacremoses: filename=sacremoses-0.0.44-cp37-none-any.whl size=886084 sha256=d325c10d155cd3ea3c7d1785e1954fe6c887040d87e50e20fab9316c7ac523a2\n",
            "  Stored in directory: /root/.cache/pip/wheels/3e/fb/c0/13ab4d63d537658f448366744654323077c4d90069b6512f3c\n",
            "Successfully built sacremoses\n",
            "Installing collected packages: sacremoses, tokenizers, transformers\n",
            "Successfully installed sacremoses-0.0.44 tokenizers-0.10.2 transformers-4.3.2\n"
          ],
          "name": "stdout"
        }
      ]
    },
    {
      "cell_type": "code",
      "metadata": {
        "colab": {
          "base_uri": "https://localhost:8080/",
          "height": 310
        },
        "id": "COAFdoT6eEck",
        "outputId": "d16f97fd-5afd-4920-b9cf-2d30ee008d85"
      },
      "source": [
        "pip install numpy==1.20.1"
      ],
      "execution_count": null,
      "outputs": [
        {
          "output_type": "stream",
          "text": [
            "Collecting numpy==1.20.1\n",
            "\u001b[?25l  Downloading https://files.pythonhosted.org/packages/70/8a/064b4077e3d793f877e3b77aa64f56fa49a4d37236a53f78ee28be009a16/numpy-1.20.1-cp37-cp37m-manylinux2010_x86_64.whl (15.3MB)\n",
            "\u001b[K     |████████████████████████████████| 15.3MB 183kB/s \n",
            "\u001b[31mERROR: tensorflow 2.4.1 has requirement numpy~=1.19.2, but you'll have numpy 1.20.1 which is incompatible.\u001b[0m\n",
            "\u001b[31mERROR: datascience 0.10.6 has requirement folium==0.2.1, but you'll have folium 0.8.3 which is incompatible.\u001b[0m\n",
            "\u001b[31mERROR: albumentations 0.1.12 has requirement imgaug<0.2.7,>=0.2.5, but you'll have imgaug 0.2.9 which is incompatible.\u001b[0m\n",
            "\u001b[?25hInstalling collected packages: numpy\n",
            "  Found existing installation: numpy 1.19.5\n",
            "    Uninstalling numpy-1.19.5:\n",
            "      Successfully uninstalled numpy-1.19.5\n",
            "Successfully installed numpy-1.20.1\n"
          ],
          "name": "stdout"
        },
        {
          "output_type": "display_data",
          "data": {
            "application/vnd.colab-display-data+json": {
              "pip_warning": {
                "packages": [
                  "numpy"
                ]
              }
            }
          },
          "metadata": {
            "tags": []
          }
        }
      ]
    },
    {
      "cell_type": "code",
      "metadata": {
        "id": "qYHGHwAokNDI"
      },
      "source": [
        "data.rename(columns = {'type' : 'labels'}, inplace = True)"
      ],
      "execution_count": null,
      "outputs": []
    },
    {
      "cell_type": "code",
      "metadata": {
        "id": "48YNVxD_LuEe"
      },
      "source": [
        "index_to_labels = {index: label for index, label in enumerate(data['labels'])}"
      ],
      "execution_count": null,
      "outputs": []
    },
    {
      "cell_type": "code",
      "metadata": {
        "id": "BTzDLz8dkZHX"
      },
      "source": [
        "# from sklearn.preprocessing import LabelEncoder\n",
        "# le = LabelEncoder()\n",
        "# data['labels'] = le.fit_transform(data['labels'])"
      ],
      "execution_count": null,
      "outputs": []
    },
    {
      "cell_type": "code",
      "metadata": {
        "colab": {
          "base_uri": "https://localhost:8080/",
          "height": 289
        },
        "id": "jThHi3oIknnY",
        "outputId": "49dcafcf-74fa-4c9d-afd4-80312c7010f0"
      },
      "source": [
        "data.head()"
      ],
      "execution_count": null,
      "outputs": [
        {
          "output_type": "execute_result",
          "data": {
            "text/html": [
              "<div>\n",
              "<style scoped>\n",
              "    .dataframe tbody tr th:only-of-type {\n",
              "        vertical-align: middle;\n",
              "    }\n",
              "\n",
              "    .dataframe tbody tr th {\n",
              "        vertical-align: top;\n",
              "    }\n",
              "\n",
              "    .dataframe thead th {\n",
              "        text-align: right;\n",
              "    }\n",
              "</style>\n",
              "<table border=\"1\" class=\"dataframe\">\n",
              "  <thead>\n",
              "    <tr style=\"text-align: right;\">\n",
              "      <th></th>\n",
              "      <th>id</th>\n",
              "      <th>domain</th>\n",
              "      <th>labels</th>\n",
              "      <th>url</th>\n",
              "      <th>content</th>\n",
              "      <th>title</th>\n",
              "      <th>authors</th>\n",
              "    </tr>\n",
              "  </thead>\n",
              "  <tbody>\n",
              "    <tr>\n",
              "      <th>0</th>\n",
              "      <td>21.0</td>\n",
              "      <td>bipartisanreport.com</td>\n",
              "      <td>not-fake</td>\n",
              "      <td>http://bipartisanreport.com/cdn-cgi/l/email-pr...</td>\n",
              "      <td>The website from which you got to this page is...</td>\n",
              "      <td>Email Protection</td>\n",
              "      <td>Backgroundurl Avatar_Large, Nickname, Joined, ...</td>\n",
              "    </tr>\n",
              "    <tr>\n",
              "      <th>1</th>\n",
              "      <td>22.0</td>\n",
              "      <td>theshovel.com.au</td>\n",
              "      <td>not-fake</td>\n",
              "      <td>http://www.theshovel.com.au/tag/malcolm-turnbu...</td>\n",
              "      <td>For as long as he can remember, Malcolm Turnbu...</td>\n",
              "      <td>malcolm turnbull satire – The Shovel</td>\n",
              "      <td>The Shovel</td>\n",
              "    </tr>\n",
              "    <tr>\n",
              "      <th>2</th>\n",
              "      <td>54.0</td>\n",
              "      <td>blackagendareport.com</td>\n",
              "      <td>not-fake</td>\n",
              "      <td>https://blackagendareport.com/what-western-imp...</td>\n",
              "      <td>What Western Imperialism Is Up to Now in Zimba...</td>\n",
              "      <td>What Western Imperialism Is Up to Now in Zimbabwe</td>\n",
              "      <td>Bruce A. Dixon, Bar Managing Editor, Glen Ford...</td>\n",
              "    </tr>\n",
              "    <tr>\n",
              "      <th>3</th>\n",
              "      <td>61.0</td>\n",
              "      <td>barenakedislam.com</td>\n",
              "      <td>not-fake</td>\n",
              "      <td>http://barenakedislam.com/2018/01/08/wow-irani...</td>\n",
              "      <td>We appreciate your help! Click here to donate\\...</td>\n",
              "      <td>WOW! Iranian-Canadian protesters love Donald T...</td>\n",
              "      <td>Cleavis Nowell, Don Spilman, Rick Oneil, Linda...</td>\n",
              "    </tr>\n",
              "    <tr>\n",
              "      <th>4</th>\n",
              "      <td>64.0</td>\n",
              "      <td>blackagendareport.com</td>\n",
              "      <td>not-fake</td>\n",
              "      <td>https://blackagendareport.com/articlelist/afri...</td>\n",
              "      <td>“The massacre of the mine workers in August of...</td>\n",
              "      <td>Black Agenda Report</td>\n",
              "      <td>Ann Garrison, Bar Contributor, Boniface Musavu...</td>\n",
              "    </tr>\n",
              "  </tbody>\n",
              "</table>\n",
              "</div>"
            ],
            "text/plain": [
              "     id  ...                                            authors\n",
              "0  21.0  ...  Backgroundurl Avatar_Large, Nickname, Joined, ...\n",
              "1  22.0  ...                                         The Shovel\n",
              "2  54.0  ...  Bruce A. Dixon, Bar Managing Editor, Glen Ford...\n",
              "3  61.0  ...  Cleavis Nowell, Don Spilman, Rick Oneil, Linda...\n",
              "4  64.0  ...  Ann Garrison, Bar Contributor, Boniface Musavu...\n",
              "\n",
              "[5 rows x 7 columns]"
            ]
          },
          "metadata": {
            "tags": []
          },
          "execution_count": 19
        }
      ]
    },
    {
      "cell_type": "code",
      "metadata": {
        "id": "Robls3_skKq6"
      },
      "source": [
        "from datasets import load_dataset"
      ],
      "execution_count": null,
      "outputs": []
    },
    {
      "cell_type": "code",
      "metadata": {
        "colab": {
          "base_uri": "https://localhost:8080/"
        },
        "id": "Fcim-kOaT7jq",
        "outputId": "a94d4752-40c4-49f1-9c0c-e4aae071b348"
      },
      "source": [
        "data.columns"
      ],
      "execution_count": null,
      "outputs": [
        {
          "output_type": "execute_result",
          "data": {
            "text/plain": [
              "Index(['labels', 'content'], dtype='object')"
            ]
          },
          "metadata": {
            "tags": []
          },
          "execution_count": 22
        }
      ]
    },
    {
      "cell_type": "code",
      "metadata": {
        "id": "kxc_QVZumtjV"
      },
      "source": [
        "from datasets import Dataset\n",
        "import pandas as pd\n",
        "dataset = Dataset.from_pandas(data)"
      ],
      "execution_count": null,
      "outputs": []
    },
    {
      "cell_type": "code",
      "metadata": {
        "id": "8hcTZWD9nXyg"
      },
      "source": [
        "import datasets\n",
        "import random\n",
        "from IPython.display import display, HTML\n",
        "\n",
        "def show_random_elements(dataset, num_examples=5):\n",
        "    assert num_examples <= len(dataset), \"Can't pick more elements than there are in the dataset.\"\n",
        "    picks = []\n",
        "    for _ in range(num_examples):\n",
        "        pick = random.randint(0, len(dataset)-1)\n",
        "        while pick in picks:\n",
        "            pick = random.randint(0, len(dataset)-1)\n",
        "        picks.append(pick)\n",
        "    \n",
        "    df = pd.DataFrame(dataset[picks])\n",
        "    for column, typ in dataset.features.items():\n",
        "        if isinstance(typ, datasets.ClassLabel):\n",
        "            df[column] = df[column].transform(lambda i: typ.names[i])\n",
        "    display(HTML(df.to_html()))"
      ],
      "execution_count": null,
      "outputs": []
    },
    {
      "cell_type": "code",
      "metadata": {
        "id": "nsLcONlAni_l",
        "colab": {
          "base_uri": "https://localhost:8080/",
          "height": 1000
        },
        "outputId": "b179a3da-5fa3-48c7-dcd7-80154a0abae6"
      },
      "source": [
        "show_random_elements(dataset)"
      ],
      "execution_count": null,
      "outputs": [
        {
          "output_type": "display_data",
          "data": {
            "text/html": [
              "<table border=\"1\" class=\"dataframe\">\n",
              "  <thead>\n",
              "    <tr style=\"text-align: right;\">\n",
              "      <th></th>\n",
              "      <th>labels</th>\n",
              "      <th>content</th>\n",
              "    </tr>\n",
              "  </thead>\n",
              "  <tbody>\n",
              "    <tr>\n",
              "      <th>0</th>\n",
              "      <td>fake</td>\n",
              "      <td>With a Little Help from the Elephant Seals\\r\\n\\r\\nHeadline: Bitcoin &amp; Blockchain Searches Exceed Trump! Blockchain Stocks Are Next!\\r\\n\\r\\nA problem which has plagued oceanography since the very beginning is a lack of observations. We envy atmospheric scientists with their surface stations and satellite data that monitor virtually the entire atmosphere in real time. Until very recently, all that oceanographers had to work with were measurements taken by ships. This data was very sparse in space and time, and was biased towards certain ship tracks and seasons.\\r\\n\\r\\nA lack of observations makes life difficult for ocean modellers, because there is very little to compare the simulations to. You can’t have confidence in a model if you have no way of knowing how well it’s performing, and you can’t make many improvements to a model without an understanding of its shortcomings.\\r\\n\\r\\nOur knowledge of the ocean took a giant leap forward in 2000, when a program called Argo began. “Argo floats” are smallish instruments floating around in the ocean that control their own buoyancy, rising and sinking between the surface and about 2000 m depth. They use a CTD sensor to measure Conductivity (from which you can easily calculate salinity), Temperature, and Depth. Every 10 days they surface and send these measurements to a satellite. Argo floats are battery-powered and last for about 4 years before losing power. After this point they are sacrificed to the ocean, because collecting them would be too expensive.\\r\\n\\r\\nThis is what an Argo float looks like while it’s being deployed:\\r\\n\\r\\nWith at least 27 countries helping with deployment, the number of active Argo floats is steadily rising. At the time of this writing, there were 3748 in operation, with good coverage everywhere except in the polar oceans:\\r\\n\\r\\nThe result of this program is a massive amount of high-quality, high-resolution data for temperature and salinity in the surface and intermediate ocean. A resource like this is invaluable for oceanographers, analogous to the global network of weather stations used by atmospheric scientists. It allows us to better understand the current state of the ocean, to monitor trends in temperature and salinity as climate change continues, and to assess the skill of ocean models.\\r\\n\\r\\nBut it’s still not good enough. There are two major shortcomings to Argo floats. First, they can’t withstand the extreme pressure in the deep ocean, so they don’t sink below about 2000 m depth. Since the average depth of the world’s oceans is around 4000 m, the Argo program is only sampling the upper half. Fortunately, a new program called Deep Argo has developed floats which can withstand pressures down to 6000 m depth, covering all but the deepest ocean trenches. Last June, two prototypes were successfully deployed off the coast of New Zealand, and the data collected so far is looking good. If all future Argo floats were of the Deep Argo variety, in five or ten years we would know as much about the deep ocean’s temperature and salinity structure as we currently know about the surface. To oceanographers, particularly those studying bottom water formation and transport, there is almost nothing more exciting than this prospect.\\r\\n\\r\\nThe other major problem with Argo floats is that they can’t handle sea ice. Even if they manage to get underneath the ice by drifting in sideways, the next time they rise to the surface they will bash into the underside of the ice, get stuck, and stay there until their battery dies. This is a major problem for scientists like me who study the Southern Ocean (surrounding Antarctica), which is largely covered with sea ice for much of the year. This ocean will be incredibly important for sea level rise, because the easiest way to destabilise the Antarctic Ice Sheet is to warm up the ocean and melt the ice shelves (the edges of the ice sheet which extend over the ocean) from below. But we can’t monitor this process using Argo data, because there is a big gap in observations over the region. There’s always the manual option – sending in scientists to take measurements – but this is very expensive, and nobody wants to go there in the winter.\\r\\n\\r\\nInstead, oceanographers have recently teamed up with biologists to try another method of data collection, which is just really excellent:\\r\\n\\r\\nThey are turning seals into Argo floats that can navigate sea ice.\\r\\n\\r\\nSouthern elephant seals swim incredible distances in the Southern Ocean, and often dive as far as 2000 m below the surface. Scientists are utilising the seals’ natural talents to fill in the gaps in the Argo network, so far with great success. Each seal is tranquilized while a miniature CTD is glued to the fur on its head, after which it is released back into the wild. As the seal swims around, the sensors take measurements and communicate with satellites just like regular Argo floats. The next time the seal sheds its coat (once per year), the CTD falls off and the seal gets on with its life, probably wondering what that whole thing was about.\\r\\n\\r\\nThis project is relatively new and it will be a few years before it’s possible to identify trends in the data. It’s also not clear whether or not the seals tend to swim right underneath the ice shelves, where observations would be most useful. But if this dataset gains popularity among oceanographers, and seals become officially integrated into the Argo network…\\r\\n\\r\\n…then we will be the coolest scientists of all.\\r\\n\\r\\nThis article was written by Kate, a B.Sc. student and aspiring climatologist from the Canadian prairies. She started writing the blog ClimateSight when she was sixteen years old.\\r\\n\\r\\nSource: https://climatesight.org/2015/01/12/with-a-little-help-from-the-elephant-seals/</td>\n",
              "    </tr>\n",
              "    <tr>\n",
              "      <th>1</th>\n",
              "      <td>fake</td>\n",
              "      <td>What To Expect From Apple iPhone 5 ?\\r\\n\\r\\nHeadline: Bitcoin &amp; Blockchain Searches Exceed Trump! Blockchain Stocks Are Next!\\r\\n\\r\\nApple did not clear their thoughts in public about the next generation iPhone that is most likely to be called iPhone5. But that did not stop the designer and reporter to draw a concept about how the device may look like. Already they have spread some commercial depicting of this new device. The announcement of iOS6 at Worldwide Developer Conference has somewhat gave them more fuel to their thoughts.\\r\\n\\r\\nA young armature seventeen year old boy has uploaded a video on YouTube depicting the feature of this forth coming device. In his presentation he said that iPhone5 is most likely to have transparent Retina display with a laser projected keyboard. The graphics will sharper than ever before. The concept would set the expectation of the fans to a pretty high level and will make wait for this device even more difficult. But achieving this expectation would require a revolutionary change in the hardware and software of iPhone. However the teenager’s dreams are most unlikely to become real. But expectation of a larger screen is not an extravagant thought.\\r\\n\\r\\nIOS6 feature is most likely to be included in iPhone5. One major change that iPhone5 owner will get is the way they would answer the calls. IOS6 will give you more options than just Answer and decline. The users can save a preprogrammed message if they are too busy to receive the calls. They would also be able to set a remainder to call that person later. If you don’t want to receive calls from a particular person in a particular time you can use the option Do Not Disturb.\\r\\n\\r\\nApple map will be other revolutionary inclusion in iPhone5. This time Apple is dared to ditch their default map Google map and they have introduced a new map that will provide step by step directions.\\r\\n\\r\\n\\r\\n\\r\\n\\r\\n\\r\\nRead more at TechGadgetsWeb\\r\\n\\r\\nSource:</td>\n",
              "    </tr>\n",
              "    <tr>\n",
              "      <th>2</th>\n",
              "      <td>not-fake</td>\n",
              "      <td>E-mail:\\r\\n\\r\\nScreen Name:\\r\\n\\r\\nPassword:\\r\\n\\r\\nConfirm password:\\r\\n\\r\\nPlease type the code\\r\\n\\r\\nBy clicking 'Register', you confirm that you agree to our Privacy Policy and give your consent to the processing of personal data in accordance with the Privacy Policy</td>\n",
              "    </tr>\n",
              "    <tr>\n",
              "      <th>3</th>\n",
              "      <td>not-fake</td>\n",
              "      <td>by: otterwood\\r\\n\\r\\nSince the end of January US oil production has fallen at an average weekly rate of 21mbd (thousand barrels of oil per day), see the chart below. The the oil rig count has also steadily declined with the rig count falling by 8 last week to 343.\\r\\n\\r\\nWith production and rig counts down and oil prices back to $$45 per barrel the key question investors are asking is when will oil producers put rigs back to work?\\r\\n\\r\\nThere have been several estimates for the magic price that’ll restart production. We mentioned here shale producers claimed they were ready to come back at the low- to mid-$$40s range. Bloomberg highlights $$50 per barrel as the right price here, and notes that the world’s 50 biggest publicly traded oil companies stop bleeding cash at an average price of $$53 per barrel.\\r\\n\\r\\nArticle Continues Below\\r\\n\\r\\nAlthough prices are close to profitable levels production may not ramp up as quickly as some expect. First off last year’s failed attempt to restart production is still a painful memory for some producers who may be a little more guarded this time around. Also the global oil industry cut more than $$100 billion in spending last year which slows down producers’ ability to restart production.\\r\\n\\r\\nBank of America Merrill Lynch believes “the inertia behind current production declines is underappreciated” and US oil production could fall another 550mbd into year end. The next few weeks of oil production data will be important to understand where energy companies want to begin producing again.\\r\\n\\r\\nFollow IWB on Facebook and Twitter Follow @InvestWatchBlog\\r\\n\\r\\n\\r\\n\\r\\n26 views</td>\n",
              "    </tr>\n",
              "    <tr>\n",
              "      <th>4</th>\n",
              "      <td>not-fake</td>\n",
              "      <td>I’ve been living in the Tokyo area since the time of the Fukushima Daiichi catastrophe (2011/03), and for the most part it has been good to see the international concern and increased support for the anti-nuclear movement. Yet some of the reactions haven’t been helpful at all. There has been a lot of alarmism and hyperbole over the tragedy arising from a failure to see it in the historical context of similar industrial accidents and atrocities.\\r\\n\\r\\nThere have been many disasters which have had devastating impacts on vulnerable populations, yet most of them have received less international recognition and sympathy than Fukushima. Much of the outrage over Fukushima has implied, unintentionally perhaps, an outrage that it happened to people in an advanced nation, or that it threatens the west coast of North America with what some believe to be an apocalyptic wave of radiation. There has never been this much concern for the fallout that affected the inhabitants of the Bikini Islands, Christmas Island, Fangataufa, Lop Nor, or “The Polygon” in Kazakhstan—some of the sites where the US, the UK, France, China and the USSR tested nuclear weapons. One could add to the list dozens of eco-disaster zones where forgotten people have had to live with the imposed risks of chemical pollution.\\r\\n\\r\\nIn order to put Fukushima in a global and historical context of ecological disasters, the rest of this article will discuss the humanitarian and environmental catastrophes in Kazakhstan and the Southern Urals of Russia. These Central Asian catastrophes have never received the level of attention given to the Fukushima Daiichi meltdowns, even though the environmental, health and social impacts have been far worse.</td>\n",
              "    </tr>\n",
              "  </tbody>\n",
              "</table>"
            ],
            "text/plain": [
              "<IPython.core.display.HTML object>"
            ]
          },
          "metadata": {
            "tags": []
          }
        }
      ]
    },
    {
      "cell_type": "code",
      "metadata": {
        "id": "HfkH_dlhIwx0"
      },
      "source": [
        "from datasets import DatasetDict\n",
        "# 90% train, 10% test + validation\n",
        "train_testvalid = dataset.train_test_split(test_size=0.1)\n",
        "# Split the 10% test + valid in half test, half valid\n",
        "test_valid = train_testvalid[\"test\"].train_test_split(test_size=0.5)\n",
        "fake_news_ds = DatasetDict({\n",
        "    \"train\": train_testvalid[\"train\"],\n",
        "    \"test\": test_valid[\"test\"],\n",
        "    \"validation\": test_valid[\"train\"]})"
      ],
      "execution_count": null,
      "outputs": []
    },
    {
      "cell_type": "code",
      "metadata": {
        "colab": {
          "base_uri": "https://localhost:8080/"
        },
        "id": "UtUekczHJT0G",
        "outputId": "b41a1ea1-a759-4575-bcca-0c21cf8259f8"
      },
      "source": [
        "fake_news_ds"
      ],
      "execution_count": null,
      "outputs": [
        {
          "output_type": "execute_result",
          "data": {
            "text/plain": [
              "DatasetDict({\n",
              "    train: Dataset({\n",
              "        features: ['labels', 'content'],\n",
              "        num_rows: 115168\n",
              "    })\n",
              "    test: Dataset({\n",
              "        features: ['labels', 'content'],\n",
              "        num_rows: 6399\n",
              "    })\n",
              "    validation: Dataset({\n",
              "        features: ['labels', 'content'],\n",
              "        num_rows: 6398\n",
              "    })\n",
              "})"
            ]
          },
          "metadata": {
            "tags": []
          },
          "execution_count": 27
        }
      ]
    },
    {
      "cell_type": "code",
      "metadata": {
        "colab": {
          "base_uri": "https://localhost:8080/",
          "height": 213,
          "referenced_widgets": [
            "bee56091443f407b972dea945c181fdb",
            "5af1886a722d4d4bbb2001880d174224",
            "df88d97ad54844e18e3cea306abdb1c2",
            "98a6f78156c34cdb9eb4c9c8e1af4051",
            "e0aa8035899a4cbda30bd4a81abfa364",
            "afe3b3b4383b43beb9473ecd30e76e67",
            "80799f34db8a4c65ac8a6efbb8ed751e",
            "e12a0134b7fb4203b6358b701f876414",
            "9c41c3f27e5340428f84c383a339fdba",
            "7fe1d7287af04d409bd16cf73c84ff68",
            "8de1af7a33b94d03926e897a5e0c553f",
            "55a890fe9fd34e06b1904af97f8a4a2d",
            "1983762b7b874226aab97fad6cf99668",
            "c80370ea3ab446f481c3215f3dd4bab5",
            "c5b3a5f80ae7492f962b1dd8a45e492a",
            "3adfec0c3314446baa8d84f7bdb058ff",
            "6bcf300d40944b02ba89a6740d527979",
            "62d39ebce505440f935748a545aef584",
            "11ce7a837f9549cdbd30d59ac0c46004",
            "687661bc026a4deab9d070c732df03e9",
            "d7c3066263ee4f8e91b19537d973ea33",
            "8c7b880c06a8459d95d48dab02f5c609",
            "632706c4db644ab59e45ef58e8f4a6ba",
            "e0750a189d814ab3a1a122d69d214f5a",
            "e98b24472fd842fbace0325fc546b443",
            "e48b6eb4443f424d8e7685c09fbed452",
            "8ed7303b00014540b4a9d711fea07758",
            "47d03fa0e79a48dcaad2d6e49c960c40",
            "e4b7844358254d50a3bd7be177065974",
            "365956b8a8b24ed6aa8e48599bbad84a",
            "4e07f79381f64b78bc140f1169dafe1c",
            "b2614002598d40d192b0810d5b679a0f"
          ]
        },
        "id": "f0yIL0vEFfMr",
        "outputId": "c83e9f31-c3e4-458d-8c89-7f8b8a0d6ce4"
      },
      "source": [
        "# from transformers import RobertaTokenizer, RobertaModel\n",
        "\n",
        "# model_name = 'roberta-base'\n",
        "# model = RobertaModel.from_pretrained(model_name)\n",
        "# tokenizer = RobertaTokenizer.from_pretrained(model_name, use_fast=True)"
      ],
      "execution_count": null,
      "outputs": [
        {
          "output_type": "display_data",
          "data": {
            "application/vnd.jupyter.widget-view+json": {
              "model_id": "bee56091443f407b972dea945c181fdb",
              "version_minor": 0,
              "version_major": 2
            },
            "text/plain": [
              "HBox(children=(FloatProgress(value=0.0, description='Downloading', max=481.0, style=ProgressStyle(description_…"
            ]
          },
          "metadata": {
            "tags": []
          }
        },
        {
          "output_type": "stream",
          "text": [
            "\n"
          ],
          "name": "stdout"
        },
        {
          "output_type": "display_data",
          "data": {
            "application/vnd.jupyter.widget-view+json": {
              "model_id": "9c41c3f27e5340428f84c383a339fdba",
              "version_minor": 0,
              "version_major": 2
            },
            "text/plain": [
              "HBox(children=(FloatProgress(value=0.0, description='Downloading', max=501200538.0, style=ProgressStyle(descri…"
            ]
          },
          "metadata": {
            "tags": []
          }
        },
        {
          "output_type": "stream",
          "text": [
            "\n"
          ],
          "name": "stdout"
        },
        {
          "output_type": "display_data",
          "data": {
            "application/vnd.jupyter.widget-view+json": {
              "model_id": "6bcf300d40944b02ba89a6740d527979",
              "version_minor": 0,
              "version_major": 2
            },
            "text/plain": [
              "HBox(children=(FloatProgress(value=0.0, description='Downloading', max=898823.0, style=ProgressStyle(descripti…"
            ]
          },
          "metadata": {
            "tags": []
          }
        },
        {
          "output_type": "stream",
          "text": [
            "\n"
          ],
          "name": "stdout"
        },
        {
          "output_type": "display_data",
          "data": {
            "application/vnd.jupyter.widget-view+json": {
              "model_id": "e98b24472fd842fbace0325fc546b443",
              "version_minor": 0,
              "version_major": 2
            },
            "text/plain": [
              "HBox(children=(FloatProgress(value=0.0, description='Downloading', max=456318.0, style=ProgressStyle(descripti…"
            ]
          },
          "metadata": {
            "tags": []
          }
        },
        {
          "output_type": "stream",
          "text": [
            "\n"
          ],
          "name": "stdout"
        }
      ]
    },
    {
      "cell_type": "code",
      "metadata": {
        "colab": {
          "base_uri": "https://localhost:8080/",
          "height": 164,
          "referenced_widgets": [
            "844ca97e6a194795886e4d025d802983",
            "05dfc162888e4262b90271bff0c76bd0",
            "0a2af1be15fe4b11bb72f338b77e3d5c",
            "728a99c90f214c85a413e4e8fd0007a7",
            "697150d55a0b4a96a689c3fd536196d5",
            "9ae8844583664332853b4061d7f712cc",
            "1cce0accc7054f4f99d67b19a03b67c4",
            "01e66ff5d0bd486ca96de56c9402ae00",
            "46e392b8df834ea8a61ef428eb24f85a",
            "52da62364cc4476cb0d4496681d482da",
            "9b7e269abef345d6baa4d4926eb163eb",
            "2add92f7c54c4a60b5170db71b599385",
            "126f3768162a48629b01a05d599cb513",
            "bd25672a6a7345d38aa2c83a290e7fac",
            "784d837823ca49c78e4565b08cb1fab2",
            "687d4a674bb547fbbf6dcc91f1ebd76f",
            "154a6bff290442e8b53fd30060fddd4f",
            "0d573c64b9514925b5481690ff2ce3c8",
            "845b1446a03e4f9da08b2877e9523ae7",
            "a8d7a52b14d548a39db1ee68e9d4b722",
            "8183fc1f79de4885ad5ca154ebb0ce0a",
            "d46fe90540354eca8ec5090684f70703",
            "4631e7be739241b091d0bb768ec01321",
            "7d1b2bae6297455c9de9c3ac746bf9dc"
          ]
        },
        "id": "rGVzO7Rsbi-6",
        "outputId": "05ad45ff-90c7-45f7-d01e-15038a275712"
      },
      "source": [
        "from transformers import AutoConfig, AutoModelForSequenceClassification, AutoTokenizer\n",
        "\n",
        "model_name = 'xlm-roberta-base'\n",
        "config = AutoConfig.from_pretrained(model_name, num_labels=2)\n",
        "model = AutoModelForSequenceClassification.from_config(config=config)\n",
        "tokenizer = AutoTokenizer.from_pretrained(model_name)"
      ],
      "execution_count": null,
      "outputs": [
        {
          "output_type": "display_data",
          "data": {
            "application/vnd.jupyter.widget-view+json": {
              "model_id": "844ca97e6a194795886e4d025d802983",
              "version_minor": 0,
              "version_major": 2
            },
            "text/plain": [
              "HBox(children=(FloatProgress(value=0.0, description='Downloading', max=512.0, style=ProgressStyle(description_…"
            ]
          },
          "metadata": {
            "tags": []
          }
        },
        {
          "output_type": "stream",
          "text": [
            "\n"
          ],
          "name": "stdout"
        },
        {
          "output_type": "display_data",
          "data": {
            "application/vnd.jupyter.widget-view+json": {
              "model_id": "46e392b8df834ea8a61ef428eb24f85a",
              "version_minor": 0,
              "version_major": 2
            },
            "text/plain": [
              "HBox(children=(FloatProgress(value=0.0, description='Downloading', max=5069051.0, style=ProgressStyle(descript…"
            ]
          },
          "metadata": {
            "tags": []
          }
        },
        {
          "output_type": "stream",
          "text": [
            "\n"
          ],
          "name": "stdout"
        },
        {
          "output_type": "display_data",
          "data": {
            "application/vnd.jupyter.widget-view+json": {
              "model_id": "154a6bff290442e8b53fd30060fddd4f",
              "version_minor": 0,
              "version_major": 2
            },
            "text/plain": [
              "HBox(children=(FloatProgress(value=0.0, description='Downloading', max=9096718.0, style=ProgressStyle(descript…"
            ]
          },
          "metadata": {
            "tags": []
          }
        },
        {
          "output_type": "stream",
          "text": [
            "\n"
          ],
          "name": "stdout"
        }
      ]
    },
    {
      "cell_type": "code",
      "metadata": {
        "colab": {
          "base_uri": "https://localhost:8080/",
          "height": 311,
          "referenced_widgets": [
            "4a5536076eb148dba48152a945b4b9b9",
            "ceb2226326254bf6842ad4d3f0ee1cd5",
            "ec076fa530d54d97947dff31c9ff2c97",
            "87de819ddc3a487b8b23e3216ed12fa9",
            "c028c44029bf4bf2834393031c42315f",
            "81f45ff93df045b88ee322696a31677c",
            "99a01359217a442c9349b57d44923e87",
            "75a21b9dc51c4d2cb81cf760378aed1b",
            "b133868ad9e94021a13060dace363641",
            "bad439fee7b145e2b4731cf1c69392c1",
            "ca1160e12fb4460bac7514a9fbf057d3",
            "755823f1a35c4e2fa6a77ceb2411dd81",
            "49db3eefb876447cae6540aff471fb8b",
            "333e913ce1af4d0fa33b20f7fff5b569",
            "dcb1ac2dc40e426fbbc102b8398a9975",
            "e1262638207141ceb3217c863891d74c",
            "6ec1ec74450b4f368c978abccdea49c3",
            "4f67e3d939c04422a7f74d3fbf7a9273",
            "8df450f4e9aa4fe2824ea763a3d14b46",
            "d6c95cf0668a44c390ece34cbd7da58c",
            "151da75c086f415a8f22432dbb911196",
            "ea139b1fdd294ded8fd764ea4fd9750c",
            "849e2268a04b4aa481eb410156dc4440",
            "66d33b14d915469dbc9a39c129d687af",
            "eb1db2d4c2ed4d6eaf9af3270bb55c66",
            "80b617037713407b99d5fbfadb1ea25b",
            "671452a9eb79423298bc47223f02022c",
            "b4c8f44ae7f14ead9109075846b209df",
            "b104c7c8a05640708aedf97a8bf79e80",
            "e485706eb6df4bc681315beb8235323b",
            "0807d6eaf2364a3fa28cc6389be9db7a",
            "3abb4f5faeeb44e689868c897ee24ada",
            "28af41d72e2f4824bec567ea78b68c97",
            "53e0a582405540e982fbfa0fd77b9244",
            "c4264d6d389d4c71bf9a22df836a8020",
            "130eaefd36ae4f2388bc708dd9c5b4ee",
            "a7c06694bea5472c96e7223d8b1a091a",
            "871327b725634a7bb5d2891d1bfca2d1",
            "6a036e73d3474d15bdb546186d64ca0a",
            "4f59a2f294314bb981641019b099481e",
            "155454c64ed847dda3a9672f6e67b4c9",
            "d01e39dd802a437e901606249e5f13c5",
            "c0476af5b90f48b88c268062acb7408a",
            "01a021ce8980445381e824ff7e5e675e",
            "f1b6c01d95454d1ab643e2759b2a34af",
            "abb1803cf55747d582a2e342dd279dac",
            "37e1d23843c54c9d9361d2ef46ff75d8",
            "a245b08998684d9b821991b4b15a6668"
          ]
        },
        "id": "p2p8aSVW_Tj1",
        "outputId": "c96390ba-c8b5-4bf4-e35f-e8197d545cf2"
      },
      "source": [
        "def preprocess_function(examples):\n",
        "    return tokenizer(examples['content'], truncation=True , padding=True)\n",
        "\n",
        "#all strings to be encoded \n",
        "\n",
        "def convert_labels_to_int(example):\n",
        "   if example['labels'] == 'fake':\n",
        "     example['labels'] = 1\n",
        "   else:\n",
        "     example['labels'] = 0\n",
        "   return example\n",
        "\n",
        "encoded_dataset = fake_news_ds.map(preprocess_function, batched=True)\n",
        "encoded_dataset = encoded_dataset.map(convert_labels_to_int)"
      ],
      "execution_count": null,
      "outputs": [
        {
          "output_type": "display_data",
          "data": {
            "application/vnd.jupyter.widget-view+json": {
              "model_id": "4a5536076eb148dba48152a945b4b9b9",
              "version_minor": 0,
              "version_major": 2
            },
            "text/plain": [
              "HBox(children=(FloatProgress(value=0.0, max=116.0), HTML(value='')))"
            ]
          },
          "metadata": {
            "tags": []
          }
        },
        {
          "output_type": "stream",
          "text": [
            "\n"
          ],
          "name": "stdout"
        },
        {
          "output_type": "display_data",
          "data": {
            "application/vnd.jupyter.widget-view+json": {
              "model_id": "b133868ad9e94021a13060dace363641",
              "version_minor": 0,
              "version_major": 2
            },
            "text/plain": [
              "HBox(children=(FloatProgress(value=0.0, max=7.0), HTML(value='')))"
            ]
          },
          "metadata": {
            "tags": []
          }
        },
        {
          "output_type": "stream",
          "text": [
            "\n"
          ],
          "name": "stdout"
        },
        {
          "output_type": "display_data",
          "data": {
            "application/vnd.jupyter.widget-view+json": {
              "model_id": "6ec1ec74450b4f368c978abccdea49c3",
              "version_minor": 0,
              "version_major": 2
            },
            "text/plain": [
              "HBox(children=(FloatProgress(value=0.0, max=7.0), HTML(value='')))"
            ]
          },
          "metadata": {
            "tags": []
          }
        },
        {
          "output_type": "stream",
          "text": [
            "\n"
          ],
          "name": "stdout"
        },
        {
          "output_type": "display_data",
          "data": {
            "application/vnd.jupyter.widget-view+json": {
              "model_id": "eb1db2d4c2ed4d6eaf9af3270bb55c66",
              "version_minor": 0,
              "version_major": 2
            },
            "text/plain": [
              "HBox(children=(FloatProgress(value=0.0, max=115168.0), HTML(value='')))"
            ]
          },
          "metadata": {
            "tags": []
          }
        },
        {
          "output_type": "stream",
          "text": [
            "\n"
          ],
          "name": "stdout"
        },
        {
          "output_type": "display_data",
          "data": {
            "application/vnd.jupyter.widget-view+json": {
              "model_id": "28af41d72e2f4824bec567ea78b68c97",
              "version_minor": 0,
              "version_major": 2
            },
            "text/plain": [
              "HBox(children=(FloatProgress(value=0.0, max=6399.0), HTML(value='')))"
            ]
          },
          "metadata": {
            "tags": []
          }
        },
        {
          "output_type": "stream",
          "text": [
            "\n"
          ],
          "name": "stdout"
        },
        {
          "output_type": "display_data",
          "data": {
            "application/vnd.jupyter.widget-view+json": {
              "model_id": "155454c64ed847dda3a9672f6e67b4c9",
              "version_minor": 0,
              "version_major": 2
            },
            "text/plain": [
              "HBox(children=(FloatProgress(value=0.0, max=6398.0), HTML(value='')))"
            ]
          },
          "metadata": {
            "tags": []
          }
        },
        {
          "output_type": "stream",
          "text": [
            "\n"
          ],
          "name": "stdout"
        }
      ]
    },
    {
      "cell_type": "code",
      "metadata": {
        "id": "RHB61dduWUaF"
      },
      "source": [
        "def encode_domain(examples):\n",
        "    return tokenizer(examples['domain'], truncation=True, padding=True )\n",
        "\n",
        "def encode_authors(examples):\n",
        "    return tokenizer(examples['authors'], truncation=True, padding=True )\n",
        "\n",
        "def encode_title(examples):\n",
        "    return tokenizer(examples['title'], truncation=True, padding=True )\n",
        "\n",
        "def encode_url(examples):\n",
        "    return tokenizer(examples['url'], truncation=True, padding=True )    \n"
      ],
      "execution_count": null,
      "outputs": []
    },
    {
      "cell_type": "code",
      "metadata": {
        "id": "g3E6P7aWZBnt"
      },
      "source": [
        "# encoded_dataset = encoded_dataset.map(encode_domain)\n",
        "# encoded_dataset = encoded_dataset.map(encode_authors)\n",
        "# encoded_dataset = encoded_dataset.map(encode_title)\n",
        "# encoded_dataset = encoded_dataset.map(encode_url)"
      ],
      "execution_count": null,
      "outputs": []
    },
    {
      "cell_type": "code",
      "metadata": {
        "id": "lGPUsyh2HBMv"
      },
      "source": [
        "show_random_elements(encoded_dataset['train'])"
      ],
      "execution_count": null,
      "outputs": []
    },
    {
      "cell_type": "code",
      "metadata": {
        "colab": {
          "base_uri": "https://localhost:8080/"
        },
        "id": "sa_cwnyzUMrE",
        "outputId": "a3c5a7fe-e971-408d-8549-b25466078f93"
      },
      "source": [
        "encoded_dataset"
      ],
      "execution_count": null,
      "outputs": [
        {
          "output_type": "execute_result",
          "data": {
            "text/plain": [
              "DatasetDict({\n",
              "    train: Dataset({\n",
              "        features: ['attention_mask', 'content', 'input_ids', 'labels'],\n",
              "        num_rows: 115168\n",
              "    })\n",
              "    test: Dataset({\n",
              "        features: ['attention_mask', 'content', 'input_ids', 'labels'],\n",
              "        num_rows: 6399\n",
              "    })\n",
              "    validation: Dataset({\n",
              "        features: ['attention_mask', 'content', 'input_ids', 'labels'],\n",
              "        num_rows: 6398\n",
              "    })\n",
              "})"
            ]
          },
          "metadata": {
            "tags": []
          },
          "execution_count": 28
        }
      ]
    },
    {
      "cell_type": "code",
      "metadata": {
        "id": "z0xrNiGuFReq"
      },
      "source": [
        "from transformers import Trainer, TrainingArguments\n",
        "metric_name = \"accuracy\"\n",
        "\n",
        "args = TrainingArguments(\n",
        "    \"fake-new\",\n",
        "    evaluation_strategy = \"epoch\",\n",
        "    learning_rate=2e-5,\n",
        "    per_device_train_batch_size=8,\n",
        "    per_device_eval_batch_size=8,\n",
        "    num_train_epochs=1,\n",
        "    weight_decay=0.01,\n",
        "    load_best_model_at_end=True,\n",
        "    metric_for_best_model=metric_name,\n",
        "    save_steps=1000,\n",
        "    save_total_limit=200\n",
        ")"
      ],
      "execution_count": null,
      "outputs": []
    },
    {
      "cell_type": "code",
      "metadata": {
        "id": "dzlXwskhFcFz"
      },
      "source": [
        "metric = datasets.load_metric('accuracy')\n",
        "def compute_metrics(eval_pred):\n",
        "    predictions, labels = eval_pred\n",
        "    predictions = np.argmax(predictions, axis=1)\n",
        "    return metric.compute(predictions=predictions, references=labels)"
      ],
      "execution_count": null,
      "outputs": []
    },
    {
      "cell_type": "code",
      "metadata": {
        "id": "pj_a4y4TFmLL"
      },
      "source": [
        "validation_key = \"validation\"\n",
        "trainer = Trainer(\n",
        "    model,\n",
        "    args,\n",
        "    train_dataset=encoded_dataset[\"train\"],\n",
        "    eval_dataset=encoded_dataset[\"validation\"],\n",
        "    tokenizer=tokenizer,\n",
        "    compute_metrics=compute_metrics\n",
        ")"
      ],
      "execution_count": null,
      "outputs": []
    },
    {
      "cell_type": "code",
      "metadata": {
        "colab": {
          "base_uri": "https://localhost:8080/",
          "height": 201
        },
        "id": "H6BZ5EJuHWE1",
        "outputId": "f70d2246-7dff-4d5b-cdea-1948865a41b4"
      },
      "source": [
        "trainer.train()"
      ],
      "execution_count": null,
      "outputs": [
        {
          "output_type": "display_data",
          "data": {
            "text/html": [
              "\n",
              "    <div>\n",
              "        <style>\n",
              "            /* Turns off some styling */\n",
              "            progress {\n",
              "                /* gets rid of default border in Firefox and Opera. */\n",
              "                border: none;\n",
              "                /* Needs to be in here for Safari polyfill so background images work as expected. */\n",
              "                background-size: auto;\n",
              "            }\n",
              "        </style>\n",
              "      \n",
              "      <progress value='7307' max='14396' style='width:300px; height:20px; vertical-align: middle;'></progress>\n",
              "      [ 7307/14396 1:47:34 < 1:44:23, 1.13 it/s, Epoch 0.51/1]\n",
              "    </div>\n",
              "    <table border=\"1\" class=\"dataframe\">\n",
              "  <thead>\n",
              "    <tr style=\"text-align: left;\">\n",
              "      <th>Epoch</th>\n",
              "      <th>Training Loss</th>\n",
              "      <th>Validation Loss</th>\n",
              "    </tr>\n",
              "  </thead>\n",
              "  <tbody>\n",
              "  </tbody>\n",
              "</table><p>"
            ],
            "text/plain": [
              "<IPython.core.display.HTML object>"
            ]
          },
          "metadata": {
            "tags": []
          }
        },
        {
          "output_type": "display_data",
          "data": {
            "text/html": [
              "\n",
              "    <div>\n",
              "        <style>\n",
              "            /* Turns off some styling */\n",
              "            progress {\n",
              "                /* gets rid of default border in Firefox and Opera. */\n",
              "                border: none;\n",
              "                /* Needs to be in here for Safari polyfill so background images work as expected. */\n",
              "                background-size: auto;\n",
              "            }\n",
              "        </style>\n",
              "      \n",
              "      <progress value='14396' max='14396' style='width:300px; height:20px; vertical-align: middle;'></progress>\n",
              "      [14396/14396 3:37:05, Epoch 1/1]\n",
              "    </div>\n",
              "    <table border=\"1\" class=\"dataframe\">\n",
              "  <thead>\n",
              "    <tr style=\"text-align: left;\">\n",
              "      <th>Epoch</th>\n",
              "      <th>Training Loss</th>\n",
              "      <th>Validation Loss</th>\n",
              "      <th>Accuracy</th>\n",
              "      <th>Runtime</th>\n",
              "      <th>Samples Per Second</th>\n",
              "    </tr>\n",
              "  </thead>\n",
              "  <tbody>\n",
              "    <tr>\n",
              "      <td>1</td>\n",
              "      <td>0.316500</td>\n",
              "      <td>0.321899</td>\n",
              "      <td>0.915130</td>\n",
              "      <td>213.839200</td>\n",
              "      <td>29.920000</td>\n",
              "    </tr>\n",
              "  </tbody>\n",
              "</table><p>"
            ],
            "text/plain": [
              "<IPython.core.display.HTML object>"
            ]
          },
          "metadata": {
            "tags": []
          }
        },
        {
          "output_type": "execute_result",
          "data": {
            "text/plain": [
              "TrainOutput(global_step=14396, training_loss=0.32360628705185035, metrics={'train_runtime': 13026.3002, 'train_samples_per_second': 1.105, 'total_flos': 98371301318393856, 'epoch': 1.0})"
            ]
          },
          "metadata": {
            "tags": []
          },
          "execution_count": 37
        }
      ]
    },
    {
      "cell_type": "code",
      "metadata": {
        "id": "nm5w4VXncfHN",
        "colab": {
          "base_uri": "https://localhost:8080/",
          "height": 122
        },
        "outputId": "29a19f92-02ff-4fe1-d4c6-cceb9b0538d7"
      },
      "source": [
        "trainer.evaluate()"
      ],
      "execution_count": null,
      "outputs": [
        {
          "output_type": "display_data",
          "data": {
            "text/html": [
              "\n",
              "    <div>\n",
              "        <style>\n",
              "            /* Turns off some styling */\n",
              "            progress {\n",
              "                /* gets rid of default border in Firefox and Opera. */\n",
              "                border: none;\n",
              "                /* Needs to be in here for Safari polyfill so background images work as expected. */\n",
              "                background-size: auto;\n",
              "            }\n",
              "        </style>\n",
              "      \n",
              "      <progress value='800' max='800' style='width:300px; height:20px; vertical-align: middle;'></progress>\n",
              "      [800/800 03:33]\n",
              "    </div>\n",
              "    "
            ],
            "text/plain": [
              "<IPython.core.display.HTML object>"
            ]
          },
          "metadata": {
            "tags": []
          }
        },
        {
          "output_type": "execute_result",
          "data": {
            "text/plain": [
              "{'epoch': 1.0,\n",
              " 'eval_accuracy': 0.9151297280400125,\n",
              " 'eval_loss': 0.3218992352485657,\n",
              " 'eval_runtime': 213.993,\n",
              " 'eval_samples_per_second': 29.898}"
            ]
          },
          "metadata": {
            "tags": []
          },
          "execution_count": 38
        }
      ]
    },
    {
      "cell_type": "code",
      "metadata": {
        "id": "D4TnpDj9sDBY"
      },
      "source": [
        "def label_to_text(input):\n",
        "  if input == 1:\n",
        "    return \"fake\"\n",
        "  else:\n",
        "    return \"not-fake\""
      ],
      "execution_count": null,
      "outputs": []
    },
    {
      "cell_type": "code",
      "metadata": {
        "id": "dE7CxWzzJG4d"
      },
      "source": [
        "prepared_input = tokenizer.prepare_seq2seq_batch([\"We appreciate your help! Click here to donate.\"], return_tensors='pt')\n",
        "model = model.to('cpu')\n",
        "model.eval()\n",
        "model_output = model(**prepared_input)\n",
        "prediction = np.argmax(model_output.logits[0].detach().numpy())\n",
        "#index_to_labels[prediction]\n",
        "label_to_text(prediction)"
      ],
      "execution_count": null,
      "outputs": []
    },
    {
      "cell_type": "markdown",
      "metadata": {
        "id": "QuyXnQXQaKn4"
      },
      "source": [
        "# Export model"
      ]
    },
    {
      "cell_type": "code",
      "metadata": {
        "id": "FXy9iOkPaO5O"
      },
      "source": [
        "model.save_pretrained(\"model/default\")\n",
        "!zip -r model/default.zip model/default"
      ],
      "execution_count": null,
      "outputs": []
    },
    {
      "cell_type": "code",
      "metadata": {
        "id": "-SKF8UDpabEk"
      },
      "source": [
        "from google.colab import files\n",
        "files.download(\"model/default.zip\")"
      ],
      "execution_count": null,
      "outputs": []
    }
  ]
}