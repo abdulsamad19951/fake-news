{
 "cells": [
  {
   "cell_type": "markdown",
   "metadata": {},
   "source": [
    "# Problem Statement: Classify whether news is reliable or not."
   ]
  },
  {
   "cell_type": "code",
   "execution_count": 5,
   "metadata": {},
   "outputs": [],
   "source": [
    "#import required libraries\n",
    "import pandas as pd\n",
    "import numpy as np\n",
    "import matplotlib.pyplot as plt  "
   ]
  },
  {
   "cell_type": "code",
   "execution_count": 6,
   "metadata": {},
   "outputs": [],
   "source": [
    "import numpy as np\n",
    "import pandas as pd\n",
    "import itertools\n",
    "from sklearn.model_selection import train_test_split\n",
    "from sklearn.feature_extraction.text import TfidfVectorizer\n",
    "from sklearn.linear_model import PassiveAggressiveClassifier\n",
    "from sklearn.metrics import accuracy_score, confusion_matrix"
   ]
  },
  {
   "cell_type": "code",
   "execution_count": 11,
   "metadata": {},
   "outputs": [],
   "source": [
    "#read data from file\n",
    "def load_data(filename):\n",
    "    if(filename.endswith('csv')):\n",
    "        data = pd.read_csv(filename)\n",
    "    if(filename.endswith('xls') or filename.endswith('xlsx')):\n",
    "        data = pd.read_excel(filename)\n",
    "    return data\n",
    "data= load_data('./archive/resized_v2.csv')"
   ]
  },
  {
   "cell_type": "markdown",
   "metadata": {},
   "source": [
    "Get eagle's view on the data"
   ]
  },
  {
   "cell_type": "code",
   "execution_count": 16,
   "metadata": {},
   "outputs": [
    {
     "name": "stdout",
     "output_type": "stream",
     "text": [
      "   Unnamed: 0  id                 domain        type  \\\n",
      "0           0  21   bipartisanreport.com   clickbait   \n",
      "1           1  22       theshovel.com.au      satire   \n",
      "2           2  54  blackagendareport.com  unreliable   \n",
      "3           3  61     barenakedislam.com        hate   \n",
      "4           4  64  blackagendareport.com  unreliable   \n",
      "\n",
      "                                                 url  \\\n",
      "0  http://bipartisanreport.com/cdn-cgi/l/email-pr...   \n",
      "1  http://www.theshovel.com.au/tag/malcolm-turnbu...   \n",
      "2  https://blackagendareport.com/what-western-imp...   \n",
      "3  http://barenakedislam.com/2018/01/08/wow-irani...   \n",
      "4  https://blackagendareport.com/articlelist/afri...   \n",
      "\n",
      "                                             content  \\\n",
      "0  The website from which you got to this page is...   \n",
      "1  For as long as he can remember, Malcolm Turnbu...   \n",
      "2  What Western Imperialism Is Up to Now in Zimba...   \n",
      "3  We appreciate your help! Click here to donate\\...   \n",
      "4  “The massacre of the mine workers in August of...   \n",
      "\n",
      "                   scraped_at                 inserted_at  \\\n",
      "0  2018-01-25 16:17:44.789555  2018-02-02 01:19:41.756632   \n",
      "1  2018-01-25 16:17:44.789555  2018-02-02 01:19:41.756632   \n",
      "2  2018-01-25 16:17:44.789555  2018-02-02 01:19:41.756632   \n",
      "3  2018-01-25 16:17:44.789555  2018-02-02 01:19:41.756632   \n",
      "4  2018-01-25 16:17:44.789555  2018-02-02 01:19:41.756632   \n",
      "\n",
      "                   updated_at  \\\n",
      "0  2018-02-02 01:19:41.756664   \n",
      "1  2018-02-02 01:19:41.756664   \n",
      "2  2018-02-02 01:19:41.756664   \n",
      "3  2018-02-02 01:19:41.756664   \n",
      "4  2018-02-02 01:19:41.756664   \n",
      "\n",
      "                                               title  \\\n",
      "0                                   Email Protection   \n",
      "1               malcolm turnbull satire – The Shovel   \n",
      "2  What Western Imperialism Is Up to Now in Zimbabwe   \n",
      "3  WOW! Iranian-Canadian protesters love Donald T...   \n",
      "4                                Black Agenda Report   \n",
      "\n",
      "                                             authors  keywords meta_keywords  \\\n",
      "0                                                NaN       NaN          ['']   \n",
      "1                                         The Shovel       NaN          ['']   \n",
      "2  Bruce A. Dixon, Bar Managing Editor, Glen Ford...       NaN          ['']   \n",
      "3  Cleavis Nowell, Don Spilman, Rick Oneil, Linda...       NaN          ['']   \n",
      "4  Ann Garrison, Bar Contributor, Boniface Musavu...       NaN          ['']   \n",
      "\n",
      "                                    meta_description  tags  summary source  \n",
      "0                                                NaN   NaN      NaN    NaN  \n",
      "1                                                NaN  3, 2      NaN    NaN  \n",
      "2  “The capitalist agenda is to neo-colonize Zimb...   NaN      NaN    NaN  \n",
      "3                                                NaN   NaN      NaN    NaN  \n",
      "4                                                NaN   NaN      NaN    NaN  \n"
     ]
    }
   ],
   "source": [
    "#Get Familiar with the data\n",
    "def UnderstandData(data):\n",
    "    print(data.head())\n",
    "          \n",
    "UnderstandData(data)    "
   ]
  },
  {
   "cell_type": "code",
   "execution_count": 17,
   "metadata": {},
   "outputs": [
    {
     "name": "stdout",
     "output_type": "stream",
     "text": [
      "          Unnamed: 0  keywords  summary\n",
      "count  426550.000000       0.0      0.0\n",
      "mean   213274.500000       NaN      NaN\n",
      "std    123134.522998       NaN      NaN\n",
      "min         0.000000       NaN      NaN\n",
      "25%    106637.250000       NaN      NaN\n",
      "50%    213274.500000       NaN      NaN\n",
      "75%    319911.750000       NaN      NaN\n",
      "max    426549.000000       NaN      NaN\n"
     ]
    }
   ],
   "source": [
    "#Get numerical understanding to data\n",
    "def describeData(data):\n",
    "    print(data.describe())\n",
    "describeData(data)    "
   ]
  },
  {
   "cell_type": "code",
   "execution_count": 18,
   "metadata": {},
   "outputs": [
    {
     "name": "stdout",
     "output_type": "stream",
     "text": [
      "Number of Rows and Columns:\n",
      " (426550, 17) \n",
      "\n",
      "Column Names are:\n",
      " Index(['Unnamed: 0', 'id', 'domain', 'type', 'url', 'content', 'scraped_at',\n",
      "       'inserted_at', 'updated_at', 'title', 'authors', 'keywords',\n",
      "       'meta_keywords', 'meta_description', 'tags', 'summary', 'source'],\n",
      "      dtype='object') \n",
      "\n",
      "Types of columns are:\n",
      " Unnamed: 0            int64\n",
      "id                   object\n",
      "domain               object\n",
      "type                 object\n",
      "url                  object\n",
      "content              object\n",
      "scraped_at           object\n",
      "inserted_at          object\n",
      "updated_at           object\n",
      "title                object\n",
      "authors              object\n",
      "keywords            float64\n",
      "meta_keywords        object\n",
      "meta_description     object\n",
      "tags                 object\n",
      "summary             float64\n",
      "source               object\n",
      "dtype: object \n",
      "\n"
     ]
    }
   ],
   "source": [
    "#Get Insights of data\n",
    "def basicAnalysis(data):\n",
    "    print(\"Number of Rows and Columns:\\n\", data.shape , \"\\n\")\n",
    "    print(\"Column Names are:\\n\", data.columns,\"\\n\" )\n",
    "    print(\"Types of columns are:\\n\", data.dtypes, \"\\n\")\n",
    "basicAnalysis(data)"
   ]
  },
  {
   "cell_type": "code",
   "execution_count": 19,
   "metadata": {},
   "outputs": [
    {
     "name": "stdout",
     "output_type": "stream",
     "text": [
      "Unnamed: 0               0\n",
      "id                       1\n",
      "domain                   5\n",
      "type                 20150\n",
      "url                      5\n",
      "content                  5\n",
      "scraped_at               6\n",
      "inserted_at              6\n",
      "updated_at               6\n",
      "title                 3642\n",
      "authors             189468\n",
      "keywords            426550\n",
      "meta_keywords        17137\n",
      "meta_description    224209\n",
      "tags                328314\n",
      "summary             426550\n",
      "source              332180\n",
      "dtype: int64\n"
     ]
    }
   ],
   "source": [
    "#Data Cleaning- Count Missing Values\n",
    "def countMissingValues(data):\n",
    "    #we remove missings first. Let's see how many missings we have\n",
    "    print(data.isnull().sum())\n",
    "countMissingValues(data) "
   ]
  },
  {
   "cell_type": "markdown",
   "metadata": {},
   "source": [
    "We can not use keywords, summary, source,tags, meta_description, meta_keywords, authors attributes as there are many missing values out of 426550 instances. "
   ]
  },
  {
   "cell_type": "markdown",
   "metadata": {},
   "source": [
    "Data Pre-Processing"
   ]
  },
  {
   "cell_type": "code",
   "execution_count": 20,
   "metadata": {},
   "outputs": [
    {
     "data": {
      "text/plain": [
       "Unnamed: 0            int64\n",
       "id                  float64\n",
       "domain               object\n",
       "type                 object\n",
       "url                  object\n",
       "content              object\n",
       "scraped_at           object\n",
       "inserted_at          object\n",
       "updated_at           object\n",
       "title                object\n",
       "authors              object\n",
       "keywords             object\n",
       "meta_keywords        object\n",
       "meta_description     object\n",
       "tags                 object\n",
       "summary              object\n",
       "source               object\n",
       "dtype: object"
      ]
     },
     "execution_count": 20,
     "metadata": {},
     "output_type": "execute_result"
    }
   ],
   "source": [
    "data['summary'] = data['summary'].astype('str') \n",
    "data['keywords'] = data['keywords'].astype('str') \n",
    "data['id'] = pd.to_numeric(data['id'], errors=\"coerce\")\n",
    "#have to deal with missing values firstly\n",
    "#data['id'] = data['id'].astype('int')\n",
    "#check data type after type conversion\n",
    "data.dtypes"
   ]
  },
  {
   "cell_type": "code",
   "execution_count": 21,
   "metadata": {},
   "outputs": [],
   "source": [
    "#Data Cleaning- Remove missing values by mode\n",
    "def removeMissingValuesByMode(data, cols):\n",
    "    modeval=data[cols].mode()[0]\n",
    "    #print(modeval.dtype)\n",
    "    data[cols].fillna(modeval,inplace=True)\n",
    "    return data"
   ]
  },
  {
   "cell_type": "code",
   "execution_count": 22,
   "metadata": {},
   "outputs": [
    {
     "name": "stdout",
     "output_type": "stream",
     "text": [
      "Unnamed: 0               0\n",
      "id                       6\n",
      "domain                   0\n",
      "type                     0\n",
      "url                      0\n",
      "content                  0\n",
      "scraped_at               6\n",
      "inserted_at              6\n",
      "updated_at               6\n",
      "title                    0\n",
      "authors             189468\n",
      "keywords                 0\n",
      "meta_keywords        17137\n",
      "meta_description    224209\n",
      "tags                328314\n",
      "summary                  0\n",
      "source              332180\n",
      "dtype: int64\n"
     ]
    }
   ],
   "source": [
    "removeMissingValuesByMode(data,'domain')\n",
    "removeMissingValuesByMode(data,'type')\n",
    "removeMissingValuesByMode(data,'title')\n",
    "removeMissingValuesByMode(data,'content')\n",
    "removeMissingValuesByMode(data,'url')\n",
    "countMissingValues(data) "
   ]
  },
  {
   "cell_type": "markdown",
   "metadata": {},
   "source": [
    "Data columns to be dropped are yet to be decided in team. \n",
    "I think we should remove Unnamed, id, [scraped_at,inserted_at,updated_at(these may be not)], authors,meta_keywords,meta_description, tags, summary,source."
   ]
  },
  {
   "cell_type": "code",
   "execution_count": 23,
   "metadata": {},
   "outputs": [
    {
     "data": {
      "text/plain": [
       "<matplotlib.axes._subplots.AxesSubplot at 0x7fbb75833400>"
      ]
     },
     "execution_count": 23,
     "metadata": {},
     "output_type": "execute_result"
    },
    {
     "data": {
      "image/png": "[encoded data removed]",
      "text/plain": [
       "<Figure size 432x288 with 1 Axes>"
      ]
     },
     "metadata": {
      "needs_background": "light"
     },
     "output_type": "display_data"
    }
   ],
   "source": [
    "data['type'].value_counts().plot(kind='bar')"
   ]
  },
  {
   "cell_type": "markdown",
   "metadata": {},
   "source": [
    "Ooops! we have invalid value in the type column, so we need to remove it."
   ]
  },
  {
   "cell_type": "code",
   "execution_count": 24,
   "metadata": {},
   "outputs": [],
   "source": [
    "#replace invalid values by mode\n",
    "data['type'] = data['type'].replace(['2018-02-10 13:43:39.521661'],'reliable')"
   ]
  },
  {
   "cell_type": "code",
   "execution_count": 25,
   "metadata": {},
   "outputs": [
    {
     "data": {
      "text/plain": [
       "<matplotlib.axes._subplots.AxesSubplot at 0x7fbb6fe376a0>"
      ]
     },
     "execution_count": 25,
     "metadata": {},
     "output_type": "execute_result"
    },
    {
     "data": {
      "image/png": "[encoded data removed]",
      "text/plain": [
       "<Figure size 432x288 with 1 Axes>"
      ]
     },
     "metadata": {
      "needs_background": "light"
     },
     "output_type": "display_data"
    }
   ],
   "source": [
    "data['type'].value_counts().plot(kind='bar')"
   ]
  },
  {
   "cell_type": "code",
   "execution_count": 30,
   "metadata": {},
   "outputs": [
    {
     "data": {
      "text/html": [
       "<div>\n",
       "<style scoped>\n",
       "    .dataframe tbody tr th:only-of-type {\n",
       "        vertical-align: middle;\n",
       "    }\n",
       "\n",
       "    .dataframe tbody tr th {\n",
       "        vertical-align: top;\n",
       "    }\n",
       "\n",
       "    .dataframe thead th {\n",
       "        text-align: right;\n",
       "    }\n",
       "</style>\n",
       "<table border=\"1\" class=\"dataframe\">\n",
       "  <thead>\n",
       "    <tr style=\"text-align: right;\">\n",
       "      <th></th>\n",
       "      <th>Unnamed: 0</th>\n",
       "      <th>id</th>\n",
       "      <th>domain</th>\n",
       "      <th>type</th>\n",
       "      <th>url</th>\n",
       "      <th>content</th>\n",
       "      <th>scraped_at</th>\n",
       "      <th>inserted_at</th>\n",
       "      <th>updated_at</th>\n",
       "      <th>title</th>\n",
       "      <th>authors</th>\n",
       "      <th>keywords</th>\n",
       "      <th>meta_keywords</th>\n",
       "      <th>meta_description</th>\n",
       "      <th>tags</th>\n",
       "      <th>summary</th>\n",
       "      <th>source</th>\n",
       "    </tr>\n",
       "  </thead>\n",
       "  <tbody>\n",
       "    <tr>\n",
       "      <th>0</th>\n",
       "      <td>0</td>\n",
       "      <td>21.0</td>\n",
       "      <td>bipartisanreport.com</td>\n",
       "      <td>clickbait</td>\n",
       "      <td>http://bipartisanreport.com/cdn-cgi/l/email-pr...</td>\n",
       "      <td>The website from which you got to this page is...</td>\n",
       "      <td>2018-01-25 16:17:44.789555</td>\n",
       "      <td>2018-02-02 01:19:41.756632</td>\n",
       "      <td>2018-02-02 01:19:41.756664</td>\n",
       "      <td>Email Protection</td>\n",
       "      <td>NaN</td>\n",
       "      <td>nan</td>\n",
       "      <td>['']</td>\n",
       "      <td>NaN</td>\n",
       "      <td>NaN</td>\n",
       "      <td>nan</td>\n",
       "      <td>NaN</td>\n",
       "    </tr>\n",
       "    <tr>\n",
       "      <th>1</th>\n",
       "      <td>1</td>\n",
       "      <td>22.0</td>\n",
       "      <td>theshovel.com.au</td>\n",
       "      <td>satire</td>\n",
       "      <td>http://www.theshovel.com.au/tag/malcolm-turnbu...</td>\n",
       "      <td>For as long as he can remember, Malcolm Turnbu...</td>\n",
       "      <td>2018-01-25 16:17:44.789555</td>\n",
       "      <td>2018-02-02 01:19:41.756632</td>\n",
       "      <td>2018-02-02 01:19:41.756664</td>\n",
       "      <td>malcolm turnbull satire – The Shovel</td>\n",
       "      <td>The Shovel</td>\n",
       "      <td>nan</td>\n",
       "      <td>['']</td>\n",
       "      <td>NaN</td>\n",
       "      <td>3, 2</td>\n",
       "      <td>nan</td>\n",
       "      <td>NaN</td>\n",
       "    </tr>\n",
       "    <tr>\n",
       "      <th>2</th>\n",
       "      <td>2</td>\n",
       "      <td>54.0</td>\n",
       "      <td>blackagendareport.com</td>\n",
       "      <td>unreliable</td>\n",
       "      <td>https://blackagendareport.com/what-western-imp...</td>\n",
       "      <td>What Western Imperialism Is Up to Now in Zimba...</td>\n",
       "      <td>2018-01-25 16:17:44.789555</td>\n",
       "      <td>2018-02-02 01:19:41.756632</td>\n",
       "      <td>2018-02-02 01:19:41.756664</td>\n",
       "      <td>What Western Imperialism Is Up to Now in Zimbabwe</td>\n",
       "      <td>Bruce A. Dixon, Bar Managing Editor, Glen Ford...</td>\n",
       "      <td>nan</td>\n",
       "      <td>['']</td>\n",
       "      <td>“The capitalist agenda is to neo-colonize Zimb...</td>\n",
       "      <td>NaN</td>\n",
       "      <td>nan</td>\n",
       "      <td>NaN</td>\n",
       "    </tr>\n",
       "    <tr>\n",
       "      <th>3</th>\n",
       "      <td>3</td>\n",
       "      <td>61.0</td>\n",
       "      <td>barenakedislam.com</td>\n",
       "      <td>hate</td>\n",
       "      <td>http://barenakedislam.com/2018/01/08/wow-irani...</td>\n",
       "      <td>We appreciate your help! Click here to donate\\...</td>\n",
       "      <td>2018-01-25 16:17:44.789555</td>\n",
       "      <td>2018-02-02 01:19:41.756632</td>\n",
       "      <td>2018-02-02 01:19:41.756664</td>\n",
       "      <td>WOW! Iranian-Canadian protesters love Donald T...</td>\n",
       "      <td>Cleavis Nowell, Don Spilman, Rick Oneil, Linda...</td>\n",
       "      <td>nan</td>\n",
       "      <td>['']</td>\n",
       "      <td>NaN</td>\n",
       "      <td>NaN</td>\n",
       "      <td>nan</td>\n",
       "      <td>NaN</td>\n",
       "    </tr>\n",
       "  </tbody>\n",
       "</table>\n",
       "</div>"
      ],
      "text/plain": [
       "   Unnamed: 0    id                 domain        type  \\\n",
       "0           0  21.0   bipartisanreport.com   clickbait   \n",
       "1           1  22.0       theshovel.com.au      satire   \n",
       "2           2  54.0  blackagendareport.com  unreliable   \n",
       "3           3  61.0     barenakedislam.com        hate   \n",
       "\n",
       "                                                 url  \\\n",
       "0  http://bipartisanreport.com/cdn-cgi/l/email-pr...   \n",
       "1  http://www.theshovel.com.au/tag/malcolm-turnbu...   \n",
       "2  https://blackagendareport.com/what-western-imp...   \n",
       "3  http://barenakedislam.com/2018/01/08/wow-irani...   \n",
       "\n",
       "                                             content  \\\n",
       "0  The website from which you got to this page is...   \n",
       "1  For as long as he can remember, Malcolm Turnbu...   \n",
       "2  What Western Imperialism Is Up to Now in Zimba...   \n",
       "3  We appreciate your help! Click here to donate\\...   \n",
       "\n",
       "                   scraped_at                 inserted_at  \\\n",
       "0  2018-01-25 16:17:44.789555  2018-02-02 01:19:41.756632   \n",
       "1  2018-01-25 16:17:44.789555  2018-02-02 01:19:41.756632   \n",
       "2  2018-01-25 16:17:44.789555  2018-02-02 01:19:41.756632   \n",
       "3  2018-01-25 16:17:44.789555  2018-02-02 01:19:41.756632   \n",
       "\n",
       "                   updated_at  \\\n",
       "0  2018-02-02 01:19:41.756664   \n",
       "1  2018-02-02 01:19:41.756664   \n",
       "2  2018-02-02 01:19:41.756664   \n",
       "3  2018-02-02 01:19:41.756664   \n",
       "\n",
       "                                               title  \\\n",
       "0                                   Email Protection   \n",
       "1               malcolm turnbull satire – The Shovel   \n",
       "2  What Western Imperialism Is Up to Now in Zimbabwe   \n",
       "3  WOW! Iranian-Canadian protesters love Donald T...   \n",
       "\n",
       "                                             authors keywords meta_keywords  \\\n",
       "0                                                NaN      nan          ['']   \n",
       "1                                         The Shovel      nan          ['']   \n",
       "2  Bruce A. Dixon, Bar Managing Editor, Glen Ford...      nan          ['']   \n",
       "3  Cleavis Nowell, Don Spilman, Rick Oneil, Linda...      nan          ['']   \n",
       "\n",
       "                                    meta_description  tags summary source  \n",
       "0                                                NaN   NaN     nan    NaN  \n",
       "1                                                NaN  3, 2     nan    NaN  \n",
       "2  “The capitalist agenda is to neo-colonize Zimb...   NaN     nan    NaN  \n",
       "3                                                NaN   NaN     nan    NaN  "
      ]
     },
     "execution_count": 30,
     "metadata": {},
     "output_type": "execute_result"
    }
   ],
   "source": [
    "data.head(4)"
   ]
  },
  {
   "cell_type": "markdown",
   "metadata": {},
   "source": [
    "# Basic Modelling"
   ]
  },
  {
   "cell_type": "code",
   "execution_count": 33,
   "metadata": {},
   "outputs": [],
   "source": [
    "data['type'] = data['type'].apply(lambda x: \"fake\" if x==\"fake\" else \"not-fake\" )"
   ]
  },
  {
   "cell_type": "code",
   "execution_count": 50,
   "metadata": {},
   "outputs": [
    {
     "data": {
      "text/plain": [
       "0    not-fake\n",
       "1    not-fake\n",
       "2    not-fake\n",
       "3    not-fake\n",
       "4    not-fake\n",
       "Name: type, dtype: object"
      ]
     },
     "execution_count": 50,
     "metadata": {},
     "output_type": "execute_result"
    }
   ],
   "source": [
    "labels = data[\"type\"]\n",
    "labels.head()"
   ]
  },
  {
   "cell_type": "code",
   "execution_count": 51,
   "metadata": {},
   "outputs": [
    {
     "data": {
      "text/plain": [
       "426550"
      ]
     },
     "execution_count": 51,
     "metadata": {},
     "output_type": "execute_result"
    }
   ],
   "source": [
    "len(labels)"
   ]
  },
  {
   "cell_type": "code",
   "execution_count": 53,
   "metadata": {},
   "outputs": [
    {
     "data": {
      "text/plain": [
       "44460"
      ]
     },
     "execution_count": 53,
     "metadata": {},
     "output_type": "execute_result"
    }
   ],
   "source": [
    "len(labels[labels==\"fake\"])"
   ]
  },
  {
   "cell_type": "markdown",
   "metadata": {},
   "source": [
    "## Fake rows are almost 1/10 of total rows. Hence problem gets difficult due to imbalance dataset. Will add smote for better sampling."
   ]
  },
  {
   "cell_type": "code",
   "execution_count": 39,
   "metadata": {},
   "outputs": [],
   "source": [
    "x_train,x_test,y_train,y_test=train_test_split(data['content'], labels, test_size=0.2, random_state=7)"
   ]
  },
  {
   "cell_type": "code",
   "execution_count": 41,
   "metadata": {},
   "outputs": [],
   "source": [
    "tfidf_vectorizer=TfidfVectorizer(stop_words='english', max_df=0.7)\n",
    "#Fit and transform train set, transform test set\n",
    "tfidf_train=tfidf_vectorizer.fit_transform(x_train) \n",
    "tfidf_test=tfidf_vectorizer.transform(x_test)"
   ]
  },
  {
   "cell_type": "code",
   "execution_count": 42,
   "metadata": {},
   "outputs": [
    {
     "name": "stdout",
     "output_type": "stream",
     "text": [
      "Accuracy: 94.02%\n"
     ]
    }
   ],
   "source": [
    "#Initialize a PassiveAggressiveClassifier\n",
    "pac=PassiveAggressiveClassifier(max_iter=50)\n",
    "pac.fit(tfidf_train,y_train)\n",
    "#Predict on the test set and calculate accuracy\n",
    "y_pred=pac.predict(tfidf_test)\n",
    "score=accuracy_score(y_test,y_pred)\n",
    "print(f'Accuracy: {round(score*100,2)}%')"
   ]
  },
  {
   "cell_type": "code",
   "execution_count": 54,
   "metadata": {},
   "outputs": [
    {
     "data": {
      "text/plain": [
       "array([[ 6124,  2779],\n",
       "       [ 2326, 74081]])"
      ]
     },
     "execution_count": 54,
     "metadata": {},
     "output_type": "execute_result"
    }
   ],
   "source": [
    "#Build confusion matrix\n",
    "confusion_matrix(y_test,y_pred, labels=['fake','not-fake'])"
   ]
  },
  {
   "cell_type": "code",
   "execution_count": null,
   "metadata": {},
   "outputs": [],
   "source": []
  }
 ],
 "metadata": {
  "kernelspec": {
   "display_name": "Python 3",
   "language": "python",
   "name": "python3"
  },
  "language_info": {
   "codemirror_mode": {
    "name": "ipython",
    "version": 3
   },
   "file_extension": ".py",
   "mimetype": "text/x-python",
   "name": "python",
   "nbconvert_exporter": "python",
   "pygments_lexer": "ipython3",
   "version": "3.8.3"
  }
 },
 "nbformat": 4,
 "nbformat_minor": 4
}
